{
 "cells": [
  {
   "cell_type": "code",
   "execution_count": 1,
   "id": "d1331adf",
   "metadata": {
    "scrolled": false
   },
   "outputs": [
    {
     "name": "stdout",
     "output_type": "stream",
     "text": [
      "930262 969.0208333333334 960\n"
     ]
    }
   ],
   "source": [
    "import mido\n",
    "import numpy as np\n",
    "import torch\n",
    "import pretty_midi\n",
    "from scipy.io.wavfile import write\n",
    "import fluidsynth\n",
    "\n",
    "def read_midi(filename):\n",
    "    file = mido.MidiFile(filename)\n",
    "    msg_cnt = 0\n",
    "    for i, track in enumerate(file.tracks):\n",
    "        print('Track {}: {}'.format(i, track.name))\n",
    "        for msg in track:\n",
    "            print(msg)\n",
    "# read_midi('example.midi')\n",
    "\n",
    "def get_midi_length_in_seconds(filename):\n",
    "    file = pretty_midi.PrettyMIDI(filename)\n",
    "    length_in_seconds = file.get_end_time()\n",
    "    return length_in_seconds\n",
    "\n",
    "def get_midi_sample_rate(filename):\n",
    "    s = get_midi_length_in_seconds(filename)\n",
    "    t = get_midi_timesteps(filename)\n",
    "    return int(t/s)\n",
    "\n",
    "def get_midi_timesteps(filename):\n",
    "    midi = mido.MidiFile(filename)\n",
    "    timesteps = 0\n",
    "    for track in midi.tracks:\n",
    "        for msg in track:\n",
    "            timesteps += msg.time\n",
    "    return timesteps\n",
    "\n",
    "TIMESTEPS = get_midi_timesteps(\"example.midi\")\n",
    "SECS = get_midi_length_in_seconds(\"example.midi\")\n",
    "SAMPLE_RATE = get_midi_sample_rate(\"example.midi\")\n",
    "print(TIMESTEPS, SECS, SAMPLE_RATE)"
   ]
  },
  {
   "cell_type": "code",
   "execution_count": 5,
   "outputs": [
    {
     "name": "stdout",
     "output_type": "stream",
     "text": [
      "{0, 7, 8, 9, 10, 11, 13, 18, 19, 20, 21, 23, 25, 26, 27, 28, 29, 30, 31, 32, 33, 34, 35, 36, 37, 38, 39, 40, 41, 42, 43, 44, 45, 46, 47, 48, 49, 50, 51, 52, 53, 54, 55, 56, 57, 58, 59, 60, 61, 62, 63, 64, 65, 66, 67, 68, 69, 70, 71, 72, 73, 74, 75, 76, 77, 78, 79, 80, 81, 82, 83, 84, 85, 86, 87, 88, 89, 90, 91, 92, 93, 94, 95, 96}\n"
     ]
    }
   ],
   "source": [
    "# how many velocities are available and how can we encode them more efficiently\n",
    "def velocity_count(filename):\n",
    "    midi = mido.MidiFile(filename)\n",
    "    velocities = set()\n",
    "    for track in midi.tracks:\n",
    "        for msg in track:\n",
    "            if msg.type == 'note_on':\n",
    "                velocities.add(msg.velocity)\n",
    "    return velocities\n",
    "print(velocity_count(\"example.midi\"))"
   ],
   "metadata": {
    "collapsed": false
   }
  },
  {
   "cell_type": "code",
   "execution_count": 2,
   "id": "23af0d0f",
   "metadata": {},
   "outputs": [
    {
     "name": "stdout",
     "output_type": "stream",
     "text": [
      "['Acoustic Grand Piano']\n"
     ]
    }
   ],
   "source": [
    "# print the name of the instruments being played\n",
    "def get_midi_instrument_types(filename):\n",
    "    midi = pretty_midi.PrettyMIDI(filename)\n",
    "    instrument_types = []\n",
    "    for instrument in midi.instruments:\n",
    "        # name of the instrument\n",
    "        instrument_types.append(pretty_midi.program_to_instrument_name(instrument.program))\n",
    "    return instrument_types\n",
    "\n",
    "instrument_types = get_midi_instrument_types(\"example.midi\")\n",
    "print(instrument_types)"
   ]
  },
  {
   "cell_type": "code",
   "execution_count": 3,
   "id": "66fa2a14",
   "metadata": {},
   "outputs": [
    {
     "data": {
      "text/plain": [
       "['set_tempo',\n",
       " 'time_signature',\n",
       " 'end_of_track',\n",
       " 'program_change',\n",
       " 'control_change',\n",
       " 'note_on']"
      ]
     },
     "execution_count": 3,
     "metadata": {},
     "output_type": "execute_result"
    }
   ],
   "source": [
    "# what types of messages we get?\n",
    "def print_midi_message_types(filename):\n",
    "    midi = mido.MidiFile(filename)\n",
    "    types = []\n",
    "    for track in midi.tracks:\n",
    "        for msg in track:\n",
    "            if msg.type not in types:\n",
    "                types.append(msg.type)\n",
    "    return types\n",
    "\n",
    "print_midi_message_types(\"example.midi\")"
   ]
  },
  {
   "cell_type": "code",
   "execution_count": 4,
   "id": "7e156b2a",
   "metadata": {},
   "outputs": [
    {
     "name": "stdout",
     "output_type": "stream",
     "text": [
      "torch.Size([930262, 128])\n"
     ]
    }
   ],
   "source": [
    "def midi_to_tensor(filename):\n",
    "    mid = mido.MidiFile(filename)\n",
    "    # Extract information about the notes being played\n",
    "    max_timesteps = get_midi_timesteps(filename)\n",
    "    tensor = np.zeros((max_timesteps, 128))\n",
    "    previous_note = [0] * 128\n",
    "    timesteps = 0\n",
    "    for track in mid.tracks:\n",
    "        for msg in track:\n",
    "            timesteps += msg.time\n",
    "            if msg.type == 'note_on':\n",
    "                tmp = previous_note[msg.note]\n",
    "                tensor[tmp:timesteps, msg.note] = tensor[tmp, msg.note]\n",
    "                tensor[timesteps, msg.note] = msg.velocity\n",
    "                previous_note[msg.note] = timesteps\n",
    "            if msg.type == 'note_off':\n",
    "                tmp = previous_note[msg.note]\n",
    "                tensor[tmp:timesteps, msg.note] = tensor[tmp, msg.note]\n",
    "                tensor[timesteps, msg.note] = 0\n",
    "                previous_note[msg.note] = timesteps\n",
    "    return torch.from_numpy(tensor)\n",
    "midi_tensor = midi_to_tensor(\"example.midi\")\n",
    "print(midi_tensor.shape)"
   ]
  },
  {
   "cell_type": "code",
   "execution_count": 5,
   "id": "f1b18f64",
   "metadata": {},
   "outputs": [
    {
     "data": {
      "text/plain": [
       "tensor([], dtype=torch.float64)"
      ]
     },
     "execution_count": 5,
     "metadata": {},
     "output_type": "execute_result"
    }
   ],
   "source": [
    "midi_tensor[0:0, 0]"
   ]
  },
  {
   "cell_type": "code",
   "execution_count": 6,
   "id": "d1772dec",
   "metadata": {
    "scrolled": false
   },
   "outputs": [],
   "source": [
    "def tensor_to_midi(tensor, filename):\n",
    "    # Create a MIDI file\n",
    "    mid = mido.MidiFile()\n",
    "    track = mido.MidiTrack()\n",
    "    mid.tracks.append(track)\n",
    "\n",
    "    # Convert the tensor into messages\n",
    "    current_timestep = 0\n",
    "    for timestep in range(1,tensor.shape[0]):\n",
    "        for note in range(0,128):\n",
    "            if tensor[timestep, note] - tensor[timestep - 1, note] != 0:\n",
    "                velocity = int(tensor[timestep, note])\n",
    "                msg = mido.Message('note_on', note=note, velocity=velocity, time=timestep-current_timestep)\n",
    "                track.append(msg)\n",
    "                current_timestep = timestep\n",
    "\n",
    "    # Save the MIDI file\n",
    "    mid.save(filename)\n",
    "tensor_to_midi(midi_tensor[:93026],'test.midi')"
   ]
  },
  {
   "cell_type": "code",
   "execution_count": 7,
   "id": "e7a2775e",
   "metadata": {},
   "outputs": [
    {
     "name": "stderr",
     "output_type": "stream",
     "text": [
      "fluidsynth: error: Unknown integer parameter 'synth.sample-rate'\n"
     ]
    }
   ],
   "source": [
    "def midi_to_wav(midi_filename, sf2_dir, wav_filename, sample_rate=44100):\n",
    "    midi_data = pretty_midi.PrettyMIDI(midi_filename)\n",
    "    audio_data = midi_data.fluidsynth(fs=44100, sf2_path = sf2_dir)\n",
    "    #soundFontPickedFrom Fluid Release 3\n",
    "    with open(wav_filename, 'wb') as f:\n",
    "        write(f, sample_rate, audio_data[:44100*10])\n",
    "\n",
    "midi_filename = \"example.midi\"\n",
    "sf2_path = 'FluidR3_GM.sf2'\n",
    "wav_filename = \"example.wav\"\n",
    "midi_to_wav(midi_filename, sf2_path, wav_filename)"
   ]
  },
  {
   "cell_type": "code",
   "execution_count": null,
   "id": "10cc0f28",
   "metadata": {},
   "outputs": [],
   "source": []
  }
 ],
 "metadata": {
  "kernelspec": {
   "display_name": "Python 3 (ipykernel)",
   "language": "python",
   "name": "python3"
  },
  "language_info": {
   "codemirror_mode": {
    "name": "ipython",
    "version": 3
   },
   "file_extension": ".py",
   "mimetype": "text/x-python",
   "name": "python",
   "nbconvert_exporter": "python",
   "pygments_lexer": "ipython3",
   "version": "3.10.8"
  }
 },
 "nbformat": 4,
 "nbformat_minor": 5
}
