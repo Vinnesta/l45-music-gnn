{
  "nbformat": 4,
  "nbformat_minor": 0,
  "metadata": {
    "colab": {
      "provenance": [],
      "collapsed_sections": [
        "g0-D7kWW7wIw",
        "eq84Q7NB8TcH",
        "ME2CAHxq8uLq"
      ]
    },
    "kernelspec": {
      "name": "python3",
      "display_name": "Python 3"
    },
    "language_info": {
      "name": "python"
    },
    "accelerator": "GPU",
    "gpuClass": "standard"
  },
  "cells": [
    {
      "cell_type": "code",
      "execution_count": 1,
      "metadata": {
        "colab": {
          "base_uri": "https://localhost:8080/"
        },
        "id": "V-lZnwwf7NyU",
        "outputId": "8f32e748-98ec-468c-cfd3-921f2bf09fc5"
      },
      "outputs": [
        {
          "output_type": "stream",
          "name": "stdout",
          "text": [
            "Looking in indexes: https://pypi.org/simple, https://us-python.pkg.dev/colab-wheels/public/simple/\n",
            "Requirement already satisfied: networkx in /usr/local/lib/python3.9/dist-packages (3.0)\n",
            "Collecting mido\n",
            "  Downloading mido-1.2.10-py2.py3-none-any.whl (51 kB)\n",
            "\u001b[2K     \u001b[90m━━━━━━━━━━━━━━━━━━━━━━━━━━━━━━━━━━━━━━━━\u001b[0m \u001b[32m51.1/51.1 KB\u001b[0m \u001b[31m1.4 MB/s\u001b[0m eta \u001b[36m0:00:00\u001b[0m\n",
            "\u001b[?25hCollecting pretty_midi\n",
            "  Downloading pretty_midi-0.2.10.tar.gz (5.6 MB)\n",
            "\u001b[2K     \u001b[90m━━━━━━━━━━━━━━━━━━━━━━━━━━━━━━━━━━━━━━━━\u001b[0m \u001b[32m5.6/5.6 MB\u001b[0m \u001b[31m28.2 MB/s\u001b[0m eta \u001b[36m0:00:00\u001b[0m\n",
            "\u001b[?25h  Preparing metadata (setup.py) ... \u001b[?25l\u001b[?25hdone\n",
            "Collecting fluidsynth\n",
            "  Downloading fluidsynth-0.2.tar.gz (3.7 kB)\n",
            "  Preparing metadata (setup.py) ... \u001b[?25l\u001b[?25hdone\n",
            "Requirement already satisfied: numpy>=1.7.0 in /usr/local/lib/python3.9/dist-packages (from pretty_midi) (1.22.4)\n",
            "Requirement already satisfied: six in /usr/local/lib/python3.9/dist-packages (from pretty_midi) (1.15.0)\n",
            "Building wheels for collected packages: pretty_midi, fluidsynth\n",
            "  Building wheel for pretty_midi (setup.py) ... \u001b[?25l\u001b[?25hdone\n",
            "  Created wheel for pretty_midi: filename=pretty_midi-0.2.10-py3-none-any.whl size=5592303 sha256=d6d9b854d1351c1299c2ecf8d38136aca88a54e826762b627113c187d107df0d\n",
            "  Stored in directory: /root/.cache/pip/wheels/75/ec/20/b8e937a5bcf1de547ea5ce465db7de7f6761e15e6f0a01e25f\n",
            "  Building wheel for fluidsynth (setup.py) ... \u001b[?25l\u001b[?25hdone\n",
            "  Created wheel for fluidsynth: filename=fluidsynth-0.2-py3-none-any.whl size=4513 sha256=4942f9b55b67309f751c0f2eb6cd9344f9ed9a0791d3160a6aa8ae495f33397d\n",
            "  Stored in directory: /root/.cache/pip/wheels/26/65/f2/061218eaa5a047f720df1c6f863f9ef72364c88491a9623c23\n",
            "Successfully built pretty_midi fluidsynth\n",
            "Installing collected packages: mido, fluidsynth, pretty_midi\n",
            "Successfully installed fluidsynth-0.2 mido-1.2.10 pretty_midi-0.2.10\n",
            "Looking in indexes: https://pypi.org/simple, https://us-python.pkg.dev/colab-wheels/public/simple/\n",
            "Looking in links: https://data.pyg.org/whl/torch-1.13.1+cu116.html\n",
            "Collecting torch-geometric\n",
            "  Downloading torch_geometric-2.2.0.tar.gz (564 kB)\n",
            "\u001b[2K     \u001b[90m━━━━━━━━━━━━━━━━━━━━━━━━━━━━━━━━━━━━━━\u001b[0m \u001b[32m565.0/565.0 KB\u001b[0m \u001b[31m37.2 MB/s\u001b[0m eta \u001b[36m0:00:00\u001b[0m\n",
            "\u001b[?25h  Preparing metadata (setup.py) ... \u001b[?25l\u001b[?25hdone\n",
            "Collecting torch-scatter\n",
            "  Downloading https://data.pyg.org/whl/torch-1.13.0%2Bcu116/torch_scatter-2.1.1%2Bpt113cu116-cp39-cp39-linux_x86_64.whl (9.4 MB)\n",
            "\u001b[2K     \u001b[90m━━━━━━━━━━━━━━━━━━━━━━━━━━━━━━━━━━━━━━━━\u001b[0m \u001b[32m9.4/9.4 MB\u001b[0m \u001b[31m59.6 MB/s\u001b[0m eta \u001b[36m0:00:00\u001b[0m\n",
            "\u001b[?25hCollecting torch-sparse\n",
            "  Downloading https://data.pyg.org/whl/torch-1.13.0%2Bcu116/torch_sparse-0.6.17%2Bpt113cu116-cp39-cp39-linux_x86_64.whl (4.5 MB)\n",
            "\u001b[2K     \u001b[90m━━━━━━━━━━━━━━━━━━━━━━━━━━━━━━━━━━━━━━━━\u001b[0m \u001b[32m4.5/4.5 MB\u001b[0m \u001b[31m49.4 MB/s\u001b[0m eta \u001b[36m0:00:00\u001b[0m\n",
            "\u001b[?25hRequirement already satisfied: tqdm in /usr/local/lib/python3.9/dist-packages (from torch-geometric) (4.65.0)\n",
            "Requirement already satisfied: numpy in /usr/local/lib/python3.9/dist-packages (from torch-geometric) (1.22.4)\n",
            "Requirement already satisfied: scipy in /usr/local/lib/python3.9/dist-packages (from torch-geometric) (1.10.1)\n",
            "Requirement already satisfied: jinja2 in /usr/local/lib/python3.9/dist-packages (from torch-geometric) (3.1.2)\n",
            "Requirement already satisfied: requests in /usr/local/lib/python3.9/dist-packages (from torch-geometric) (2.27.1)\n",
            "Requirement already satisfied: pyparsing in /usr/local/lib/python3.9/dist-packages (from torch-geometric) (3.0.9)\n",
            "Requirement already satisfied: scikit-learn in /usr/local/lib/python3.9/dist-packages (from torch-geometric) (1.2.2)\n",
            "Requirement already satisfied: psutil>=5.8.0 in /usr/local/lib/python3.9/dist-packages (from torch-geometric) (5.9.4)\n",
            "Requirement already satisfied: MarkupSafe>=2.0 in /usr/local/lib/python3.9/dist-packages (from jinja2->torch-geometric) (2.1.2)\n",
            "Requirement already satisfied: certifi>=2017.4.17 in /usr/local/lib/python3.9/dist-packages (from requests->torch-geometric) (2022.12.7)\n",
            "Requirement already satisfied: charset-normalizer~=2.0.0 in /usr/local/lib/python3.9/dist-packages (from requests->torch-geometric) (2.0.12)\n",
            "Requirement already satisfied: urllib3<1.27,>=1.21.1 in /usr/local/lib/python3.9/dist-packages (from requests->torch-geometric) (1.26.15)\n",
            "Requirement already satisfied: idna<4,>=2.5 in /usr/local/lib/python3.9/dist-packages (from requests->torch-geometric) (3.4)\n",
            "Requirement already satisfied: joblib>=1.1.1 in /usr/local/lib/python3.9/dist-packages (from scikit-learn->torch-geometric) (1.1.1)\n",
            "Requirement already satisfied: threadpoolctl>=2.0.0 in /usr/local/lib/python3.9/dist-packages (from scikit-learn->torch-geometric) (3.1.0)\n",
            "Building wheels for collected packages: torch-geometric\n",
            "  Building wheel for torch-geometric (setup.py) ... \u001b[?25l\u001b[?25hdone\n",
            "  Created wheel for torch-geometric: filename=torch_geometric-2.2.0-py3-none-any.whl size=773302 sha256=2c093adee826996aecd271e6c17a71714e1db6e5ada63337b5d8a5d7e8034c28\n",
            "  Stored in directory: /root/.cache/pip/wheels/31/b2/8c/9b4bb72a4384eabd1ffeab2b7ead692c9165e35711f8a9dc72\n",
            "Successfully built torch-geometric\n",
            "Installing collected packages: torch-scatter, torch-sparse, torch-geometric\n",
            "Successfully installed torch-geometric-2.2.0 torch-scatter-2.1.1+pt113cu116 torch-sparse-0.6.17+pt113cu116\n",
            "Reading package lists... Done\n",
            "Building dependency tree       \n",
            "Reading state information... Done\n",
            "The following additional packages will be installed:\n",
            "  fluid-soundfont-gm libfluidsynth2 libinstpatch-1.0-2 qsynth\n",
            "  timgm6mb-soundfont\n",
            "Suggested packages:\n",
            "  fluid-soundfont-gs timidity jackd musescore\n",
            "The following NEW packages will be installed:\n",
            "  fluid-soundfont-gm fluidsynth libfluidsynth2 libinstpatch-1.0-2 qsynth\n",
            "  timgm6mb-soundfont\n",
            "0 upgraded, 6 newly installed, 0 to remove and 23 not upgraded.\n",
            "Need to get 126 MB of archives.\n",
            "After this operation, 157 MB of additional disk space will be used.\n",
            "Get:1 http://archive.ubuntu.com/ubuntu focal/universe amd64 fluid-soundfont-gm all 3.1-5.1 [119 MB]\n",
            "Get:2 http://archive.ubuntu.com/ubuntu focal/universe amd64 libinstpatch-1.0-2 amd64 1.1.2-2build1 [238 kB]\n",
            "Get:3 http://archive.ubuntu.com/ubuntu focal/universe amd64 timgm6mb-soundfont all 1.3-3 [5,420 kB]\n",
            "Get:4 http://archive.ubuntu.com/ubuntu focal/universe amd64 libfluidsynth2 amd64 2.1.1-2 [198 kB]\n",
            "Get:5 http://archive.ubuntu.com/ubuntu focal/universe amd64 fluidsynth amd64 2.1.1-2 [25.6 kB]\n",
            "Get:6 http://archive.ubuntu.com/ubuntu focal/universe amd64 qsynth amd64 0.6.1-1build1 [245 kB]\n",
            "Fetched 126 MB in 10s (13.1 MB/s)\n",
            "Selecting previously unselected package fluid-soundfont-gm.\n",
            "(Reading database ... 128276 files and directories currently installed.)\n",
            "Preparing to unpack .../0-fluid-soundfont-gm_3.1-5.1_all.deb ...\n",
            "Unpacking fluid-soundfont-gm (3.1-5.1) ...\n",
            "Selecting previously unselected package libinstpatch-1.0-2:amd64.\n",
            "Preparing to unpack .../1-libinstpatch-1.0-2_1.1.2-2build1_amd64.deb ...\n",
            "Unpacking libinstpatch-1.0-2:amd64 (1.1.2-2build1) ...\n",
            "Selecting previously unselected package timgm6mb-soundfont.\n",
            "Preparing to unpack .../2-timgm6mb-soundfont_1.3-3_all.deb ...\n",
            "Unpacking timgm6mb-soundfont (1.3-3) ...\n",
            "Selecting previously unselected package libfluidsynth2:amd64.\n",
            "Preparing to unpack .../3-libfluidsynth2_2.1.1-2_amd64.deb ...\n",
            "Unpacking libfluidsynth2:amd64 (2.1.1-2) ...\n",
            "Selecting previously unselected package fluidsynth.\n",
            "Preparing to unpack .../4-fluidsynth_2.1.1-2_amd64.deb ...\n",
            "Unpacking fluidsynth (2.1.1-2) ...\n",
            "Selecting previously unselected package qsynth.\n",
            "Preparing to unpack .../5-qsynth_0.6.1-1build1_amd64.deb ...\n",
            "Unpacking qsynth (0.6.1-1build1) ...\n",
            "Setting up fluid-soundfont-gm (3.1-5.1) ...\n",
            "Setting up timgm6mb-soundfont (1.3-3) ...\n",
            "update-alternatives: using /usr/share/sounds/sf2/TimGM6mb.sf2 to provide /usr/share/sounds/sf2/default-GM.sf2 (default-GM.sf2) in auto mode\n",
            "update-alternatives: using /usr/share/sounds/sf2/TimGM6mb.sf2 to provide /usr/share/sounds/sf3/default-GM.sf3 (default-GM.sf3) in auto mode\n",
            "Setting up libinstpatch-1.0-2:amd64 (1.1.2-2build1) ...\n",
            "Setting up libfluidsynth2:amd64 (2.1.1-2) ...\n",
            "Setting up qsynth (0.6.1-1build1) ...\n",
            "Setting up fluidsynth (2.1.1-2) ...\n",
            "Created symlink /etc/systemd/user/multi-user.target.wants/fluidsynth.service → /usr/lib/systemd/user/fluidsynth.service.\n",
            "Processing triggers for hicolor-icon-theme (0.17-2) ...\n",
            "Processing triggers for libc-bin (2.31-0ubuntu9.9) ...\n",
            "Processing triggers for man-db (2.9.1-1) ...\n",
            "Processing triggers for mime-support (3.64ubuntu1) ...\n"
          ]
        }
      ],
      "source": [
        "# install packages\n",
        "!pip install networkx mido pretty_midi fluidsynth\n",
        "\n",
        "import torch\n",
        "!pip install torch-geometric torch-scatter torch-sparse -f https://data.pyg.org/whl/torch-{torch.__version__}.html\n",
        "\n",
        "import torch.nn as nn\n",
        "import torch.nn.functional as F\n",
        "import torch.optim as optim\n",
        "import torch_geometric\n",
        "from torch_scatter import scatter_mean, scatter_max, scatter_sum\n",
        "from torch_geometric.utils.convert import from_scipy_sparse_matrix\n",
        "\n",
        "import mido\n",
        "import pretty_midi\n",
        "from scipy.io.wavfile import write\n",
        "\n",
        "# For converting midi into wav files\n",
        "!apt-get install fluidsynth\n",
        "import fluidsynth\n",
        "\n",
        "import numpy as np\n",
        "import random\n",
        "\n",
        "#for nice visualisations\n",
        "import networkx as nx\n",
        "import matplotlib.pyplot as plt"
      ]
    },
    {
      "cell_type": "markdown",
      "source": [
        "# Helper functions"
      ],
      "metadata": {
        "id": "PmaG2s-J9BbZ"
      }
    },
    {
      "cell_type": "markdown",
      "source": [
        "## MIDI processing functions"
      ],
      "metadata": {
        "id": "g0-D7kWW7wIw"
      }
    },
    {
      "cell_type": "code",
      "source": [
        "def get_midi_timesteps(filename):\n",
        "    midi = mido.MidiFile(filename)\n",
        "    timesteps = 0\n",
        "    for track in midi.tracks:\n",
        "        for msg in track:\n",
        "            timesteps += msg.time\n",
        "    return timesteps\n",
        "\n",
        "def midi_to_tensor(filename, binary_velocity=False):\n",
        "    mid = mido.MidiFile(filename)\n",
        "    # Extract information about the notes being played\n",
        "    max_timesteps = get_midi_timesteps(filename)\n",
        "    tensor = np.zeros((max_timesteps, 128))\n",
        "    previous_note = [0] * 128\n",
        "    timesteps = 0\n",
        "    for track in mid.tracks:\n",
        "        for msg in track:\n",
        "            timesteps += msg.time\n",
        "            if msg.type == 'note_on':\n",
        "                tmp = previous_note[msg.note]\n",
        "                tensor[tmp:timesteps, msg.note] = tensor[tmp, msg.note]\n",
        "                if binary_velocity:\n",
        "                  tensor[timesteps, msg.note] = 1 if msg.velocity > 0 else 0\n",
        "                else:\n",
        "                  tensor[timesteps, msg.note] = msg.velocity\n",
        "                previous_note[msg.note] = timesteps\n",
        "            if msg.type == 'note_off':\n",
        "                tmp = previous_note[msg.note]\n",
        "                tensor[tmp:timesteps, msg.note] = tensor[tmp, msg.note]\n",
        "                tensor[timesteps, msg.note] = 0\n",
        "                previous_note[msg.note] = timesteps\n",
        "    return torch.from_numpy(tensor)\n",
        "\n",
        "def arry2mid(ary, tempo=500000):\n",
        "    new_ary = np.concatenate([np.array([[0] * 128]), np.array(ary)], axis=0)\n",
        "    mid_new = mido.MidiFile()\n",
        "    track = mido.MidiTrack()\n",
        "    mid_new.tracks.append(track)\n",
        "    track.append(mido.MetaMessage('set_tempo', tempo=tempo, time=0))\n",
        "    changes = new_ary[1:] - new_ary[:-1]\n",
        "    last_time = 0\n",
        "    for ch in changes:\n",
        "        if sum(ch) == 0:  # no change\n",
        "            last_time += 1\n",
        "        else:\n",
        "            on_notes = np.where(ch > 0)[0]\n",
        "            on_notes_velocity = ch[on_notes]\n",
        "            off_notes = np.where(ch < 0)[0]\n",
        "            first_ = True\n",
        "            for n, v in zip(on_notes, on_notes_velocity):\n",
        "                new_time = last_time if first_ else 0\n",
        "                track.append(mido.Message('note_on', note=int(n), velocity=int(v), time=int(new_time)))\n",
        "                first_ = False\n",
        "            for n in off_notes:\n",
        "                new_time = last_time if first_ else 0\n",
        "                track.append(mido.Message('note_off', note=int(n), velocity=0, time=int(new_time)))\n",
        "                first_ = False\n",
        "            last_time = 0\n",
        "    return mid_new"
      ],
      "metadata": {
        "id": "mmrG_zz1729S"
      },
      "execution_count": 2,
      "outputs": []
    },
    {
      "cell_type": "markdown",
      "source": [
        "## Tonnetz Adjancy matrix generating function"
      ],
      "metadata": {
        "id": "eq84Q7NB8TcH"
      }
    },
    {
      "cell_type": "code",
      "source": [
        "# In Tonnetz, each node has six neighbours which have pitches of the following distances (in semi-tones)\n",
        "# E.g. C4 has neighbours F3, G#3, A3, D#4, E4, G4\n",
        "NEIGHBOUR_DISTANCES = [-7, -4, -3, 3, 4, 7]\n",
        "\n",
        "def create_tonnetz_adjacency_matrix(num_notes):\n",
        "  A = []\n",
        "\n",
        "  for i in range(num_notes):\n",
        "    row = torch.zeros(num_notes, dtype=torch.int)\n",
        "    for d in NEIGHBOUR_DISTANCES:\n",
        "      j = i+d\n",
        "      if j >= 0 and j < num_notes:\n",
        "        row[j] = 1\n",
        "    A.append(row)\n",
        "  return torch.stack(A)\n",
        "\n",
        "def get_edge_attributes(A):\n",
        "  # Returns edge attributes for the adjacency matrix `A`, \n",
        "  # where the edge attributes are a one-hot encoding for each type of edge\n",
        "  edge_index = A.to_sparse().indices()\n",
        "  edge_attr_raw = []\n",
        "  for i in range(edge_index.shape[1]):\n",
        "    distance = (edge_index[1][i] - edge_index[0][i]).item()\n",
        "    edge_attr_raw.append(NEIGHBOUR_DISTANCES.index(distance))\n",
        "  return F.one_hot(torch.tensor(edge_attr_raw))"
      ],
      "metadata": {
        "id": "D-nSJY3O8Nsy"
      },
      "execution_count": 3,
      "outputs": []
    },
    {
      "cell_type": "markdown",
      "source": [
        "## Data processing helper function"
      ],
      "metadata": {
        "id": "ME2CAHxq8uLq"
      }
    },
    {
      "cell_type": "code",
      "source": [
        "import math, logging\n",
        "\n",
        "desired_tpb = 8\n",
        "\n",
        "def calculate_compress_factor(file_name, desired_tpb):\n",
        "  mid = mido.MidiFile(file_name)\n",
        "  compress_factor = mid.ticks_per_beat / desired_tpb\n",
        "  if compress_factor % 1.0 != 0.0:\n",
        "    logging.warning(f\"compress_factor of {compress_factor} is not an integer, rounding up...\")\n",
        "  compress_factor = math.ceil(compress_factor)\n",
        "  return compress_factor\n",
        "\n",
        "def compress_tensor(tensor, file_name, method, desired_tpb=16):\n",
        "  '''\n",
        "  Reduces the fidelity of the musical tensor, i.e. merge multiple timesteps into one step\n",
        "\n",
        "  Args:\n",
        "    `tensor`: PyTorch tensor of shape (timesteps, num_notes)\n",
        "    `file_name`: path to the MIDI file\n",
        "    `method`: str in [\"max\", \"avg\", \"majority\"]\n",
        "    `desired_tpb`: desired ticks per beat for the tensor to be compressed to\n",
        "  '''\n",
        "  tensor_np = tensor.cpu().detach().cpu()\n",
        "  assert(len(tensor_np.shape) == 2)\n",
        "\n",
        "  compress_factor = calculate_compress_factor(file_name, desired_tpb)\n",
        "  compressed_vectors = []\n",
        "  length = tensor_np.shape[0]\n",
        "  for start in range(0, length, compress_factor):\n",
        "    end = min(start + compress_factor, length)\n",
        "    tensor_slice = tensor_np[start:end, :]\n",
        "    if (method == \"max\"):\n",
        "      raise NotImplementedError()\n",
        "    elif (method == \"avg\"):\n",
        "      raise NotImplementedError()\n",
        "    elif (method == \"majority\"):\n",
        "      majority = (end-start) / 2\n",
        "      majority_nonzeroes = np.count_nonzero(tensor_slice, axis=0) >= majority\n",
        "      compressed_vectors.append((majority_nonzeroes).astype(int))\n",
        "    else:\n",
        "      raise KeyError(f\"Unknown method {method}\")\n",
        "  return torch.tensor(np.array(compressed_vectors))\n",
        "\n",
        "def reduce_tensor(tensor, start_note, end_note):\n",
        "  '''\n",
        "  Args:\n",
        "    `tensor`: PyTorch tensor of shape (timesteps, num_notes)\n",
        "    `start_note`: note to start the tensor from (integer in 0-127)\n",
        "    `end_note`: note to end the tensor at (integer in 0-127)\n",
        "  '''\n",
        "  assert(end_note >= start_note)\n",
        "  return tensor[:, start_note:end_note+1]\n",
        "\n",
        "def uncompress_tensor(tensor, orig_tpb, compressed_tpb):\n",
        "  '''\n",
        "  Args:\n",
        "    `tensor`: PyTorch tensor of shape (timesteps, num_notes)\n",
        "    `orig_tpb`: ticks per beat of the original/generated MIDI file\n",
        "    `compressed_tpb`: ticks per beat used by the compressed `tensor`\n",
        "  '''\n",
        "  compress_factor = orig_tpb / compressed_tpb\n",
        "  if compress_factor % 1.0 != 0.0:\n",
        "    logging.warning(f\"compress_factor of {compress_factor} is not an integer, rounding up...\")\n",
        "  compress_factor = math.ceil(compress_factor)\n",
        "  # \"Stretch\" out the tensor using Kronecker product\n",
        "  return torch.kron(tensor, torch.ones((compress_factor, 1)))\n",
        "\n",
        "def unreduce_tensor(tensor, start_note, end_note):\n",
        "  '''\n",
        "  Expands out a reduced tensor to include all 128 notes in the MIDI range\n",
        "\n",
        "  Args:\n",
        "    `tensor`: PyTorch tensor of shape (timesteps, num_notes)\n",
        "    `start_note`: MIDI note that `tensor` starts from (integer in 0-127)\n",
        "    `end_note`: MIDI note that `tensor` ends at (integer in 0-127)\n",
        "  '''\n",
        "  assert(end_note >= start_note)\n",
        "  timesteps = tensor.shape[0]\n",
        "  low_notes = torch.zeros((timesteps, start_note))\n",
        "  high_notes = torch.zeros((timesteps, 127-end_note))\n",
        "  return torch.cat((low_notes, tensor, high_notes), dim=1)"
      ],
      "metadata": {
        "id": "BKqwyq5r8tZp"
      },
      "execution_count": 4,
      "outputs": []
    },
    {
      "cell_type": "code",
      "source": [
        "# function which takes music sequence and window size(history length) and return training data.\n",
        "# music = Time_step x Num_nodes\n",
        "def slice_temporal_data(music_seq,window_size=5):\n",
        "  return [[torch.transpose(music_seq[i:i+window_size],0,1),music_seq[i+window_size].reshape(-1,1)] for i in range(len(music_seq)-window_size)]"
      ],
      "metadata": {
        "id": "m6swA5zv86v7"
      },
      "execution_count": 5,
      "outputs": []
    },
    {
      "cell_type": "markdown",
      "source": [
        "# Data loading"
      ],
      "metadata": {
        "id": "RSCQyHMh8_cf"
      }
    },
    {
      "cell_type": "code",
      "source": [
        "# Download and extract piano MIDI files from Maestro\n",
        "!wget https://storage.googleapis.com/magentadata/datasets/maestro/v3.0.0/maestro-v3.0.0-midi.zip\n",
        "\n",
        "import os\n",
        "import zipfile\n",
        "\n",
        "directory_to_extract_to = \"maestro\"\n",
        "with zipfile.ZipFile(\"maestro-v3.0.0-midi.zip\", 'r') as zip_ref:\n",
        "    zip_ref.extractall(directory_to_extract_to)\n",
        "\n",
        "dir_to_scan = directory_to_extract_to + \"/maestro-v3.0.0/2013\"\n",
        "directory_files = os.listdir(dir_to_scan)\n",
        "data_files = []\n",
        "for file in directory_files:\n",
        "  data_files.append(os.path.join(dir_to_scan, file))"
      ],
      "metadata": {
        "colab": {
          "base_uri": "https://localhost:8080/"
        },
        "id": "n2C_jOnS9Ihv",
        "outputId": "617f15d6-65da-4a68-f527-dfa88f8af5e8"
      },
      "execution_count": 6,
      "outputs": [
        {
          "output_type": "stream",
          "name": "stdout",
          "text": [
            "--2023-03-21 01:07:01--  https://storage.googleapis.com/magentadata/datasets/maestro/v3.0.0/maestro-v3.0.0-midi.zip\n",
            "Resolving storage.googleapis.com (storage.googleapis.com)... 74.125.200.128, 74.125.68.128, 74.125.24.128, ...\n",
            "Connecting to storage.googleapis.com (storage.googleapis.com)|74.125.200.128|:443... connected.\n",
            "HTTP request sent, awaiting response... 200 OK\n",
            "Length: 58416533 (56M) [application/octet-stream]\n",
            "Saving to: ‘maestro-v3.0.0-midi.zip’\n",
            "\n",
            "maestro-v3.0.0-midi 100%[===================>]  55.71M  17.2MB/s    in 3.8s    \n",
            "\n",
            "2023-03-21 01:07:05 (14.7 MB/s) - ‘maestro-v3.0.0-midi.zip’ saved [58416533/58416533]\n",
            "\n"
          ]
        }
      ]
    },
    {
      "cell_type": "code",
      "source": [
        "num_files = 10\n",
        "window_size = desired_tpb * 4\n",
        "start_note = 33\n",
        "end_note = 96\n",
        "\n",
        "train_data = []\n",
        "for i, data_file in enumerate(data_files):\n",
        "  midi_tensor = midi_to_tensor(data_file, binary_velocity=True)\n",
        "  compressed_tensor = compress_tensor(midi_tensor, data_file, \"majority\", desired_tpb)\n",
        "  reduced_tensor = reduce_tensor(compressed_tensor, start_note, end_note)\n",
        "  train_data += slice_temporal_data(reduced_tensor.to(torch.float), window_size)\n",
        "  if i == num_files:\n",
        "    break\n",
        "print(len(train_data), train_data[0][0].shape, train_data[0][1].shape)"
      ],
      "metadata": {
        "colab": {
          "base_uri": "https://localhost:8080/"
        },
        "id": "ed5VIAheAn6e",
        "outputId": "b3d99e47-b4c5-4012-df5a-3afa7a6d3447"
      },
      "execution_count": 7,
      "outputs": [
        {
          "output_type": "stream",
          "name": "stdout",
          "text": [
            "56025 torch.Size([64, 32]) torch.Size([64, 1])\n"
          ]
        }
      ]
    },
    {
      "cell_type": "markdown",
      "source": [
        "# Prepare model trainig "
      ],
      "metadata": {
        "id": "Vp9Z44B_-KRE"
      }
    },
    {
      "cell_type": "markdown",
      "source": [
        "## create graph representation"
      ],
      "metadata": {
        "id": "3rEHG8HOCqf6"
      }
    },
    {
      "cell_type": "code",
      "source": [
        "new_num_notes = train_data[0][0].shape[0]\n",
        "A = create_tonnetz_adjacency_matrix(new_num_notes)\n",
        "edge_attr = get_edge_attributes(A)\n",
        "print(A.shape)\n",
        "print(edge_attr.shape)"
      ],
      "metadata": {
        "id": "v3JqrzX8-PzK",
        "colab": {
          "base_uri": "https://localhost:8080/"
        },
        "outputId": "ebe178b1-66b1-4bc4-c957-0721085cd9df"
      },
      "execution_count": 8,
      "outputs": [
        {
          "output_type": "stream",
          "name": "stdout",
          "text": [
            "torch.Size([64, 64])\n",
            "torch.Size([356, 6])\n"
          ]
        }
      ]
    },
    {
      "cell_type": "markdown",
      "source": [
        "## create data loader"
      ],
      "metadata": {
        "id": "812y9KPmCxIJ"
      }
    },
    {
      "cell_type": "code",
      "source": [
        "from sklearn.model_selection import train_test_split\n",
        "from torch.utils.data import TensorDataset\n",
        "from torch.utils.data import DataLoader\n",
        "\n",
        "data_X = torch.stack([d[0] for d in train_data])\n",
        "print(data_X.shape)\n",
        "y = torch.stack([d[1] for d in train_data])\n",
        "data_Y = y.squeeze(-1)\n",
        "print(data_Y.shape)\n",
        "X_train, X_test, y_train, y_test = train_test_split(data_X.to(torch.float), data_Y, test_size=0.2, random_state=42)\n",
        "print(X_train.shape)\n",
        "print(y_train.shape)\n",
        "\n",
        "train_dataset = TensorDataset(X_train, y_train)\n",
        "valid_dataset = TensorDataset(X_test, y_test)\n",
        "\n",
        "batch_size = 32\n",
        "train_dataloader = DataLoader(train_dataset, batch_size=batch_size, shuffle=True)\n",
        "valid_dataloader = DataLoader(valid_dataset, batch_size=batch_size, shuffle=False)"
      ],
      "metadata": {
        "colab": {
          "base_uri": "https://localhost:8080/"
        },
        "id": "NTFnhU2eBbCF",
        "outputId": "5d96da75-638d-4956-83ba-8fea4a7139ca"
      },
      "execution_count": 10,
      "outputs": [
        {
          "output_type": "stream",
          "name": "stdout",
          "text": [
            "torch.Size([56025, 64, 32])\n",
            "torch.Size([56025, 64])\n",
            "torch.Size([44820, 64, 32])\n",
            "torch.Size([44820, 64])\n"
          ]
        }
      ]
    },
    {
      "cell_type": "markdown",
      "source": [
        "## train and eval helper function"
      ],
      "metadata": {
        "id": "ylfWFDLaCzyL"
      }
    },
    {
      "cell_type": "code",
      "source": [
        "def train_eval(net, device, criterion, optimizer, epoch, train_dataloader, valid_dataloader=None, epochs_to_report=10,save_path=None):\n",
        "  '''\n",
        "  `epochs_to_report`: the number of epochs before reporting progress\n",
        "  '''\n",
        "  train_loss_list = []\n",
        "  train_acc_list = []\n",
        "  test_loss_list = []\n",
        "  test_acc_list = []\n",
        "\n",
        "  if save_path is not None:\n",
        "    torch.save(net.state_dict(), save_path)\n",
        "\n",
        "  for i in range(epoch):\n",
        "      report_progress = (i+1) % epochs_to_report == 0\n",
        "      if report_progress:\n",
        "        print(\"\\n------------------------------------------------------\")\n",
        "        print(\"Epoch {}/{}\".format(i+1,epoch))\n",
        "      \n",
        "      train_loss = 0\n",
        "      train_acc = 0\n",
        "      test_loss = 0\n",
        "      test_acc = 0\n",
        "      \n",
        "      net.train()\n",
        "      for data,label in train_dataloader:\n",
        "          data = data.to(device)\n",
        "          label = label.to(device)\n",
        "          optimizer.zero_grad()\n",
        "          y_pred_prob = net(data)\n",
        "          #y_pred_prob = net(data)\n",
        "          #y_pred_prob = y_pred_prob.reshape(1,-1)\n",
        "          #print(y_pred_prob.shape)\n",
        "          #print(label.shape)\n",
        "          loss = criterion(y_pred_prob,label)\n",
        "          loss.backward()\n",
        "          optimizer.step()\n",
        "          train_loss += loss.item()\n",
        "          y_pred = torch.round(torch.sigmoid(y_pred_prob))\n",
        "          train_acc += torch.count_nonzero(torch.all(torch.eq(label, y_pred), dim=1)).item() / len(label)\n",
        "      batch_train_loss = train_loss/len(train_dataloader)\n",
        "      batch_train_acc = train_acc/len(train_dataloader)\n",
        "      train_loss_list.append(batch_train_loss)\n",
        "      train_acc_list.append(batch_train_acc)\n",
        "      if report_progress:\n",
        "        print(\"Train_Loss: {:.4f} Train_Acc: {:.4f}\".format(batch_train_loss, batch_train_acc))\n",
        "      \n",
        "      if valid_dataloader is not None:\n",
        "        net.eval()\n",
        "        with torch.no_grad():\n",
        "            for data,label in valid_dataloader:\n",
        "                data = data.to(device)\n",
        "                label = label.to(device)\n",
        "                y_pred_prob = net(data)\n",
        "                #y_pred_prob = y_pred_prob.reshape(1,-1)\n",
        "                loss = criterion(y_pred_prob,label)\n",
        "                test_loss += loss.item()\n",
        "                y_pred = torch.round(torch.sigmoid(y_pred_prob))\n",
        "                test_acc += torch.count_nonzero(torch.all(torch.eq(label, y_pred), dim=1)).item() / len(label)\n",
        "        batch_test_loss = test_loss/len(valid_dataloader)\n",
        "        batch_test_acc = test_acc/len(valid_dataloader)\n",
        "        test_loss_list.append(batch_test_loss)\n",
        "        test_acc_list.append(batch_test_acc)\n",
        "        if report_progress:\n",
        "          print(\"Test_Loss: {:.4f} Test_Acc: {:.4f}\".format(batch_test_loss,batch_test_acc))\n",
        "      if save_path is not None:\n",
        "           torch.save(net.state_dict(), save_path)\n",
        "  return train_loss_list, test_loss_list, train_acc_list, test_acc_list\n",
        "\n",
        "def plot(epoch,train_loss_list, test_loss_list, train_acc_list, test_acc_list):\n",
        "  # visualizing training process\n",
        "  plt.figure()\n",
        "  plt.title(\"Train and Test Loss\")\n",
        "  plt.xlabel(\"epoch\")\n",
        "  plt.ylabel(\"loss\")\n",
        "  plt.plot(range(1,epoch+1),train_loss_list,color=\"b\",linestyle=\"-\",label=\"train_loss\")\n",
        "  if valid_dataloader is not None:\n",
        "    plt.plot(range(1,epoch+1),test_loss_list,color=\"r\",linestyle=\"--\",label=\"test_loss\")\n",
        "  plt.legend()\n",
        "  plt.figure()\n",
        "  plt.title(\"Train and Test Accuracy\")\n",
        "  plt.xlabel(\"epoch\")\n",
        "  plt.ylabel(\"accuracy\")\n",
        "  plt.plot(range(1,epoch+1),train_acc_list,color=\"b\",linestyle=\"-\",label=\"train_accuracy\")\n",
        "  if valid_dataloader is not None:\n",
        "    plt.plot(range(1,epoch+1),test_acc_list,color=\"r\",linestyle=\"--\",label=\"test_accuracy\")\n",
        "  plt.legend()\n",
        "  plt.show()"
      ],
      "metadata": {
        "id": "s5vNRMVMB32i"
      },
      "execution_count": 11,
      "outputs": []
    },
    {
      "cell_type": "markdown",
      "source": [
        "# Define the model\n",
        "\n",
        "Refers https://sladewinter.medium.com/video-frame-prediction-using-convlstm-network-in-pytorch-b5210a6ce582"
      ],
      "metadata": {
        "id": "hDx5UXs-C7nw"
      }
    },
    {
      "cell_type": "code",
      "source": [
        "from torch_geometric.nn import GCNConv\n",
        "\n",
        "device = torch.device('cuda' if torch.cuda.is_available() else 'cpu')\n",
        "print(\"Device is \",device)"
      ],
      "metadata": {
        "colab": {
          "base_uri": "https://localhost:8080/"
        },
        "id": "fNBPgThXC9mt",
        "outputId": "c4e0bd09-9fc8-4261-e2f3-e6ea9582b784"
      },
      "execution_count": 12,
      "outputs": [
        {
          "output_type": "stream",
          "name": "stdout",
          "text": [
            "Device is  cuda\n"
          ]
        }
      ]
    },
    {
      "cell_type": "markdown",
      "source": [
        "## model definition"
      ],
      "metadata": {
        "id": "YsaFhODGGJpX"
      }
    },
    {
      "cell_type": "code",
      "source": [
        "class SimpleRNNGCN(nn.Module):\n",
        "    # input_dim = dim of node features\n",
        "    # output_dim = number of class which is ON/OFF\n",
        "    def __init__(self, adj_mat, n_notes, input_dim, hidden_dim=16, output_dim=1):\n",
        "      super(SimpleRNNGCN, self).__init__()\n",
        "      self.adj_mat = adj_mat\n",
        "      self.edge_index = self.adj_mat.to_sparse().indices().to(device)\n",
        "      \n",
        "      # layers\n",
        "      self.rnn1 = nn.RNN(n_notes, n_notes, num_layers=2, batch_first=True )\n",
        "      self.gcn_conv1 = GCNConv(input_dim,hidden_dim)\n",
        "      self.linear1 = nn.Linear(hidden_dim, hidden_dim)\n",
        "      self.linear2 = nn.Linear(hidden_dim, output_dim)\n",
        "\n",
        "    def forward(self, x):\n",
        "      #print(x.shape)\n",
        "      x = x.transpose(1,2)                            # (batch,notes,timestep) -> (batch,timestep,notes)\n",
        "      #print(x.shape)\n",
        "      out,h = self.rnn1(x)\n",
        "      #print(out.shape)            \n",
        "      x = F.relu(out.transpose(1,2))                  # (batch,timestep,notes) -> (batch,notes,timestep)\n",
        "      #print(x.shape) \n",
        "      x = F.relu(self.gcn_conv1(x,self.edge_index))   # (batch,notes,timestep) -> (batch,notes,hidden_dim) \n",
        "      #print(x.shape)\n",
        "      x = F.relu(self.linear1(x))\n",
        "      x = self.linear2(x)\n",
        "      y_hat = x.squeeze(-1)\n",
        "      return y_hat"
      ],
      "metadata": {
        "id": "ote6_xgTGM-S"
      },
      "execution_count": 21,
      "outputs": []
    },
    {
      "cell_type": "code",
      "source": [
        "net = SimpleRNNGCN(A, 64, window_size, output_dim=1).to(device)\n",
        "for data,label in train_dataloader:\n",
        "  data, label = data.to(device), label.to(device)\n",
        "  y_pred = net(data)\n",
        "  break\n",
        "print(y_pred.shape)"
      ],
      "metadata": {
        "colab": {
          "base_uri": "https://localhost:8080/"
        },
        "id": "G02fNBEzzMFp",
        "outputId": "d157fe29-4368-4beb-abde-b3af6456c66e"
      },
      "execution_count": 18,
      "outputs": [
        {
          "output_type": "stream",
          "name": "stdout",
          "text": [
            "torch.Size([32, 64, 32])\n",
            "torch.Size([32, 32, 64])\n",
            "torch.Size([32, 32, 64])\n",
            "torch.Size([32, 64, 32])\n",
            "torch.Size([32, 64, 16])\n",
            "torch.Size([32, 64])\n"
          ]
        }
      ]
    },
    {
      "cell_type": "markdown",
      "source": [
        "# Training"
      ],
      "metadata": {
        "id": "FvTIedJKIueP"
      }
    },
    {
      "cell_type": "code",
      "source": [
        "net = SimpleRNNGCN(A, 64, window_size, output_dim=1).to(device)\n",
        "pos_weight = torch.ones([new_num_notes]) * 5\n",
        "criterion = nn.BCEWithLogitsLoss(pos_weight=pos_weight).to(device)\n",
        "optimizer = torch.optim.Adam(net.parameters(), lr=0.005)\n",
        "epoch = 10\n",
        "save_path = \"simple_2rnn_1gcn_model.net\"\n",
        "\n",
        "trainL,testL,trainA,testA = train_eval(net, device, criterion, optimizer, epoch, train_dataloader, valid_dataloader, epochs_to_report=1, save_path=save_path)"
      ],
      "metadata": {
        "colab": {
          "base_uri": "https://localhost:8080/"
        },
        "id": "IXAeKJt3IyaB",
        "outputId": "e0d8450d-3eca-4b67-cf6a-7ff08affa1c8"
      },
      "execution_count": 22,
      "outputs": [
        {
          "output_type": "stream",
          "name": "stdout",
          "text": [
            "\n",
            "------------------------------------------------------\n",
            "Epoch 1/10\n",
            "Train_Loss: 0.4032 Train_Acc: 0.1587\n",
            "Test_Loss: 0.3939 Test_Acc: 0.1561\n",
            "\n",
            "------------------------------------------------------\n",
            "Epoch 2/10\n",
            "Train_Loss: 0.3872 Train_Acc: 0.1587\n",
            "Test_Loss: 0.3924 Test_Acc: 0.1561\n",
            "\n",
            "------------------------------------------------------\n",
            "Epoch 3/10\n",
            "Train_Loss: 0.3843 Train_Acc: 0.1587\n",
            "Test_Loss: 0.3881 Test_Acc: 0.1561\n",
            "\n",
            "------------------------------------------------------\n",
            "Epoch 4/10\n",
            "Train_Loss: 0.3824 Train_Acc: 0.1586\n",
            "Test_Loss: 0.3879 Test_Acc: 0.1561\n",
            "\n",
            "------------------------------------------------------\n",
            "Epoch 5/10\n",
            "Train_Loss: 0.3809 Train_Acc: 0.1250\n",
            "Test_Loss: 0.3868 Test_Acc: 0.1130\n",
            "\n",
            "------------------------------------------------------\n",
            "Epoch 6/10\n",
            "Train_Loss: 0.3794 Train_Acc: 0.1249\n",
            "Test_Loss: 0.3860 Test_Acc: 0.1268\n",
            "\n",
            "------------------------------------------------------\n",
            "Epoch 7/10\n",
            "Train_Loss: 0.3780 Train_Acc: 0.1222\n",
            "Test_Loss: 0.3853 Test_Acc: 0.1045\n",
            "\n",
            "------------------------------------------------------\n",
            "Epoch 8/10\n",
            "Train_Loss: 0.3767 Train_Acc: 0.1221\n",
            "Test_Loss: 0.3858 Test_Acc: 0.1165\n",
            "\n",
            "------------------------------------------------------\n",
            "Epoch 9/10\n",
            "Train_Loss: 0.3761 Train_Acc: 0.1184\n",
            "Test_Loss: 0.3841 Test_Acc: 0.1252\n",
            "\n",
            "------------------------------------------------------\n",
            "Epoch 10/10\n",
            "Train_Loss: 0.3751 Train_Acc: 0.1227\n",
            "Test_Loss: 0.3835 Test_Acc: 0.1230\n"
          ]
        }
      ]
    },
    {
      "cell_type": "code",
      "source": [
        "plot(epoch,trainL,testL,trainA,testA)"
      ],
      "metadata": {
        "colab": {
          "base_uri": "https://localhost:8080/",
          "height": 573
        },
        "id": "AgeOoc1i1DhU",
        "outputId": "b6968279-bad4-47bf-db13-46ce6290361c"
      },
      "execution_count": 23,
      "outputs": [
        {
          "output_type": "display_data",
          "data": {
            "text/plain": [
              "<Figure size 432x288 with 1 Axes>"
            ],
            "image/png": "[encoded data removed]"
          },
          "metadata": {
            "needs_background": "light"
          }
        },
        {
          "output_type": "display_data",
          "data": {
            "text/plain": [
              "<Figure size 432x288 with 1 Axes>"
            ],
            "image/png": "[encoded data removed]"
          },
          "metadata": {
            "needs_background": "light"
          }
        }
      ]
    },
    {
      "cell_type": "markdown",
      "source": [
        "# Create music"
      ],
      "metadata": {
        "id": "AJaQ344ts1ko"
      }
    },
    {
      "cell_type": "code",
      "source": [
        "def generate_music_tensor(net, seed, timesteps):\n",
        "  generated = seed\n",
        "  window_size = seed.shape[2]\n",
        "  for i in range(timesteps):\n",
        "    if i == 0:\n",
        "      pred = net(seed)\n",
        "    else:\n",
        "      #print(generated[:,:, -window_size:].shape)\n",
        "      pred = net(generated[:,:, -window_size:])\n",
        "    curr = (torch.sigmoid(pred) > 0.5).float()\n",
        "    #print(curr.unsqueeze(2).shape)\n",
        "    #print(generated.shape)\n",
        "    generated = torch.cat((generated, curr.unsqueeze(2)), dim=2)\n",
        "    #print(generated.shape)\n",
        "  return generated.squeeze()\n",
        "\n",
        "def create_music(model, seed, new_timesteps, start_note, end_note, orig_tpb, compressed_tpb):\n",
        "  generated_tensor = generate_music_tensor(model, seed, new_timesteps).to(\"cpu\")\n",
        "  generated_tensor_mod = unreduce_tensor(torch.transpose(generated_tensor, 0, 1), start_note, end_note)\n",
        "  generated_tensor_mod = uncompress_tensor(generated_tensor_mod, orig_tpb, compressed_tpb)\n",
        "  return generated_tensor_mod"
      ],
      "metadata": {
        "id": "o6wAn5n_stZ1"
      },
      "execution_count": 49,
      "outputs": []
    },
    {
      "cell_type": "code",
      "source": [
        "new_timesteps = 256\n",
        "orig_tpb = 384\n",
        "compressed_tpb = desired_tpb\n",
        "\n",
        "net2 = SimpleRNNGCN(A, 64, window_size, output_dim=1).to(device)\n",
        "net2.load_state_dict(torch.load(save_path))\n",
        "net2 = net2.to(device)"
      ],
      "metadata": {
        "id": "jpzRC7dls4jO"
      },
      "execution_count": 25,
      "outputs": []
    },
    {
      "cell_type": "code",
      "source": [
        "sample_num = 1\n",
        "data, _ = next(iter(valid_dataloader))\n",
        "seed = data[sample_num].reshape(1,64,32).to(device)\n",
        "\n",
        "generated = create_music(net2, seed, new_timesteps, start_note, end_note, orig_tpb, compressed_tpb)\n",
        "print(generated.shape)\n",
        "plt.plot(torch.transpose(generated, 0, 1).cpu().detach().numpy())\n",
        "plt.show()"
      ],
      "metadata": {
        "colab": {
          "base_uri": "https://localhost:8080/",
          "height": 282
        },
        "id": "KR819uNptCWc",
        "outputId": "d5a86ce7-f082-4270-9fd0-fecb9a31b36b"
      },
      "execution_count": 55,
      "outputs": [
        {
          "output_type": "stream",
          "name": "stdout",
          "text": [
            "torch.Size([13824, 128])\n"
          ]
        },
        {
          "output_type": "display_data",
          "data": {
            "text/plain": [
              "<Figure size 432x288 with 1 Axes>"
            ],
            "image/png": "[encoded data removed]"
          },
          "metadata": {
            "needs_background": "light"
          }
        }
      ]
    },
    {
      "cell_type": "code",
      "source": [
        "arr = generated.cpu().detach().numpy()\n",
        "mid = arry2mid(arr)\n",
        "mid.save(\"sample_music_\"+str(sample_num)+\"_RNN2GCN1_acc_0.123.midi\")"
      ],
      "metadata": {
        "id": "c-t69JojtUEu"
      },
      "execution_count": 56,
      "outputs": []
    },
    {
      "cell_type": "markdown",
      "source": [
        "## Piano roll view"
      ],
      "metadata": {
        "id": "3YMEBpFVtn6_"
      }
    },
    {
      "cell_type": "code",
      "source": [
        "def piano_roll(array,plot_range = (0,3000)):\n",
        "    array = array[plot_range[0]:plot_range[1]]\n",
        "    plt.plot(range(array.shape[0]), np.multiply(np.where(array>0, 1, 0), range(1, 129)), marker='.', markersize=1, linestyle='')\n",
        "    plt.title(\"Piano roll\")\n",
        "    plt.xlabel(\"Timessteps\")\n",
        "    plt.ylabel(\"Notes\")\n",
        "    plt.show()"
      ],
      "metadata": {
        "id": "ZXh1gMJLtmDg"
      },
      "execution_count": 52,
      "outputs": []
    },
    {
      "cell_type": "code",
      "source": [
        "piano_roll(arr)"
      ],
      "metadata": {
        "colab": {
          "base_uri": "https://localhost:8080/",
          "height": 295
        },
        "id": "UKRltriItqv3",
        "outputId": "62b71756-77f3-4aac-bbcf-041aaecf9547"
      },
      "execution_count": 57,
      "outputs": [
        {
          "output_type": "display_data",
          "data": {
            "text/plain": [
              "<Figure size 432x288 with 1 Axes>"
            ],
            "image/png": "[encoded data removed]"
          },
          "metadata": {
            "needs_background": "light"
          }
        }
      ]
    }
  ]
}