{
 "cells": [
  {
   "cell_type": "code",
   "execution_count": 1,
   "id": "9112984b",
   "metadata": {},
   "outputs": [
    {
     "name": "stdout",
     "output_type": "stream",
     "text": [
      "pygame 2.3.0 (SDL 2.24.2, Python 3.10.10)\n",
      "Hello from the pygame community. https://www.pygame.org/contribute.html\n",
      "Track 0: \n",
      "0\n",
      "Track 1: \n",
      "15788\n",
      "[(51, 60, 256), (51, 0, 2), (35, 44, 18), (51, 54, 18), (39, 55, 30), (35, 0, 52), (39, 0, 164), (42, 52, 4), (42, 0, 132), (52, 76, 64), (51, 0, 14), (47, 56, 18), (52, 0, 48), (37, 61, 298), (54, 68, 0), (47, 0, 6), (52, 77, 10), (54, 0, 116), (54, 51, 0), (52, 0, 16), (52, 60, 82), (47, 57, 44), (54, 0, 20), (47, 0, 188), (46, 58, 92), (46, 0, 348), (52, 0, 20), (37, 0, 6), (51, 68, 0), (44, 35, 68), (51, 0, 60), (52, 47, 2), (52, 0, 160), (54, 68, 10), (39, 50, 64), (44, 0, 98), (42, 63, 238), (46, 63, 370), (42, 0, 64), (47, 58, 262), (46, 0, 44), (39, 0, 28), (54, 0, 6), (51, 66, 10), (51, 0, 36), (54, 78, 34), (58, 77, 40), (54, 0, 12), (39, 58, 2), (39, 0, 26)]\n"
     ]
    }
   ],
   "source": [
    "import mido\n",
    "import numpy as np\n",
    "import torch\n",
    "import pretty_midi\n",
    "from scipy.io.wavfile import write\n",
    "import fluidsynth\n",
    "import os\n",
    "import pygame\n",
    "import sys\n",
    "import pygame.midi\n",
    "\n",
    "# Initialize Pygame\n",
    "pygame.init()\n",
    "\n",
    "# Define constants\n",
    "WIDTH, HEIGHT = 880, 40\n",
    "\n",
    "# Initialize the display\n",
    "screen = pygame.display.set_mode((WIDTH, HEIGHT))\n",
    "pygame.display.set_caption(\"Piano Visualizer\")\n",
    "\n",
    "def draw_piano(keys_pressed):\n",
    "    for i in range(88):\n",
    "        x1 = i * 10\n",
    "        x2 = (i + 1) * 10\n",
    "        gval = int(255 * keys_pressed[i] / 127)\n",
    "        color = (gval,gval,gval)\n",
    "        pygame.draw.rect(screen, color, (x1, 0, x2 - x1, HEIGHT))\n",
    "\n",
    "def process_messages(messages):\n",
    "    keys_pressed = [0] * 88\n",
    "\n",
    "    for message in messages:\n",
    "        note, velocity, timestep = message\n",
    "        keys_pressed[note] = velocity\n",
    "        draw_piano(keys_pressed)\n",
    "        pygame.display.flip()\n",
    "        pygame.time.delay(timestep)\n",
    "\n",
    "\n",
    "\n",
    "file = mido.MidiFile('example.midi')\n",
    "msg_cnt = 0\n",
    "data_tuples = []\n",
    "for i, track in enumerate(file.tracks):\n",
    "    print('Track {}: {}'.format(i, track.name))\n",
    "    for msg in track:\n",
    "        if msg.type == 'note_on':\n",
    "            note_tuple = (msg.note - 20, msg.velocity, msg.time * 2)\n",
    "            data_tuples.append(note_tuple)\n",
    "            msg_cnt += 1\n",
    "    print(msg_cnt)\n",
    "\n",
    "data_tuples = data_tuples[]\n",
    "print(data_tuples)\n",
    "\n",
    "running = True\n",
    "while running:\n",
    "    for event in pygame.event.get():\n",
    "        if event.type == pygame.QUIT:\n",
    "            running = False\n",
    "    if not running:\n",
    "        break\n",
    "\n",
    "    process_messages(data_tuples)\n",
    "    running = False\n",
    "\n",
    "pygame.display.quit()\n",
    "pygame.quit()\n",
    "exit()"
   ]
  },
  {
   "cell_type": "code",
   "execution_count": null,
   "id": "f4e4da08",
   "metadata": {},
   "outputs": [],
   "source": []
  }
 ],
 "metadata": {
  "kernelspec": {
   "display_name": "Python 3 (ipykernel)",
   "language": "python",
   "name": "python3"
  },
  "language_info": {
   "codemirror_mode": {
    "name": "ipython",
    "version": 3
   },
   "file_extension": ".py",
   "mimetype": "text/x-python",
   "name": "python",
   "nbconvert_exporter": "python",
   "pygments_lexer": "ipython3",
   "version": "3.10.10"
  }
 },
 "nbformat": 4,
 "nbformat_minor": 5
}
