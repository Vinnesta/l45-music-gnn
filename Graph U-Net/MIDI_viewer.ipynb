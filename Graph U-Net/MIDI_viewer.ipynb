{
 "cells": [
  {
   "cell_type": "code",
   "execution_count": 1,
   "id": "d1331adf",
   "metadata": {
    "scrolled": false
   },
   "outputs": [],
   "source": [
    "import mido\n",
    "import numpy as np\n",
    "import torch\n",
    "import pretty_midi\n",
    "from scipy.io.wavfile import write\n",
    "import fluidsynth\n",
    "\n",
    "def read_midi(filename, output_filename):\n",
    "    file = mido.MidiFile(filename)\n",
    "    msg_cnt = 0\n",
    "    with open(output_filename, 'w') as f:\n",
    "        for i, track in enumerate(file.tracks):\n",
    "            f.write('Track {}: {}\\n'.format(i, track.name))\n",
    "            for msg in track:\n",
    "                f.write(str(msg) + '\\n')\n",
    "read_midi('output.mid', 'output.txt')\n"
   ]
  },
  {
   "cell_type": "code",
   "execution_count": 6,
   "outputs": [],
   "source": [
    "# How much does velocity matter?\n",
    "def get_tuples(filename):\n",
    "    midi = mido.MidiFile(filename)\n",
    "    tuples = []\n",
    "    t = 0\n",
    "    for track in midi.tracks:\n",
    "        for msg in track:\n",
    "            t = t + msg.time\n",
    "            if msg.type == 'note_on':\n",
    "                tuples.append((msg.note, msg.velocity, t))\n",
    "                t = 0\n",
    "    return tuples\n",
    "\n",
    "def generate_midi(tuples, filename):\n",
    "    # Create a MIDI file\n",
    "    mid = mido.MidiFile()\n",
    "    track = mido.MidiTrack()\n",
    "    mid.tracks.append(track)\n",
    "\n",
    "    for (note, velocity, time) in tuples:\n",
    "        msg = mido.Message('note_on', note=note, velocity=64, time=time)\n",
    "        track.append(msg)\n",
    "    mid.save(filename)\n",
    "generate_midi(get_tuples('example.midi'),'fixed_velocity.midi')"
   ],
   "metadata": {
    "collapsed": false
   }
  },
  {
   "cell_type": "markdown",
   "source": [],
   "metadata": {
    "collapsed": false
   }
  }
 ],
 "metadata": {
  "kernelspec": {
   "display_name": "Python 3 (ipykernel)",
   "language": "python",
   "name": "python3"
  },
  "language_info": {
   "codemirror_mode": {
    "name": "ipython",
    "version": 3
   },
   "file_extension": ".py",
   "mimetype": "text/x-python",
   "name": "python",
   "nbconvert_exporter": "python",
   "pygments_lexer": "ipython3",
   "version": "3.10.8"
  }
 },
 "nbformat": 4,
 "nbformat_minor": 5
}
