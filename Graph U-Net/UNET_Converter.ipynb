{
 "nbformat": 4,
 "nbformat_minor": 0,
 "metadata": {
  "colab": {
   "provenance": [],
   "toc_visible": true,
   "authorship_tag": "ABX9TyNI5I1L142Mw6E8cJUEScqn"
  },
  "kernelspec": {
   "name": "python3",
   "display_name": "Python 3"
  },
  "language_info": {
   "name": "python"
  }
 },
 "cells": [
  {
   "cell_type": "code",
   "source": [
    "import os\n",
    "import sys\n",
    "import random\n",
    "import time as TimeLib\n",
    "\n",
    "import numpy as np\n",
    "import torch\n",
    "import torch.nn as nn\n",
    "import torch.nn.functional as F\n",
    "import torch.optim as optim\n",
    "from sklearn.model_selection import train_test_split\n",
    "from torch_geometric.data import Data, DataLoader\n",
    "from torch_geometric.loader import DataLoader\n",
    "from torch_geometric.nn import MessagePassing, global_mean_pool\n",
    "from torch_geometric.utils import add_self_loops, degree, remove_self_loops, to_dense_adj, dense_to_sparse\n",
    "from torch.nn import Linear, ReLU, BatchNorm1d, Module, Sequential\n",
    "from torch_scatter import scatter\n",
    "import torch_geometric.transforms as T\n",
    "from torch_geometric.data import Data\n",
    "from torch_geometric.data import Batch\n",
    "from torch.optim import Adam\n",
    "from torch.nn import MSELoss\n",
    "\n",
    "import seaborn as sns\n",
    "import pandas as pd\n",
    "import matplotlib.pyplot as plt\n",
    "\n",
    "from scipy.stats import ortho_group\n",
    "from scipy.io.wavfile import write\n",
    "\n",
    "import fluidsynth\n",
    "import mido\n",
    "import pretty_midi\n",
    "import networkx as nx\n",
    "from mido import MidiFile, MidiTrack, Message\n",
    "from pprint import pprint\n",
    "\n",
    "NORMAL_GRAPH = 89\n",
    "MINI_GRAPH = 11\n",
    "SEQ_FEATURE_LENGTH = 20\n",
    "BATCH_SIZE = 32\n",
    "BINARY_VELOCITY = False"
   ],
   "metadata": {
    "id": "qyzr3bRjoHR-"
   },
   "execution_count": 40,
   "outputs": []
  },
  {
   "cell_type": "code",
   "execution_count": 41,
   "outputs": [
    {
     "name": "stdout",
     "output_type": "stream",
     "text": [
      "Number of available GPUs:  1\n",
      "GPU  0  name:  NVIDIA GeForce RTX 3070 Ti Laptop GPU\n"
     ]
    }
   ],
   "source": [
    "# Get the number of available GPUs\n",
    "num_gpus = torch.cuda.device_count()\n",
    "\n",
    "# Print the number of available GPUs\n",
    "print(\"Number of available GPUs: \", num_gpus)\n",
    "\n",
    "# Print the name of each GPU\n",
    "for i in range(num_gpus):\n",
    "    print(\"GPU \", i, \" name: \", torch.cuda.get_device_name(i))\n",
    "device = torch.device(\"cuda\" if torch.cuda.is_available() else \"cpu\")"
   ],
   "metadata": {
    "collapsed": false
   }
  },
  {
   "cell_type": "code",
   "execution_count": 42,
   "outputs": [],
   "source": [
    "# For storing experimental results over the course of the practical\n",
    "RESULTS = {}\n",
    "DF_RESULTS = pd.DataFrame(columns=[\"Test MAE\", \"Val MAE\", \"Epoch\", \"Model\"])"
   ],
   "metadata": {
    "collapsed": false
   }
  },
  {
   "cell_type": "code",
   "execution_count": 43,
   "outputs": [],
   "source": [
    "def create_piano_graph(num_nodes):\n",
    "    edges = [(i, i + 1) for i in range(1, num_nodes - 1)] + [(i + 1, i) for i in range(1, num_nodes - 1)]\n",
    "    edges += [(0, i) for i in range(1, num_nodes)] + [(i, 0) for i in range(1, num_nodes)]\n",
    "    edge_index = torch.tensor(edges, dtype=torch.long, device='cuda:0').t().contiguous()\n",
    "\n",
    "    edge_features = [1] * (len(edges) - 2 * (num_nodes - 1)) + [0] * (2 * (num_nodes - 1))\n",
    "    edge_attr = torch.tensor(edge_features, dtype=torch.float, device='cuda:0').view(-1, 1)\n",
    "    return edge_index, edge_attr"
   ],
   "metadata": {
    "collapsed": false
   }
  },
  {
   "cell_type": "code",
   "execution_count": 44,
   "outputs": [],
   "source": [
    "edge_index, edge_attr = create_piano_graph(NORMAL_GRAPH)\n",
    "edge_index_mini, edge_attr_mini = create_piano_graph(MINI_GRAPH)"
   ],
   "metadata": {
    "collapsed": false
   }
  },
  {
   "cell_type": "code",
   "execution_count": 45,
   "outputs": [],
   "source": [
    "# Load the MIDI file\n",
    "midi_files = os.listdir('mozart/')\n",
    "midi_files = [f for f in midi_files if f.endswith('.mid')]\n",
    "# Process each MIDI file and add to dataset\n",
    "file_to_tuples = []\n",
    "timestep_values = []\n",
    "for file_name in midi_files:\n",
    "    file_path = os.path.join('mozart', file_name)\n",
    "    file = mido.MidiFile(file_path)\n",
    "    tuples = []\n",
    "    for i, track in enumerate(file.tracks):\n",
    "        timestep = 0\n",
    "        for msg in track:\n",
    "            timestep += msg.time\n",
    "            if msg.type == 'note_on':\n",
    "                note_tuple = (msg.note - 20, msg.velocity, timestep)\n",
    "                timestep_values.append(timestep)\n",
    "                timestep = 0\n",
    "                tuples.append(note_tuple)\n",
    "    file_to_tuples.append(tuples)\n",
    "timestep_std = np.std(timestep_values)\n",
    "for i in range(len(file_to_tuples)):\n",
    "    file_to_tuples[i] = [(t[0], t[1]/128, t[2] /timestep_std) for t in file_to_tuples[i]]"
   ],
   "metadata": {
    "collapsed": false
   }
  },
  {
   "cell_type": "code",
   "execution_count": 46,
   "outputs": [],
   "source": [
    "# dataset list\n",
    "graph_data_list = []\n",
    "unet_out_list = []\n",
    "for data_tuples in file_to_tuples:\n",
    "    x = torch.zeros((len(data_tuples), NORMAL_GRAPH, SEQ_FEATURE_LENGTH), dtype=torch.float)\n",
    "    for i, (note, velocity, timestep) in enumerate(data_tuples):\n",
    "        if i > 0:\n",
    "            x[i, :, :-1] = x[i-1, :, 1:]  # Shift all rows one to the front\n",
    "            x[i, :, -1] = x[i-1, :, -1]\n",
    "        # Normalize velocity and timestep\n",
    "        x[i, note, -1] = 1 if BINARY_VELOCITY else velocity\n",
    "        x[i, 0, -1] = timestep\n",
    "    for i in range(len(x)):\n",
    "        # Input is a 20 timestep matrix, the expected output is only the last step\n",
    "        data = Data(x=x[i], edge_index=edge_index, edge_attr=edge_attr,  y=x[i,:,-1])\n",
    "        graph_data_list.append(data)\n",
    "\n",
    "unet_out_list = []\n",
    "for data_tuples in file_to_tuples[:1]:\n",
    "    x = torch.zeros((len(data_tuples), NORMAL_GRAPH, SEQ_FEATURE_LENGTH), dtype=torch.float)\n",
    "    for i, (note, velocity, timestep) in enumerate(data_tuples):\n",
    "        if i > 0:\n",
    "            x[i, :, :-1] = x[i-1, :, 1:]  # Shift all rows one to the front\n",
    "            x[i, :, -1] = x[i-1, :, -1]\n",
    "        # Normalize velocity and timestep\n",
    "        x[i, note, -1] = 1 if BINARY_VELOCITY else velocity\n",
    "        x[i, 0, -1] = timestep\n",
    "    for i in range(len(x)):\n",
    "        # Input is a 20 timestep matrix, the expected output is only the last step\n",
    "        data = Data(x=x[i], edge_index=edge_index, edge_attr=edge_attr,  y=x[i,:,-1])\n",
    "        unet_out_list.append(data)"
   ],
   "metadata": {
    "collapsed": false
   }
  },
  {
   "cell_type": "code",
   "execution_count": 47,
   "outputs": [],
   "source": [
    "random.shuffle(graph_data_list)\n",
    "train_dataset = graph_data_list[:3000]\n",
    "val_dataset = graph_data_list[3000:3500]\n",
    "test_dataset = graph_data_list[3500:4000]"
   ],
   "metadata": {
    "collapsed": false
   }
  },
  {
   "cell_type": "code",
   "execution_count": 48,
   "outputs": [],
   "source": [
    "train_loader = DataLoader(train_dataset, batch_size=BATCH_SIZE, shuffle=True)\n",
    "val_loader = DataLoader(val_dataset, batch_size=BATCH_SIZE, shuffle=False)\n",
    "test_loader = DataLoader(test_dataset, batch_size=BATCH_SIZE, shuffle=False)"
   ],
   "metadata": {
    "collapsed": false
   }
  },
  {
   "cell_type": "code",
   "execution_count": 49,
   "outputs": [],
   "source": [
    "class MPNNLayer(MessagePassing):\n",
    "    def __init__(self, emb_dim, edge_dim, aggr='add'):\n",
    "        # Set the aggregation function\n",
    "        super().__init__(aggr=aggr)\n",
    "\n",
    "        self.emb_dim = emb_dim\n",
    "        self.edge_dim = edge_dim\n",
    "\n",
    "        self.mlp_msg = Sequential(\n",
    "            Linear(2*emb_dim + edge_dim, emb_dim), BatchNorm1d(emb_dim), ReLU(),\n",
    "            Linear(emb_dim, emb_dim), BatchNorm1d(emb_dim), ReLU()\n",
    "          )\n",
    "\n",
    "        self.mlp_upd = Sequential(\n",
    "            Linear(2*emb_dim, emb_dim), BatchNorm1d(emb_dim), ReLU(),\n",
    "            Linear(emb_dim, emb_dim), BatchNorm1d(emb_dim), ReLU()\n",
    "          )\n",
    "\n",
    "    def forward(self, h, edge_index, edge_attr):\n",
    "        out = self.propagate(edge_index, h=h, edge_attr=edge_attr)\n",
    "        return out\n",
    "\n",
    "    def message(self, h_i, h_j, edge_attr):\n",
    "        msg = torch.cat([h_i, h_j, edge_attr], dim=-1)\n",
    "        return self.mlp_msg(msg)\n",
    "\n",
    "    def aggregate(self, inputs, index):\n",
    "        return scatter(inputs, index, dim=self.node_dim, reduce=self.aggr)\n",
    "\n",
    "    def update(self, aggr_out, h):\n",
    "        upd_out = torch.cat([h, aggr_out], dim=-1)\n",
    "        return self.mlp_upd(upd_out)\n",
    "\n",
    "    def __repr__(self) -> str:\n",
    "        return (f'{self.__class__.__name__}(emb_dim={self.emb_dim}, aggr={self.aggr})')"
   ],
   "metadata": {
    "collapsed": false
   }
  },
  {
   "cell_type": "code",
   "execution_count": 50,
   "outputs": [],
   "source": [
    "class MPNNModelEnDecoder(Module):\n",
    "    def __init__(self, in_node_count, num_layers, emb_dim, in_feature_dim, edge_dim, out_node_count, out_feature_dim):\n",
    "        super().__init__()\n",
    "\n",
    "        self.out_feature_dim = out_feature_dim\n",
    "        self.out_node_count = out_node_count\n",
    "        # Linear projection for initial node features\n",
    "        # dim: d_n -> d\n",
    "        self.lin_in = Linear(in_feature_dim, emb_dim)\n",
    "\n",
    "        # Stack of MPNN layers\n",
    "        self.convs = torch.nn.ModuleList()\n",
    "        for layer in range(num_layers):\n",
    "            self.convs.append(MPNNLayer(emb_dim, edge_dim, aggr='add'))\n",
    "\n",
    "        # Global pooling/readout function `R` (mean pooling)\n",
    "        # PyG handles the underlying logic via `global_mean_pool()`\n",
    "        self.pool = global_mean_pool\n",
    "\n",
    "        # Linear prediction head\n",
    "        # dim: d -> num_nodes * out_dim\n",
    "        self.lin_pred = Linear(emb_dim, out_node_count * out_feature_dim)\n",
    "        # n nodes in the graph\n",
    "        self.relu = nn.ReLU()\n",
    "        self.sigmoid = nn.Sigmoid()\n",
    "\n",
    "    def forward(self, data):\n",
    "        h = self.lin_in(data.x)  # (n, d_n) -> (n, d)\n",
    "        for conv in self.convs:\n",
    "            h = h + conv(h, data.edge_index, data.edge_attr)  # (n, d) -> (n, d)\n",
    "            # Note that we add a residual connection after each MPNN layer\n",
    "        h_graph = self.pool(h, data.batch)  # (n, d) -> (batch_size, d)\n",
    "\n",
    "        out_feature_matrix = self.lin_pred(h_graph)  # (batch_size, d) -> (batch_size, num_nodes * out_dim)\n",
    "        # Reshape the output to the desired matrix shape (batch_size, num_nodes, out_dim)\n",
    "        out_matrix = out_feature_matrix.view(-1, self.out_node_count, self.out_feature_dim)\n",
    "        out_matrix[:, 0, :] = self.relu(out_matrix[:, 0, :])\n",
    "\n",
    "        out_matrix[:, 1:, :] = self.sigmoid(out_matrix[:, 1:, :])\n",
    "        return out_matrix"
   ],
   "metadata": {
    "collapsed": false
   }
  },
  {
   "cell_type": "code",
   "execution_count": 51,
   "outputs": [],
   "source": [
    "class GraphUNet(Module):\n",
    "    def __init__(self, num_layers=1, emb_dim=64, in_feature_dim=SEQ_FEATURE_LENGTH, edge_dim=1, out_node_count = MINI_GRAPH, out_feature_dim=SEQ_FEATURE_LENGTH, in_node_count=NORMAL_GRAPH):\n",
    "        super().__init__()\n",
    "        self.encoder = MPNNModelEnDecoder( in_node_count, num_layers, emb_dim, in_feature_dim , edge_dim, out_node_count= out_node_count, out_feature_dim= out_feature_dim)\n",
    "        self.decoder = MPNNModelEnDecoder(out_node_count, num_layers, emb_dim, out_feature_dim, edge_dim, out_node_count= in_node_count , out_feature_dim= 1)\n",
    "\n",
    "    def forward(self, data):\n",
    "        h_encoded = self.encoder(data)\n",
    "        batch_size = h_encoded.size(0)\n",
    "\n",
    "        # Create batch_decoded tensor\n",
    "        batch_decoded = torch.cat([torch.tensor([i] * MINI_GRAPH, dtype=torch.int64, device='cuda:0') for i in range(batch_size)], dim=0)\n",
    "\n",
    "        # Create new graph's edge attributes\n",
    "        edge_attr_batch = torch.cat([edge_attr_mini for _ in range(batch_size)], dim=0)\n",
    "\n",
    "        # Create new graph's edge indices\n",
    "        edge_index_batch = torch.cat([edge_index_mini + i * MINI_GRAPH for i in range(batch_size)], dim = 1)\n",
    "\n",
    "        data_encoded = Data(x=h_encoded.view(-1, self.encoder.out_feature_dim), batch=batch_decoded, edge_index=edge_index_batch, edge_attr=edge_attr_batch)\n",
    "        h_decoded = self.decoder(data_encoded).squeeze(-1)\n",
    "\n",
    "        return h_decoded, h_encoded"
   ],
   "metadata": {
    "collapsed": false
   }
  },
  {
   "cell_type": "code",
   "execution_count": 52,
   "outputs": [],
   "source": [
    "# 3. Initialize the model, optimizer, and loss function\n",
    "model = GraphUNet().to(device)\n",
    "optimizer = Adam(model.parameters(), lr=0.001)\n",
    "\n",
    "def train(model, train_loader, optimizer, device):\n",
    "    model.train()\n",
    "    loss_all = 0\n",
    "\n",
    "    for data in train_loader:\n",
    "        data = data.to(device)\n",
    "        optimizer.zero_grad()\n",
    "        y_pred, encoded_matrix = model(data)\n",
    "        data.y = data.y.view(y_pred.shape[0], -1)\n",
    "\n",
    "        # Timestep loss\n",
    "        timestep_loss = F.mse_loss(y_pred[:, 0], data.y[:, 0])\n",
    "\n",
    "        # key velocity loss\n",
    "        key_on_loss = 0\n",
    "        if BINARY_VELOCITY:\n",
    "            key_on_loss = F.binary_cross_entropy(y_pred[:, 1:], data.y[:, 1:])\n",
    "        else:\n",
    "            key_on_loss = F.mse_loss(y_pred[:, 1:], data.y[:, 1:])\n",
    "\n",
    "        # total loss\n",
    "        loss = timestep_loss * 0.5 + key_on_loss * 4\n",
    "        loss.backward()\n",
    "        loss_all += loss.item() * data.num_graphs\n",
    "        optimizer.step()\n",
    "    return loss_all / len(train_loader.dataset)\n",
    "\n",
    "def eval(model, loader, device):\n",
    "    model.eval()\n",
    "    error = 0\n",
    "\n",
    "    for data in loader:\n",
    "        data = data.to(device)\n",
    "        with torch.no_grad():\n",
    "            y_pred, encoded_matrix = model(data)\n",
    "            data.y = data.y.view(y_pred.shape[0], -1)\n",
    "\n",
    "            # Mean Absolute Error for timesteps\n",
    "            timestep_error = (y_pred[:, 0] - data.y[:, 0]).abs().sum().item()\n",
    "\n",
    "            # predictions for key velocities and their error\n",
    "            key_velocity_error = 0 #(y_pred[:, 1:] - data.y[:, 1:]).abs().sum().item()\n",
    "\n",
    "            # Total error\n",
    "            error += timestep_error + key_velocity_error\n",
    "    return error / len(loader.dataset)"
   ],
   "metadata": {
    "collapsed": false
   }
  },
  {
   "cell_type": "code",
   "execution_count": 53,
   "outputs": [],
   "source": [
    "def run_experiment(model, model_name, train_loader, val_loader, test_loader, n_epochs=100):\n",
    "\n",
    "    print(f\"Running experiment for {model_name}, training on {len(train_loader.dataset)} samples for {n_epochs} epochs.\")\n",
    "\n",
    "    print(\"\\nModel architecture:\")\n",
    "    print(model)\n",
    "    total_param = 0\n",
    "    for param in model.parameters():\n",
    "        total_param += np.prod(list(param.data.size()))\n",
    "    print(f'Total parameters: {total_param}')\n",
    "    model = model.to(device)\n",
    "\n",
    "    # Adam optimizer with LR 1e-3\n",
    "    optimizer = torch.optim.Adam(model.parameters(), lr=0.001)\n",
    "\n",
    "    # LR scheduler which decays LR when validation metric doesn't improve\n",
    "    scheduler = torch.optim.lr_scheduler.ReduceLROnPlateau(\n",
    "        optimizer, mode='min', factor=0.9, patience=5, min_lr=0.00001)\n",
    "\n",
    "    print(\"\\nStart training:\")\n",
    "    best_val_error = None\n",
    "    perf_per_epoch = [] # Track Test/Val MAE vs. epoch (for plotting)\n",
    "    t = TimeLib.time()\n",
    "    for epoch in range(1, n_epochs+1):\n",
    "        # Call LR scheduler at start of each epoch\n",
    "        lr = scheduler.optimizer.param_groups[0]['lr']\n",
    "\n",
    "        # Train model for one epoch, return avg. training loss\n",
    "        loss = train(model, train_loader, optimizer, device)\n",
    "\n",
    "        # Evaluate model on validation set\n",
    "        val_error = eval(model, val_loader, device)\n",
    "\n",
    "        if best_val_error is None or val_error <= best_val_error:\n",
    "            # Evaluate model on test set if validation metric improves\n",
    "            test_error = eval(model, test_loader, device)\n",
    "            best_val_error = val_error\n",
    "\n",
    "        if epoch % 10 == 0:\n",
    "            # Print and track stats every 10 epochs\n",
    "            print(f'Epoch: {epoch:03d}, LR: {lr:5f}, Loss: {loss:.7f}, '\n",
    "                  f'Val MAE: {val_error:.7f}, Test MAE: {test_error:.7f}')\n",
    "\n",
    "        scheduler.step(val_error)\n",
    "        perf_per_epoch.append((test_error, val_error, epoch, model_name))\n",
    "\n",
    "    t = TimeLib.time() - t\n",
    "    train_time = t/60\n",
    "    print(f\"\\nDone! Training took {train_time:.2f} mins. Best validation MAE: {best_val_error:.7f}, corresponding test MAE: {test_error:.7f}.\")\n",
    "\n",
    "    return best_val_error, test_error, train_time, perf_per_epoch"
   ],
   "metadata": {
    "collapsed": false
   }
  },
  {
   "cell_type": "code",
   "execution_count": 54,
   "outputs": [
    {
     "name": "stdout",
     "output_type": "stream",
     "text": [
      "Running experiment for GraphUNet, training on 3000 samples for 100 epochs.\n",
      "\n",
      "Model architecture:\n",
      "GraphUNet(\n",
      "  (encoder): MPNNModelEnDecoder(\n",
      "    (lin_in): Linear(in_features=20, out_features=512, bias=True)\n",
      "    (convs): ModuleList(\n",
      "      (0): MPNNLayer(emb_dim=512, aggr=add)\n",
      "    )\n",
      "    (lin_pred): Linear(in_features=512, out_features=220, bias=True)\n",
      "    (relu): ReLU()\n",
      "    (sigmoid): Sigmoid()\n",
      "  )\n",
      "  (decoder): MPNNModelEnDecoder(\n",
      "    (lin_in): Linear(in_features=20, out_features=512, bias=True)\n",
      "    (convs): ModuleList(\n",
      "      (0): MPNNLayer(emb_dim=512, aggr=add)\n",
      "    )\n",
      "    (lin_pred): Linear(in_features=512, out_features=89, bias=True)\n",
      "    (relu): ReLU()\n",
      "    (sigmoid): Sigmoid()\n",
      "  )\n",
      ")\n",
      "Total parameters: 3339061\n",
      "\n",
      "Start training:\n",
      "Epoch: 010, LR: 0.001000, Loss: 0.0397907, Val MAE: 0.0870311, Test MAE: 0.0706819\n",
      "Epoch: 020, LR: 0.000900, Loss: 0.0289852, Val MAE: 0.0812839, Test MAE: 0.0323401\n",
      "Epoch: 030, LR: 0.000729, Loss: 0.0143165, Val MAE: 0.0527058, Test MAE: 0.0323401\n",
      "Epoch: 040, LR: 0.000729, Loss: 0.0132677, Val MAE: 0.0432689, Test MAE: 0.0243038\n",
      "Epoch: 050, LR: 0.000590, Loss: 0.0153287, Val MAE: 0.0940965, Test MAE: 0.0243038\n",
      "Epoch: 060, LR: 0.000531, Loss: 0.0136447, Val MAE: 0.0408343, Test MAE: 0.0243038\n",
      "Epoch: 070, LR: 0.000430, Loss: 0.0106197, Val MAE: 0.0645681, Test MAE: 0.0243038\n",
      "Epoch: 080, LR: 0.000349, Loss: 0.0118259, Val MAE: 0.0630228, Test MAE: 0.0243038\n",
      "Epoch: 090, LR: 0.000314, Loss: 0.0093748, Val MAE: 0.0236550, Test MAE: 0.0174005\n",
      "Epoch: 100, LR: 0.000254, Loss: 0.0070952, Val MAE: 0.0468363, Test MAE: 0.0174005\n",
      "\n",
      "Done! Training took 3.28 mins. Best validation MAE: 0.0190953, corresponding test MAE: 0.0174005.\n"
     ]
    },
    {
     "name": "stderr",
     "output_type": "stream",
     "text": [
      "C:\\Users\\alike\\AppData\\Local\\Temp\\ipykernel_408\\3394304359.py:12: FutureWarning: The frame.append method is deprecated and will be removed from pandas in a future version. Use pandas.concat instead.\n",
      "  DF_RESULTS = DF_RESULTS.append(df_temp, ignore_index=True)\n"
     ]
    }
   ],
   "source": [
    "model = GraphUNet(num_layers=1, emb_dim=512, in_feature_dim = SEQ_FEATURE_LENGTH, edge_dim=1, out_node_count = MINI_GRAPH, out_feature_dim=SEQ_FEATURE_LENGTH, in_node_count=89)\n",
    "model_name = type(model).__name__\n",
    "best_val_error, test_error, train_time, perf_per_epoch = run_experiment(\n",
    "    model,\n",
    "    model_name,\n",
    "    train_loader,\n",
    "    val_loader,\n",
    "    test_loader,\n",
    "    n_epochs=100\n",
    ")\n",
    "df_temp = pd.DataFrame(perf_per_epoch, columns=[\"Test error\", \"Val error\", \"Epoch\", \"Model\"])\n",
    "DF_RESULTS = DF_RESULTS.append(df_temp, ignore_index=True)"
   ],
   "metadata": {
    "collapsed": false
   }
  },
  {
   "cell_type": "code",
   "execution_count": 63,
   "outputs": [
    {
     "data": {
      "text/plain": "<Figure size 640x480 with 1 Axes>",
      "image/png": "[encoded data removed]"
     },
     "metadata": {},
     "output_type": "display_data"
    }
   ],
   "source": [
    "#for i in range(2,3):\n",
    "p = sns.lineplot(x=\"Epoch\", y=f\"Test error\", hue=\"Model\", data=DF_RESULTS)\n",
    "plt.show()"
   ],
   "metadata": {
    "collapsed": false
   }
  },
  {
   "cell_type": "code",
   "execution_count": 58,
   "outputs": [],
   "source": [
    "graph_output_list = []\n",
    "\n",
    "# Process each data element and store the output\n",
    "for data in unet_out_list[:100]:\n",
    "    data = data.to(device)\n",
    "    with torch.no_grad():\n",
    "        output = model(data)[0]\n",
    "    graph_output_list.append(output.cpu())"
   ],
   "metadata": {
    "collapsed": false
   }
  },
  {
   "cell_type": "code",
   "execution_count": 59,
   "outputs": [],
   "source": [
    "def extract_tuples(pressed_keys):\n",
    "    extracted_data_tuples = []\n",
    "    prev_indices = []\n",
    "    for i in range(len(pressed_keys)):\n",
    "        pressed_keys[i] = pressed_keys[i].squeeze()\n",
    "        timestep = pressed_keys[i][0].item()\n",
    "        indices = torch.where(pressed_keys[i][1:] > 1/100)[0].squeeze()\n",
    "        if indices.numel() == 1:\n",
    "            indices = [indices.add(1).tolist()]\n",
    "        else:\n",
    "            indices = indices.add(1).tolist()\n",
    "\n",
    "        # indices = torch.nonzero(pressed_keys[i][1:] > 1e-2).squeeze(-1).tolist()\n",
    "        extracted_data_tuples.append((0, 0, timestep))\n",
    "        for x in indices:\n",
    "            if x not in prev_indices:\n",
    "                if BINARY_VELOCITY and pressed_keys[i][x] < 0.5:\n",
    "                    continue\n",
    "                velocity = 64 if BINARY_VELOCITY else round(pressed_keys[i][x].item() * 128)\n",
    "                extracted_data_tuples.append((x, velocity, 0))\n",
    "        for x in prev_indices:\n",
    "            if x not in indices:\n",
    "                extracted_data_tuples.append((x, 0, 0))\n",
    "    return extracted_data_tuples\n",
    "extrated_tuples = extract_tuples(graph_output_list)"
   ],
   "metadata": {
    "collapsed": false
   }
  },
  {
   "cell_type": "code",
   "execution_count": 61,
   "outputs": [],
   "source": [
    "def tuples_to_midi(tuples, filename, timestep_std):\n",
    "    # Initialize a new MIDI file and track\n",
    "    midi_file = MidiFile()\n",
    "    track = MidiTrack()\n",
    "    midi_file.tracks.append(track)\n",
    "\n",
    "    # Process tuples and add MIDI messages to the track\n",
    "    for note, velocity, timestep in tuples:\n",
    "        # De-normalize velocity and timestep\n",
    "        # velocity = round(velocity * velocity_std)\n",
    "        timestep = round(timestep * timestep_std)\n",
    "\n",
    "        # Adjust note range\n",
    "        note = note + 20\n",
    "\n",
    "        # Clamp values to the valid MIDI range\n",
    "        note = max(21, min(108, note))\n",
    "        velocity = velocity * 10\n",
    "        velocity = max(0, min(127, velocity))\n",
    "        if BINARY_VELOCITY:\n",
    "            velocity = 64\n",
    "        # Add MIDI messages to the track\n",
    "        track.append(Message('note_on', note=note, velocity=velocity, time=timestep))\n",
    "\n",
    "    # Save the MIDI file\n",
    "    midi_file.save(filename)\n",
    "tuples_to_midi(extrated_tuples, 'unet_output.mid', timestep_std)"
   ],
   "metadata": {
    "collapsed": false
   }
  }
 ]
}
