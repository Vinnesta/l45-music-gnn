{
 "cells": [
  {
   "cell_type": "code",
   "execution_count": 262,
   "id": "c5f05f94",
   "metadata": {
    "id": "c5f05f94"
   },
   "outputs": [],
   "source": [
    "import os\n",
    "import random\n",
    "import time as TimeLib\n",
    "import sys\n",
    "\n",
    "import numpy as np\n",
    "import torch\n",
    "import torch.nn as nn\n",
    "import torch.nn.functional as F\n",
    "import torch.optim as optim\n",
    "from sklearn.model_selection import train_test_split\n",
    "from torch_geometric.data import Data, DataLoader\n",
    "from torch_geometric.loader import DataLoader\n",
    "from torch_geometric.nn import MessagePassing, global_mean_pool\n",
    "from torch_geometric.utils import add_self_loops, degree, remove_self_loops, to_dense_adj, dense_to_sparse\n",
    "from torch.nn import Linear, ReLU, BatchNorm1d, Module, Sequential\n",
    "from torch_scatter import scatter\n",
    "import torch_geometric.transforms as T\n",
    "from torch_geometric.data import Data\n",
    "from torch_geometric.data import Batch\n",
    "\n",
    "import seaborn as sns\n",
    "import pandas as pd\n",
    "import matplotlib.pyplot as plt\n",
    "\n",
    "from scipy.stats import ortho_group\n",
    "from scipy.io.wavfile import write\n",
    "\n",
    "import fluidsynth\n",
    "import mido\n",
    "import pretty_midi\n",
    "import networkx as nx\n"
   ]
  },
  {
   "cell_type": "code",
   "execution_count": 263,
   "outputs": [],
   "source": [
    "BATCH_SIZE = 32\n",
    "DEVICE = torch.device('cuda' if torch.cuda.is_available() else 'cpu')"
   ],
   "metadata": {
    "collapsed": false
   }
  },
  {
   "cell_type": "markdown",
   "id": "5ee8499e",
   "metadata": {
    "id": "5ee8499e"
   },
   "source": [
    "# MIDI file setup tests"
   ]
  },
  {
   "cell_type": "code",
   "execution_count": 264,
   "id": "0e04df08",
   "metadata": {
    "colab": {
     "base_uri": "https://localhost:8080/"
    },
    "id": "0e04df08",
    "outputId": "791ac53f-535f-47cf-9f85-50cb9ed5cf23"
   },
   "outputs": [],
   "source": [
    "def get_midi_length_in_seconds(filename):\n",
    "    file = pretty_midi.PrettyMIDI(filename)\n",
    "    length_in_seconds = file.get_end_time()\n",
    "    return length_in_seconds\n",
    "\n",
    "def get_midi_sample_rate(filename):\n",
    "    s = get_midi_length_in_seconds(filename)\n",
    "    t = get_midi_timesteps(filename)\n",
    "    return int(t/s)\n",
    "\n",
    "def get_midi_timesteps(filename):\n",
    "    midi = mido.MidiFile(filename)\n",
    "    timesteps = 0\n",
    "    for track in midi.tracks:\n",
    "        for msg in track:\n",
    "            timesteps += msg.time\n",
    "    return timesteps\n",
    "\n",
    "TIMESTEPS = get_midi_timesteps(\"example.midi\")\n",
    "SECS = get_midi_length_in_seconds(\"example.midi\")\n",
    "SAMPLE_RATE = get_midi_sample_rate(\"example.midi\")\n",
    "print(TIMESTEPS, SECS, SAMPLE_RATE)"
   ]
  },
  {
   "cell_type": "markdown",
   "id": "d934b0db",
   "metadata": {
    "id": "d934b0db"
   },
   "source": [
    "# Some questions"
   ]
  },
  {
   "cell_type": "markdown",
   "id": "16c0603f",
   "metadata": {
    "id": "16c0603f"
   },
   "source": [
    "### First quesion, do we have one piano in all files?\n",
    "Cool! All of 2018 are right!"
   ]
  },
  {
   "cell_type": "code",
   "execution_count": 265,
   "id": "de66bc79",
   "metadata": {
    "id": "de66bc79"
   },
   "outputs": [],
   "source": [
    "def get_midi_instrument_types(filename):\n",
    "    midi = pretty_midi.PrettyMIDI(filename)\n",
    "    instrument_types = []\n",
    "    for instrument in midi.instruments:\n",
    "        # name of the instrument\n",
    "        instrument_types.append(pretty_midi.program_to_instrument_name(instrument.program))\n",
    "    return instrument_types\n",
    "\n",
    "directory = 'maestro-v3.0.0/2018'\n",
    "count = 0\n",
    "# Loop through all files in the directory and its subdirectories\n",
    "for root, dirs, files in os.walk(directory):\n",
    "    for file in files:\n",
    "        if file.endswith('.midi'):\n",
    "            # Read the MIDI file and check its instrument type\n",
    "            file_path = os.path.join(root, file)\n",
    "            midi_file = pretty_midi.PrettyMIDI(file_path)\n",
    "            instrument_types = []\n",
    "            for instrument in midi_file.instruments:\n",
    "                # name of the instrument\n",
    "                instrument_types.append(pretty_midi.program_to_instrument_name(instrument.program))\n",
    "            if instrument_types != ['Acoustic Grand Piano']:\n",
    "                print(\"Oops! Error ...\")"
   ]
  },
  {
   "cell_type": "markdown",
   "id": "f108ab90",
   "metadata": {
    "id": "f108ab90"
   },
   "source": [
    "### Second question, how many buttons (msg.note)s are used?\n",
    "Here, I want to count the number of different keys used in all MIDI files. I want to build a path graph."
   ]
  },
  {
   "cell_type": "code",
   "execution_count": 266,
   "id": "96837edc",
   "metadata": {
    "id": "96837edc"
   },
   "outputs": [],
   "source": [
    "directory = 'maestro-v3.0.0/2018'\n",
    "count_set = set()\n",
    "# Loop through all files in the directory and its subdirectories\n",
    "for root, dirs, files in os.walk(directory):\n",
    "    for file in files:\n",
    "        note_values = []\n",
    "        if file.endswith('.midi'):\n",
    "            # Read the MIDI file and check its instrument type\n",
    "            file_path = os.path.join(root, file)\n",
    "            midi_file = mido.MidiFile(file_path)\n",
    "            for i, track in enumerate(midi_file.tracks):\n",
    "                for msg in track:\n",
    "                    if msg.type == 'note_on':\n",
    "                        note_values.append(msg.note)\n",
    "        count_set.update(note_values)\n",
    "expected_set = set(range(21, 109))\n",
    "if count_set.issubset(expected_set):\n",
    "    print(\"count_set contains all values from 21 to 108\")\n",
    "else:\n",
    "    print(\"count_set does not contain all values from 21 to 108\")\n",
    "print(count_set)"
   ]
  },
  {
   "cell_type": "markdown",
   "id": "8465b124",
   "metadata": {
    "id": "8465b124"
   },
   "source": [
    "Nice answer! 21 to 108!\n",
    "\n",
    "like its written here:\n",
    "https://www.inspiredacoustics.com/en/MIDI_note_numbers_and_center_frequencies"
   ]
  },
  {
   "cell_type": "markdown",
   "id": "c8edef64",
   "metadata": {
    "id": "c8edef64"
   },
   "source": [
    "### Third question, what is the longest timestep generated?\n",
    "We are going to guess a number for the timestep generated. Are we going to use classification or what?"
   ]
  },
  {
   "cell_type": "code",
   "execution_count": 267,
   "id": "25b3c9fa",
   "metadata": {
    "id": "25b3c9fa"
   },
   "outputs": [],
   "source": [
    "directory = 'maestro-v3.0.0/2018'\n",
    "count_set = set()\n",
    "# Loop through all files in the directory and its subdirectories\n",
    "for root, dirs, files in os.walk(directory):\n",
    "    for file in files:\n",
    "        note_times = []\n",
    "        if file.endswith('.midi'):\n",
    "            # Read the MIDI file and check its instrument type\n",
    "            file_path = os.path.join(root, file)\n",
    "            midi_file = mido.MidiFile(file_path)\n",
    "            for i, track in enumerate(midi_file.tracks):\n",
    "                for msg in track:\n",
    "                    if msg.type == 'note_on':\n",
    "                        note_times.append(msg.time)\n",
    "        count_set.update(note_times)\n",
    "print(max(count_set))"
   ]
  },
  {
   "cell_type": "markdown",
   "id": "2d9664a7",
   "metadata": {
    "id": "2d9664a7"
   },
   "source": [
    "5978 was the longest timestep."
   ]
  },
  {
   "cell_type": "markdown",
   "id": "ec7ef4e1",
   "metadata": {
    "id": "ec7ef4e1"
   },
   "source": [
    "# Generating test/train/val dataset"
   ]
  },
  {
   "cell_type": "code",
   "execution_count": 269,
   "id": "23009de2",
   "metadata": {
    "colab": {
     "base_uri": "https://localhost:8080/"
    },
    "id": "23009de2",
    "outputId": "cfe5673d-48d2-4a99-8be9-26c53f9d1339"
   },
   "outputs": [
    {
     "name": "stdout",
     "output_type": "stream",
     "text": [
      "Track 0: \n",
      "0\n",
      "Track 1: \n",
      "15788\n"
     ]
    }
   ],
   "source": [
    "# Load the MIDI file\n",
    "\n",
    "file = mido.MidiFile('example.midi')\n",
    "msg_cnt = 0\n",
    "data_tuples = []\n",
    "for i, track in enumerate(file.tracks):\n",
    "    print('Track {}: {}'.format(i, track.name))\n",
    "    for msg in track:\n",
    "        if msg.type == 'note_on':\n",
    "            note_tuple = (msg.note - 20, msg.velocity, msg.time)\n",
    "            data_tuples.append(note_tuple)\n",
    "            msg_cnt += 1\n",
    "    print(msg_cnt)\n",
    "\n",
    "velocity_values = [t[1] for t in data_tuples]\n",
    "timestep_values = [t[2] for t in data_tuples]\n",
    "\n",
    "velocity_mean = 0 #np.mean(velocity_values)\n",
    "velocity_std = 128 #np.std(velocity_values)\n",
    "timestep_mean = 0 #np.mean(timestep_values)\n",
    "timestep_std = np.std(timestep_values)\n",
    "\n",
    "data_tuples = [(t[0], (t[1] - 0) / velocity_std, (t[2] - 0) / timestep_std) for t in data_tuples]"
   ]
  },
  {
   "cell_type": "markdown",
   "id": "7fd0f0ac",
   "metadata": {
    "id": "7fd0f0ac"
   },
   "source": [
    "## Creating the graph and edge features"
   ]
  },
  {
   "cell_type": "code",
   "execution_count": 270,
   "id": "5366b65b",
   "metadata": {
    "id": "5366b65b"
   },
   "outputs": [],
   "source": [
    "def create_piano_graph(num_nodes):\n",
    "    edges = [(i, i + 1) for i in range(1, num_nodes - 1)] + [(i + 1, i) for i in range(1, num_nodes - 1)]\n",
    "    edges += [(0, i) for i in range(1, num_nodes)] + [(i, 0) for i in range(1, num_nodes)]\n",
    "    edge_index = torch.tensor(edges, device='cuda:0').t()\n",
    "    \n",
    "    edge_features = [1] * (len(edges) - 2 * (num_nodes - 1)) + [0] * (2 * (num_nodes - 1))\n",
    "    edge_attr = torch.tensor(edge_features, device='cuda:0').view(-1, 1)\n",
    "    \n",
    "    return edge_index, edge_attr"
   ]
  },
  {
   "cell_type": "code",
   "execution_count": 271,
   "id": "e8105363",
   "metadata": {
    "id": "e8105363"
   },
   "outputs": [],
   "source": [
    "num_nodes = 89\n",
    "sequence_length = 89\n",
    "edge_index, edge_attr = create_piano_graph(num_nodes)\n",
    "x = torch.zeros((len(data_tuples), num_nodes, sequence_length), dtype=torch.float)"
   ]
  },
  {
   "cell_type": "code",
   "execution_count": 272,
   "id": "cb42241f",
   "metadata": {
    "id": "cb42241f"
   },
   "outputs": [],
   "source": [
    "for i, (note, velocity, timestep) in enumerate(data_tuples):\n",
    "    if i > 0:\n",
    "        x[i, :, :-1] = x[i-1, :, 1:]  # Shift all rows one to the front\n",
    "        x[i, :, -1] = x[i-1, :, -1]\n",
    "    # Normalize velocity and timestep    \n",
    "    x[i, note, -1] = velocity\n",
    "    x[i, 0, -1] = timestep"
   ]
  },
  {
   "cell_type": "code",
   "execution_count": 273,
   "id": "68127b19",
   "metadata": {
    "colab": {
     "base_uri": "https://localhost:8080/"
    },
    "id": "68127b19",
    "outputId": "0ed8fae0-8462-4136-8b7f-abaeac7ee641"
   },
   "outputs": [],
   "source": [
    "graph_data_list = []\n",
    "\n",
    "for i in range(len(x) - 1):\n",
    "    data = Data(x=x[i], edge_index=edge_index, edge_attr=edge_attr, y=torch.tensor(data_tuples[i + 1]))\n",
    "    graph_data_list.append(data)\n",
    "train_dataset = graph_data_list[:10000]\n",
    "val_dataset = graph_data_list[10000:12500]\n",
    "test_dataset = graph_data_list[12500:15000]"
   ]
  },
  {
   "cell_type": "code",
   "execution_count": 274,
   "id": "76809474",
   "metadata": {
    "id": "76809474"
   },
   "outputs": [],
   "source": [
    "train_loader = DataLoader(train_dataset, batch_size=BATCH_SIZE, shuffle=True)\n",
    "val_loader = DataLoader(val_dataset, batch_size=BATCH_SIZE, shuffle=False)\n",
    "test_loader = DataLoader(test_dataset, batch_size=BATCH_SIZE, shuffle=False)"
   ]
  },
  {
   "cell_type": "markdown",
   "id": "32f8e0b5",
   "metadata": {
    "id": "32f8e0b5"
   },
   "source": [
    "# Coding the model"
   ]
  },
  {
   "cell_type": "code",
   "execution_count": 275,
   "id": "073793e5",
   "metadata": {
    "id": "073793e5"
   },
   "outputs": [],
   "source": [
    "class MPNNLayer(MessagePassing):\n",
    "    def __init__(self, emb_dim=64, edge_dim=1, aggr='add'):\n",
    "        # Set the aggregation function\n",
    "        super().__init__(aggr=aggr)\n",
    "\n",
    "        self.emb_dim = emb_dim\n",
    "        self.edge_dim = edge_dim\n",
    "\n",
    "        # MLP `\\psi` for computing messages `m_ij`\n",
    "        # Implemented as a stack of Linear->BN->ReLU->Linear->BN->ReLU\n",
    "        # dims: (2d + d_e) -> d\n",
    "        self.mlp_msg = Sequential(\n",
    "            Linear(2*emb_dim + edge_dim, emb_dim), BatchNorm1d(emb_dim), ReLU(),\n",
    "            Linear(emb_dim, emb_dim), BatchNorm1d(emb_dim), ReLU()\n",
    "          )\n",
    "        \n",
    "        # MLP `\\phi` for computing updated node features `h_i^{l+1}`\n",
    "        # Implemented as a stack of Linear->BN->ReLU->Linear->BN->ReLU\n",
    "        # dims: 2d -> d\n",
    "        self.mlp_upd = Sequential(\n",
    "            Linear(2*emb_dim, emb_dim), BatchNorm1d(emb_dim), ReLU(), \n",
    "            Linear(emb_dim, emb_dim), BatchNorm1d(emb_dim), ReLU()\n",
    "          )\n",
    "\n",
    "    def forward(self, h, edge_index, edge_attr):\n",
    "        out = self.propagate(edge_index, h=h, edge_attr=edge_attr)\n",
    "        return out\n",
    "\n",
    "    def message(self, h_i, h_j, edge_attr):\n",
    "        msg = torch.cat([h_i, h_j, edge_attr], dim=-1)\n",
    "        return self.mlp_msg(msg)\n",
    "    \n",
    "    def aggregate(self, inputs, index):\n",
    "        return scatter(inputs, index, dim=self.node_dim, reduce=self.aggr)\n",
    "    \n",
    "    def update(self, aggr_out, h):\n",
    "        upd_out = torch.cat([h, aggr_out], dim=-1)\n",
    "        return self.mlp_upd(upd_out)\n",
    "\n",
    "    def __repr__(self) -> str:\n",
    "        return (f'{self.__class__.__name__}(emb_dim={self.emb_dim}, aggr={self.aggr})')"
   ]
  },
  {
   "cell_type": "code",
   "execution_count": 276,
   "id": "33326bb5",
   "metadata": {
    "id": "33326bb5"
   },
   "outputs": [],
   "source": [
    "class MPNNModel(Module):\n",
    "    def __init__(self, num_layers=4, emb_dim=64, in_dim=sequence_length, edge_dim=1, out_dim=3):\n",
    "        super().__init__()\n",
    "        \n",
    "        # Linear projection for initial node features\n",
    "        # dim: d_n -> d\n",
    "        self.lin_in = Linear(in_dim, emb_dim)\n",
    "        \n",
    "        # Stack of MPNN layers\n",
    "        self.convs = torch.nn.ModuleList()\n",
    "        for layer in range(num_layers):\n",
    "            self.convs.append(MPNNLayer(emb_dim, edge_dim, aggr='add'))\n",
    "        \n",
    "        # Global pooling/readout function `R` (mean pooling)\n",
    "        # PyG handles the underlying logic via `global_mean_pool()`\n",
    "        self.pool = global_mean_pool\n",
    "\n",
    "        # Linear prediction head\n",
    "        # dim: d -> out_dim\n",
    "        self.lin_pred_1 = Linear(emb_dim, 88)  # For notes\n",
    "        self.lin_pred_2 = Linear(emb_dim, 1)  # For velocity\n",
    "        self.lin_pred_3 = Linear(emb_dim, 1)  # For time\n",
    "        self.relu = nn.ReLU()\n",
    "        self.sigmoid = nn.Sigmoid()\n",
    "        self.softmax = torch.nn.Softmax(dim=1)\n",
    "\n",
    "        \n",
    "    def forward(self, data):\n",
    "        h = self.lin_in(data.x)  # (n, d_n) -> (n, d)\n",
    "\n",
    "        for conv in self.convs:\n",
    "            h = h + conv(h, data.edge_index, data.edge_attr)  # (n, d) -> (n, d)\n",
    "            # Note that we add a residual connection after each MPNN layer\n",
    "\n",
    "        out_1 = self.lin_pred_1(h)  # (batch_size, d) -> (batch_size, 88)\n",
    "        out_1 = self.pool(out_1, data.batch)\n",
    "        out_1 = self.softmax(out_1)\n",
    "\n",
    "        out_2 = self.sigmoid(self.lin_pred_2(h))  # (batch_size, d) -> (batch_size, 1)\n",
    "        out_2 = self.pool(out_2, data.batch)\n",
    "\n",
    "        out_3 = self.relu(self.lin_pred_3(h))  # (batch_size, d) -> (batch_size, 1)\n",
    "        out_3 = self.pool(out_3, data.batch)\n",
    "\n",
    "        return torch.cat((out_1, out_2, out_3), dim=1)"
   ]
  },
  {
   "cell_type": "code",
   "execution_count": 277,
   "id": "789c5536",
   "metadata": {
    "id": "789c5536"
   },
   "outputs": [],
   "source": [
    "#@title [RUN] Helper functions for managing experiments, training, and evaluating models.\n",
    "def weighted_loss(probability_distribution, target_key, num_classes=88):\n",
    "    # Create a weight matrix based on the distance between indices\n",
    "    indices = torch.arange(num_classes, dtype=torch.float32, device=DEVICE).view(1, num_classes)\n",
    "    target_indices = target_key.view(-1, 1).float()\n",
    "    weight_matrix = torch.abs(target_indices - indices)\n",
    "    log_prob = torch.log(probability_distribution)\n",
    "    weighted_prob = weight_matrix * log_prob\n",
    "    loss_per_element = -weighted_prob.sum(dim=1, keepdim=True)\n",
    "    return loss_per_element\n",
    "\n",
    "\n",
    "def train(model, train_loader, optimizer, device):\n",
    "    model.train()\n",
    "    loss_all = 0\n",
    "\n",
    "    for data in train_loader:\n",
    "        data = data.to(device)\n",
    "        optimizer.zero_grad()\n",
    "        y_pred = model(data)\n",
    "        data.y = data.y.reshape(-1,3)\n",
    "        # loss_1 is the loss for guessing the right note\n",
    "        target_key, probability_distribution = data.y[:, 0].long(), y_pred[:, :88].float()\n",
    "        loss_1 = weighted_loss(probability_distribution, target_key).mean()\n",
    "\n",
    "        # loss_2 is the loss for the velocity\n",
    "        target_velocity, predicted_velocity = data.y[:, 1].float(), y_pred[:, 88:89].squeeze().float()\n",
    "        loss_2 = F.mse_loss(predicted_velocity, target_velocity)\n",
    "\n",
    "        # loss_3 is the loss for timestep\n",
    "        target_timestep, predicted_timestep = data.y[:, 2].float(), y_pred[:, 89:].squeeze().float()\n",
    "        loss_3 = F.mse_loss(predicted_timestep, target_timestep)\n",
    "        # L2 timestep penalty to avoid large timesteps\n",
    "        # loss_3 += (predicted_timestep).mean()/10\n",
    "\n",
    "        loss = loss_3 # + loss_2 + loss_3\n",
    "        loss.backward()\n",
    "        loss_all += loss.item() * data.num_graphs\n",
    "        optimizer.step()\n",
    "    return loss_all / len(train_loader.dataset)\n",
    "\n",
    "def eval(model, eval_loader, device):\n",
    "    model.eval()\n",
    "    loss_all = [0, 0, 0]\n",
    "\n",
    "    with torch.no_grad():\n",
    "        for data in eval_loader:\n",
    "            data = data.to(device)\n",
    "            y_pred = model(data)\n",
    "            data.y = data.y.reshape(-1, 3)\n",
    "\n",
    "            # loss 1, for pressed key\n",
    "            target_key, probability_distribution = data.y[:, 0].long(), y_pred[:, :88].float()\n",
    "            loss_1 = F.cross_entropy(probability_distribution, target_key) / 4\n",
    "\n",
    "            # loss 2 concerns velocity\n",
    "            target_velocity, predicted_velocity = data.y[:, 1].float(), y_pred[:, 88:89].squeeze().float()\n",
    "\n",
    "            loss_2 = F.mse_loss(predicted_velocity, target_velocity)\n",
    "\n",
    "            # loss 3 for the loss in timestep\n",
    "            target_timestep, predicted_timestep = data.y[:, 2].float(), y_pred[:, 89:].squeeze().float()\n",
    "            loss_3 = F.mse_loss(predicted_timestep, target_timestep)\n",
    "            # L2 timestep penalty to avoid large timesteps\n",
    "            #loss_3 += (predicted_timestep ** 2).mean()\n",
    "\n",
    "            loss_all[0] += loss_1.item() * data.num_graphs\n",
    "            loss_all[1] += loss_2.item() * data.num_graphs\n",
    "            loss_all[2] += loss_3.item() * data.num_graphs\n",
    "\n",
    "    return [loss / len(eval_loader.dataset) for loss in loss_all]\n",
    "\n"
   ]
  },
  {
   "cell_type": "code",
   "execution_count": 278,
   "id": "3541c0b5",
   "metadata": {
    "id": "3541c0b5"
   },
   "outputs": [],
   "source": [
    "def run_experiment(model, model_name, train_loader, val_loader, test_loader, n_epochs=100):\n",
    "    print(f\"Running experiment for {model_name}, training on {len(train_loader.dataset)} samples for {n_epochs} epochs.\")\n",
    "\n",
    "    device = torch.device('cuda' if torch.cuda.is_available() else 'cpu')\n",
    "\n",
    "    print(\"\\nModel architecture:\")\n",
    "    print(model)\n",
    "    total_param = 0\n",
    "    for param in model.parameters():\n",
    "        total_param += np.prod(list(param.data.size()))\n",
    "    print(f'Total parameters: {total_param}')\n",
    "    model = model.to(device)\n",
    "\n",
    "    # Adam optimizer with LR 1e-3\n",
    "    optimizer = torch.optim.Adam(model.parameters(), lr=0.001, weight_decay=1e-1)\n",
    "\n",
    "    # LR scheduler which decays LR when validation metric doesn't improve\n",
    "    scheduler = torch.optim.lr_scheduler.ReduceLROnPlateau(\n",
    "        optimizer, mode='min', factor=0.9, patience=5, min_lr=0.00001)\n",
    "\n",
    "    print(\"\\nStart training:\")\n",
    "    best_val_error = [None, None, None]\n",
    "    perf_per_epoch = []  # Track Test/Val errors vs. epoch (for plotting)\n",
    "    t = TimeLib.time()\n",
    "    for epoch in range(1, n_epochs + 1):\n",
    "        # Call LR scheduler at start of each epoch\n",
    "        lr = scheduler.optimizer.param_groups[0]['lr']\n",
    "\n",
    "        # Train model for one epoch, return avg. training loss\n",
    "        loss = train(model, train_loader, optimizer, device)\n",
    "\n",
    "        # Evaluate model on validation set\n",
    "        val_error = eval(model, val_loader, device)\n",
    "\n",
    "        if any(best is None or err <= best for err, best in zip(val_error, best_val_error)):\n",
    "            # Evaluate model on test set if validation metric improves\n",
    "            test_error = eval(model, test_loader, device)\n",
    "            best_val_error = val_error\n",
    "\n",
    "        if epoch % 10 == 0:\n",
    "            # Print and track stats every 10 epochs\n",
    "            print(f'Epoch: {epoch:03d}, LR: {lr:5f}, Loss: {loss:.7f}, '\n",
    "                  f'Val Errors: {[f\"{x:.7f}\" for x in val_error]}, '\n",
    "                  f'Test Errors: {[f\"{x:.7f}\" for x in test_error]}')\n",
    "\n",
    "        scheduler.step(sum(val_error) / len(val_error))\n",
    "        perf_per_epoch.append((test_error[0],test_error[1], test_error[2], val_error[0], val_error[1], val_error[2], epoch, model_name))\n",
    "\n",
    "    \n",
    "    t = TimeLib.time() - t\n",
    "    train_time = t / 60\n",
    "    print(f\"\\nDone! Training took {train_time:.2f} mins. \"\n",
    "          f\"Best validation errors: {[f'{x:.7f}' for x in best_val_error]}, \"\n",
    "          f\"corresponding test errors: {[f'{x:.7f}' for x in test_error]}.\")\n",
    "    \n",
    "    return best_val_error, test_error, train_time, perf_per_epoch"
   ]
  },
  {
   "cell_type": "code",
   "execution_count": 279,
   "id": "81f13a69",
   "metadata": {
    "scrolled": false,
    "colab": {
     "base_uri": "https://localhost:8080/",
     "height": 1000
    },
    "id": "81f13a69",
    "outputId": "f2eb22f2-10fa-4a92-f16e-94ef5cf25be4"
   },
   "outputs": [
    {
     "name": "stdout",
     "output_type": "stream",
     "text": [
      "Running experiment for MPNNModel, training on 10000 samples for 100 epochs.\n",
      "\n",
      "Model architecture:\n",
      "MPNNModel(\n",
      "  (lin_in): Linear(in_features=89, out_features=4, bias=True)\n",
      "  (convs): ModuleList(\n",
      "    (0): MPNNLayer(emb_dim=4, aggr=add)\n",
      "  )\n",
      "  (lin_pred_1): Linear(in_features=4, out_features=88, bias=True)\n",
      "  (lin_pred_2): Linear(in_features=4, out_features=1, bias=True)\n",
      "  (lin_pred_3): Linear(in_features=4, out_features=1, bias=True)\n",
      "  (relu): ReLU()\n",
      "  (sigmoid): Sigmoid()\n",
      "  (softmax): Softmax(dim=1)\n",
      ")\n",
      "Total parameters: 958\n",
      "\n",
      "Start training:\n",
      "Epoch: 010, LR: 0.001000, Loss: 0.9177774, Val Errors: ['1.1193347', '0.1296836', '1.8841483'], Test Errors: ['1.1193339', '0.1313421', '0.3455059']\n",
      "Epoch: 020, LR: 0.000900, Loss: 0.9155006, Val Errors: ['1.1193347', '0.1296836', '1.8744659'], Test Errors: ['1.1193347', '0.1313468', '0.3399100']\n",
      "Epoch: 030, LR: 0.000810, Loss: 0.9147195, Val Errors: ['1.1193347', '0.1296836', '1.8746472'], Test Errors: ['1.1193347', '0.1313468', '0.3468383']\n",
      "Epoch: 040, LR: 0.000656, Loss: 0.9136567, Val Errors: ['1.1193347', '0.1296836', '1.8807191'], Test Errors: ['1.1193347', '0.1313468', '0.3288784']\n",
      "Epoch: 050, LR: 0.000531, Loss: 0.9057357, Val Errors: ['1.1193346', '0.1296836', '1.8853319'], Test Errors: ['1.1193347', '0.1313468', '0.3277748']\n",
      "Epoch: 060, LR: 0.000478, Loss: 0.9063845, Val Errors: ['1.1193347', '0.1296836', '1.8897885'], Test Errors: ['1.1193347', '0.1313468', '0.3262875']\n",
      "Epoch: 070, LR: 0.000387, Loss: 0.8984674, Val Errors: ['1.1193346', '0.1296836', '1.8897979'], Test Errors: ['1.1193346', '0.1313468', '0.3315177']\n",
      "Epoch: 080, LR: 0.000314, Loss: 0.8929754, Val Errors: ['1.1193347', '0.1296854', '1.9077461'], Test Errors: ['1.1193346', '0.1313451', '0.3325541']\n",
      "Epoch: 090, LR: 0.000282, Loss: 0.8947702, Val Errors: ['1.1193347', '0.1296836', '1.8947768'], Test Errors: ['1.1193347', '0.1313468', '0.3252270']\n",
      "Epoch: 100, LR: 0.000229, Loss: 0.8847786, Val Errors: ['1.1193347', '0.1296836', '1.9059129'], Test Errors: ['1.1193347', '0.1313468', '0.3255505']\n",
      "\n",
      "Done! Training took 6.47 mins. Best validation errors: ['1.1193347', '0.1296836', '1.9059129'], corresponding test errors: ['1.1193347', '0.1313468', '0.3255505'].\n"
     ]
    }
   ],
   "source": [
    "model = MPNNModel(num_layers=1, emb_dim=4, in_dim=sequence_length, edge_dim=1, out_dim=3)\n",
    "model_name = type(model).__name__\n",
    "best_val_errors, test_errors, train_time, perf_per_epoch = run_experiment(\n",
    "    model, \n",
    "    model_name, \n",
    "    train_loader,\n",
    "    val_loader, \n",
    "    test_loader,\n",
    "    n_epochs=100\n",
    ")"
   ]
  },
  {
   "cell_type": "code",
   "execution_count": 280,
   "id": "6f50d6e8",
   "metadata": {
    "colab": {
     "base_uri": "https://localhost:8080/"
    },
    "id": "6f50d6e8",
    "outputId": "4211228b-deb4-43d9-8dcc-16fbe285f03b"
   },
   "outputs": [
    {
     "name": "stderr",
     "output_type": "stream",
     "text": [
      "C:\\Users\\alike\\AppData\\Local\\Temp\\ipykernel_38272\\1631120807.py:7: FutureWarning: The frame.append method is deprecated and will be removed from pandas in a future version. Use pandas.concat instead.\n",
      "  DF_RESULTS = DF_RESULTS.append(df_temp, ignore_index=True)\n"
     ]
    }
   ],
   "source": [
    "RESULTS = {}\n",
    "DF_RESULTS = pd.DataFrame(columns=[\"Test Errors 1\", \"Test Errors 2\", \"Test Errors 3\", \"Val Errors 1\", \"Val Errors 2\", \"Val Errors 3\", \"Epoch\", \"Model\"])\n",
    "\n",
    "RESULTS[model_name] = (best_val_errors, test_errors, train_time)\n",
    "\n",
    "df_temp = pd.DataFrame(perf_per_epoch, columns=[\"Test Errors 1\", \"Test Errors 2\", \"Test Errors 3\", \"Val Errors 1\", \"Val Errors 2\", \"Val Errors 3\", \"Epoch\", \"Model\"])\n",
    "DF_RESULTS = DF_RESULTS.append(df_temp, ignore_index=True)"
   ]
  },
  {
   "cell_type": "code",
   "execution_count": 293,
   "id": "3bb7829c",
   "metadata": {
    "colab": {
     "base_uri": "https://localhost:8080/",
     "height": 803
    },
    "id": "3bb7829c",
    "outputId": "a8b28a8d-9708-4294-b0fc-cff6abcb26d9"
   },
   "outputs": [
    {
     "data": {
      "text/plain": "<Figure size 640x480 with 1 Axes>",
      "image/png": "[encoded data removed]"
     },
     "metadata": {},
     "output_type": "display_data"
    }
   ],
   "source": [
    "# Plots for test\n",
    "for i in range(2,3):\n",
    "    p = sns.lineplot(x=\"Epoch\", y=f\"Val Errors {i+1}\", hue=\"Model\", data=DF_RESULTS)\n",
    "    p.set(ylabel=\"Test error\")\n",
    "    plt.show()"
   ]
  },
  {
   "cell_type": "code",
   "execution_count": 283,
   "id": "d745cf3c",
   "metadata": {
    "colab": {
     "base_uri": "https://localhost:8080/"
    },
    "id": "d745cf3c",
    "outputId": "f406fdb8-acc3-4a62-fd10-7bdd923c7589"
   },
   "outputs": [
    {
     "name": "stdout",
     "output_type": "stream",
     "text": [
      "cuda Device???\n",
      "torch.Size([1, 90])\n",
      "Note predictions: tensor([66], device='cuda:0')\n",
      "Velocity predictions: tensor([64.], device='cuda:0', grad_fn=<RoundBackward0>)\n",
      "Integer predictions: tensor([33.], device='cuda:0', grad_fn=<RoundBackward0>)\n",
      "tensor([42.0000,  0.0000,  1.2423], dtype=torch.float64)\n"
     ]
    }
   ],
   "source": [
    "test_this = 6\n",
    "example_data = graph_data_list[test_this]\n",
    "\n",
    "# Create a batch object for the single example\n",
    "batch = Batch.from_data_list([example_data])\n",
    "\n",
    "# Ensure the model is in evaluation mode\n",
    "model.eval()\n",
    "\n",
    "# Define the device\n",
    "device = torch.device('cuda' if torch.cuda.is_available() else 'cpu')\n",
    "print(f\"{device} Device???\")\n",
    "# Move the batch to the same device as the model\n",
    "batch = batch.to(device)\n",
    "\n",
    "# Obtain the model predictions\n",
    "predictions = model(batch)\n",
    "print(predictions.shape)\n",
    "\n",
    "note_logits = predictions[:, :88]\n",
    "velocity_logits = predictions[:, 88] * velocity_std + velocity_mean\n",
    "integer_logits = predictions[:, 89] * timestep_std + timestep_mean\n",
    "\n",
    "# Get the predicted classes for note and velocity\n",
    "note_predictions = torch.argmax(note_logits, dim=1)\n",
    "velocity_predictions = torch.round(velocity_logits)\n",
    "\n",
    "# Get the integer value\n",
    "integer_predictions = torch.round(integer_logits)\n",
    "\n",
    "# Print the predictions\n",
    "print(\"Note predictions:\", note_predictions)\n",
    "print(\"Velocity predictions:\", velocity_predictions)\n",
    "print(\"Integer predictions:\", integer_predictions)\n",
    "\n",
    "print(graph_data_list[test_this + 1].y)"
   ]
  },
  {
   "cell_type": "code",
   "source": [
    "def generate_next_tuple(model, data):\n",
    "    # Create a batch object for the single example\n",
    "    batch = Batch.from_data_list([data])\n",
    "\n",
    "    # Ensure the model is in evaluation mode\n",
    "    model.eval()\n",
    "\n",
    "    # Move the batch to the same device as the model\n",
    "    batch = batch.to(device)\n",
    "\n",
    "    # Obtain the model predictions\n",
    "    predictions = model(batch)\n",
    "\n",
    "    note_logits = predictions[:, :88]\n",
    "    velocity_logits = predictions[:, 88] * velocity_std + velocity_mean\n",
    "    integer_logits = predictions[:, 89] * timestep_std + timestep_mean\n",
    "    # print(predictions[:, 89])\n",
    "    # Get the predicted classes for note and velocity\n",
    "    note_predictions = torch.argmax(note_logits, dim=1)\n",
    "    velocity_predictions = torch.round(velocity_logits)\n",
    "\n",
    "    # Get the integer value\n",
    "    integer_predictions = torch.round(integer_logits)\n",
    "    # print(integer_predictions.item())\n",
    "    # Create the new tuple\n",
    "    new_tuple = (note_predictions.item(), velocity_predictions.item(), integer_predictions.item())\n",
    "    return new_tuple\n",
    "\n",
    "\n",
    "# Start with the desired index\n",
    "test_this = 50\n",
    "example_data = graph_data_list[test_this]\n",
    "\n",
    "# Define the device\n",
    "# device = torch.device('cuda' if torch.cuda.is_available() else 'cpu')\n",
    "\n",
    "# Number of iterations for the loop\n",
    "num_iterations = 500\n",
    "\n",
    "# List to store the generated tuples\n",
    "generated_tuples = []\n",
    "\n",
    "# Loop to generate new tuples\n",
    "for _ in range(num_iterations):\n",
    "    next_tuple = generate_next_tuple(model, example_data)\n",
    "    generated_tuples.append(next_tuple)\n",
    "\n",
    "    # Create a new Data object with the next_tuple\n",
    "    new_data_tuples = example_data.x.numpy()\n",
    "    new_data_tuples = np.roll(new_data_tuples, -1, axis=1)\n",
    "    new_data_tuples[:, -1] = new_data_tuples[:, -2]\n",
    "    new_data_tuples[next_tuple[0], -1] = next_tuple[1]\n",
    "    new_data_tuples[0, -1] = next_tuple[2]\n",
    "    example_data = Data(x=torch.tensor(new_data_tuples, dtype=torch.float), edge_index=example_data.edge_index,\n",
    "                        edge_attr=example_data.edge_attr)"
   ],
   "metadata": {
    "colab": {
     "base_uri": "https://localhost:8080/"
    },
    "id": "VtH6BnT4PaSY",
    "outputId": "751deb2f-6261-41ef-9358-af1c604c12a8"
   },
   "id": "VtH6BnT4PaSY",
   "execution_count": 294,
   "outputs": []
  },
  {
   "cell_type": "code",
   "source": [
    "# Create a new MIDI file\n",
    "new_midi_file = mido.MidiFile()\n",
    "\n",
    "# Create a new track for the MIDI file\n",
    "new_track = mido.MidiTrack()\n",
    "new_midi_file.tracks.append(new_track)\n",
    "\n",
    "# Iterate over the generated tuples and add note_on messages to the track\n",
    "for note, velocity, time in generated_tuples:\n",
    "    new_track.append(mido.Message('note_on', note=note + 20, velocity=int(velocity), time=int(time)))\n",
    "\n",
    "# Save the new MIDI file\n",
    "new_midi_file.save('generated_midi.mid')"
   ],
   "metadata": {
    "id": "CMcsFyecX6Uj",
    "colab": {
     "base_uri": "https://localhost:8080/",
     "height": 232
    },
    "outputId": "620e7862-73dc-47f6-e65c-b7b322a810fb"
   },
   "id": "CMcsFyecX6Uj",
   "execution_count": 295,
   "outputs": []
  },
  {
   "cell_type": "code",
   "execution_count": null,
   "outputs": [],
   "source": [],
   "metadata": {
    "collapsed": false
   }
  }
 ],
 "metadata": {
  "kernelspec": {
   "display_name": "Python 3 (ipykernel)",
   "language": "python",
   "name": "python3"
  },
  "language_info": {
   "codemirror_mode": {
    "name": "ipython",
    "version": 3
   },
   "file_extension": ".py",
   "mimetype": "text/x-python",
   "name": "python",
   "nbconvert_exporter": "python",
   "pygments_lexer": "ipython3",
   "version": "3.10.8"
  },
  "colab": {
   "provenance": []
  },
  "accelerator": "GPU",
  "gpuClass": "standard"
 },
 "nbformat": 4,
 "nbformat_minor": 5
}
