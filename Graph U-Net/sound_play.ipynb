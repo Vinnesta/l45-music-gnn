{
 "cells": [
  {
   "cell_type": "code",
   "execution_count": 1,
   "id": "c5f05f94",
   "metadata": {
    "id": "c5f05f94"
   },
   "outputs": [],
   "source": [
    "import os\n",
    "import random\n",
    "import time\n",
    "\n",
    "import numpy as np\n",
    "import torch\n",
    "import torch.nn as nn\n",
    "import torch.nn.functional as F\n",
    "import torch.optim as optim\n",
    "from sklearn.model_selection import train_test_split\n",
    "from torch_geometric.data import Data, DataLoader\n",
    "from torch_geometric.loader import DataLoader\n",
    "from torch_geometric.nn import MessagePassing, global_mean_pool\n",
    "from torch_geometric.utils import add_self_loops, degree, remove_self_loops, to_dense_adj, dense_to_sparse\n",
    "from torch.nn import Linear, ReLU, BatchNorm1d, Module, Sequential\n",
    "from torch_scatter import scatter\n",
    "import torch_geometric.transforms as T\n",
    "from torch_geometric.data import Data\n",
    "from torch_geometric.data import Batch\n",
    "\n",
    "import seaborn as sns\n",
    "import pandas as pd\n",
    "import matplotlib.pyplot as plt\n",
    "\n",
    "from scipy.stats import ortho_group\n",
    "from scipy.io.wavfile import write\n",
    "\n",
    "import fluidsynth\n",
    "import mido\n",
    "import pretty_midi\n",
    "import networkx as nx\n"
   ]
  },
  {
   "cell_type": "markdown",
   "id": "5ee8499e",
   "metadata": {
    "id": "5ee8499e"
   },
   "source": [
    "# MIDI file setup tests"
   ]
  },
  {
   "cell_type": "code",
   "execution_count": 2,
   "id": "0e04df08",
   "metadata": {
    "colab": {
     "base_uri": "https://localhost:8080/"
    },
    "id": "0e04df08",
    "outputId": "791ac53f-535f-47cf-9f85-50cb9ed5cf23"
   },
   "outputs": [
    {
     "name": "stdout",
     "output_type": "stream",
     "text": [
      "930262 969.0208333333334 960\n"
     ]
    }
   ],
   "source": [
    "def get_midi_length_in_seconds(filename):\n",
    "    file = pretty_midi.PrettyMIDI(filename)\n",
    "    length_in_seconds = file.get_end_time()\n",
    "    return length_in_seconds\n",
    "\n",
    "def get_midi_sample_rate(filename):\n",
    "    s = get_midi_length_in_seconds(filename)\n",
    "    t = get_midi_timesteps(filename)\n",
    "    return int(t/s)\n",
    "\n",
    "def get_midi_timesteps(filename):\n",
    "    midi = mido.MidiFile(filename)\n",
    "    timesteps = 0\n",
    "    for track in midi.tracks:\n",
    "        for msg in track:\n",
    "            timesteps += msg.time\n",
    "    return timesteps\n",
    "\n",
    "TIMESTEPS = get_midi_timesteps(\"example.midi\")\n",
    "SECS = get_midi_length_in_seconds(\"example.midi\")\n",
    "SAMPLE_RATE = get_midi_sample_rate(\"example.midi\")\n",
    "print(TIMESTEPS, SECS, SAMPLE_RATE)"
   ]
  },
  {
   "cell_type": "markdown",
   "id": "d934b0db",
   "metadata": {
    "id": "d934b0db"
   },
   "source": [
    "# Some questions"
   ]
  },
  {
   "cell_type": "markdown",
   "id": "16c0603f",
   "metadata": {
    "id": "16c0603f"
   },
   "source": [
    "### First quesion, do we have one piano in all files?\n",
    "Cool! All of 2018 are right!"
   ]
  },
  {
   "cell_type": "code",
   "execution_count": 3,
   "id": "de66bc79",
   "metadata": {
    "id": "de66bc79"
   },
   "outputs": [],
   "source": [
    "# def get_midi_instrument_types(filename):\n",
    "#     midi = pretty_midi.PrettyMIDI(filename)\n",
    "#     instrument_types = []\n",
    "#     for instrument in midi.instruments:\n",
    "#         # name of the instrument\n",
    "#         instrument_types.append(pretty_midi.program_to_instrument_name(instrument.program))\n",
    "#     return instrument_types\n",
    "\n",
    "# directory = 'maestro-v3.0.0/2018'\n",
    "# count = 0\n",
    "# # Loop through all files in the directory and its subdirectories\n",
    "# for root, dirs, files in os.walk(directory):\n",
    "#     for file in files:\n",
    "#         if file.endswith('.midi'):\n",
    "#             # Read the MIDI file and check its instrument type\n",
    "#             file_path = os.path.join(root, file)\n",
    "#             midi_file = pretty_midi.PrettyMIDI(file_path)\n",
    "#             instrument_types = []\n",
    "#             for instrument in midi_file.instruments:\n",
    "#                 # name of the instrument\n",
    "#                 instrument_types.append(pretty_midi.program_to_instrument_name(instrument.program))\n",
    "#             if instrument_types != ['Acoustic Grand Piano']:\n",
    "#                 print(\"Oops! Error ...\")"
   ]
  },
  {
   "cell_type": "markdown",
   "id": "f108ab90",
   "metadata": {
    "id": "f108ab90"
   },
   "source": [
    "### Second question, how many buttons (msg.note)s are used?\n",
    "Here, I want to count the number of different keys used in all MIDI files. I want to build a path graph."
   ]
  },
  {
   "cell_type": "code",
   "execution_count": 4,
   "id": "96837edc",
   "metadata": {
    "id": "96837edc"
   },
   "outputs": [],
   "source": [
    "# directory = 'maestro-v3.0.0/2018'\n",
    "# count_set = set()\n",
    "# # Loop through all files in the directory and its subdirectories\n",
    "# for root, dirs, files in os.walk(directory):\n",
    "#     for file in files:\n",
    "#         note_values = []\n",
    "#         if file.endswith('.midi'):\n",
    "#             # Read the MIDI file and check its instrument type\n",
    "#             file_path = os.path.join(root, file)\n",
    "#             midi_file = mido.MidiFile(file_path)\n",
    "#             for i, track in enumerate(midi_file.tracks):\n",
    "#                 for msg in track:\n",
    "#                     if msg.type == 'note_on':\n",
    "#                         note_values.append(msg.note)\n",
    "#         count_set.update(note_values)\n",
    "# expected_set = set(range(21, 109))\n",
    "# if count_set.issubset(expected_set):\n",
    "#     print(\"count_set contains all values from 21 to 108\")\n",
    "# else:\n",
    "#     print(\"count_set does not contain all values from 21 to 108\")\n",
    "# print(count_set)"
   ]
  },
  {
   "cell_type": "markdown",
   "id": "8465b124",
   "metadata": {
    "id": "8465b124"
   },
   "source": [
    "Nice answer! 21 to 108!\n",
    "\n",
    "like its written here:\n",
    "https://www.inspiredacoustics.com/en/MIDI_note_numbers_and_center_frequencies"
   ]
  },
  {
   "cell_type": "markdown",
   "id": "c8edef64",
   "metadata": {
    "id": "c8edef64"
   },
   "source": [
    "### Third question, what is the longest timestep generated?\n",
    "We are going to guess a number for the timestep generated. Are we going to use classification or what?"
   ]
  },
  {
   "cell_type": "code",
   "execution_count": 5,
   "id": "25b3c9fa",
   "metadata": {
    "id": "25b3c9fa"
   },
   "outputs": [],
   "source": [
    "# directory = 'maestro-v3.0.0/2018'\n",
    "# count_set = set()\n",
    "# # Loop through all files in the directory and its subdirectories\n",
    "# for root, dirs, files in os.walk(directory):\n",
    "#     for file in files:\n",
    "#         note_times = []\n",
    "#         if file.endswith('.midi'):\n",
    "#             # Read the MIDI file and check its instrument type\n",
    "#             file_path = os.path.join(root, file)\n",
    "#             midi_file = mido.MidiFile(file_path)\n",
    "#             for i, track in enumerate(midi_file.tracks):\n",
    "#                 for msg in track:\n",
    "#                     if msg.type == 'note_on':\n",
    "#                         note_times.append(msg.time)\n",
    "#         count_set.update(note_times)\n",
    "# print(max(count_set))"
   ]
  },
  {
   "cell_type": "markdown",
   "id": "2d9664a7",
   "metadata": {
    "id": "2d9664a7"
   },
   "source": [
    "5978 was the longest timestep."
   ]
  },
  {
   "cell_type": "markdown",
   "id": "ec7ef4e1",
   "metadata": {
    "id": "ec7ef4e1"
   },
   "source": [
    "# Generating test/train/val dataset\n",
    "The first step is to generate the dataset.\n",
    "I am going to use one single audio file with 15k tuples and keys pressed. We'll train based on first 5k, val on 2nd 5k, and train one the last 5k."
   ]
  },
  {
   "cell_type": "code",
   "execution_count": 6,
   "id": "23009de2",
   "metadata": {
    "colab": {
     "base_uri": "https://localhost:8080/"
    },
    "id": "23009de2",
    "outputId": "cfe5673d-48d2-4a99-8be9-26c53f9d1339"
   },
   "outputs": [
    {
     "name": "stdout",
     "output_type": "stream",
     "text": [
      "Track 0: \n",
      "0\n",
      "Track 1: \n",
      "15788\n"
     ]
    }
   ],
   "source": [
    "# Load the MIDI file\n",
    "file = mido.MidiFile('example.midi')\n",
    "msg_cnt = 0\n",
    "data_tuples = []\n",
    "for i, track in enumerate(file.tracks):\n",
    "    print('Track {}: {}'.format(i, track.name))\n",
    "    for msg in track:\n",
    "        if msg.type == 'note_on':\n",
    "            note_tuple = (msg.note - 20, msg.velocity, msg.time)\n",
    "            data_tuples.append(note_tuple)\n",
    "            msg_cnt += 1\n",
    "    print(msg_cnt)\n",
    "\n",
    "velocity_values = [t[1] for t in data_tuples]\n",
    "timestep_values = [t[2] for t in data_tuples]\n",
    "\n",
    "velocity_mean = np.mean(velocity_values)\n",
    "velocity_std = np.std(velocity_values)\n",
    "timestep_mean = np.mean(timestep_values)\n",
    "timestep_std = np.std(timestep_values)\n",
    "\n",
    "data_tuples = [(t[0], (t[1] - 0) / velocity_std, (t[2] - 0) / timestep_std) for t in data_tuples]"
   ]
  },
  {
   "cell_type": "markdown",
   "id": "7fd0f0ac",
   "metadata": {
    "id": "7fd0f0ac"
   },
   "source": [
    "## Creating the graph and edge features"
   ]
  },
  {
   "cell_type": "code",
   "execution_count": 7,
   "id": "5366b65b",
   "metadata": {
    "id": "5366b65b"
   },
   "outputs": [],
   "source": [
    "def create_piano_graph(num_nodes):\n",
    "    edges = [(i, i + 1) for i in range(1, num_nodes - 1)] + [(i + 1, i) for i in range(1, num_nodes - 1)]\n",
    "    edges += [(0, i) for i in range(1, num_nodes)] + [(i, 0) for i in range(1, num_nodes)]\n",
    "    edge_index = torch.tensor(edges, dtype=torch.long).t().contiguous()\n",
    "    \n",
    "    edge_features = [1] * (len(edges) - 2 * (num_nodes - 1)) + [0] * (2 * (num_nodes - 1))\n",
    "    edge_attr = torch.tensor(edge_features, dtype=torch.float).view(-1, 1)\n",
    "    \n",
    "    return edge_index, edge_attr"
   ]
  },
  {
   "cell_type": "code",
   "execution_count": 8,
   "id": "e8105363",
   "metadata": {
    "id": "e8105363"
   },
   "outputs": [],
   "source": [
    "num_nodes = 89\n",
    "sequence_length = 89\n",
    "edge_index, edge_attr = create_piano_graph(num_nodes)\n",
    "x = torch.zeros((len(data_tuples), num_nodes, sequence_length), dtype=torch.float)"
   ]
  },
  {
   "cell_type": "code",
   "execution_count": 9,
   "id": "cb42241f",
   "metadata": {
    "id": "cb42241f"
   },
   "outputs": [],
   "source": [
    "for i, (note, velocity, timestep) in enumerate(data_tuples):\n",
    "    if i > 0:\n",
    "        x[i, :, :-1] = x[i-1, :, 1:]  # Shift all rows one to the front\n",
    "        x[i, :, -1] = x[i-1, :, -1]\n",
    "    # Normalize velocity and timestep    \n",
    "    x[i, note, -1] = velocity\n",
    "    x[i, 0, -1] = timestep\n",
    "for i, (note, velocity, timestep) in enumerate(data_tuples):\n",
    "    for j in range(num_nodes):\n",
    "      x[i,j,-1] = j"
   ]
  },
  {
   "cell_type": "code",
   "execution_count": 10,
   "id": "68127b19",
   "metadata": {
    "colab": {
     "base_uri": "https://localhost:8080/"
    },
    "id": "68127b19",
    "outputId": "0ed8fae0-8462-4136-8b7f-abaeac7ee641"
   },
   "outputs": [
    {
     "name": "stderr",
     "output_type": "stream",
     "text": [
      "C:\\Users\\alike\\AppData\\Local\\Temp\\ipykernel_24336\\1811185282.py:4: DeprecationWarning: an integer is required (got type numpy.float64).  Implicit conversion to integers using __int__ is deprecated, and may be removed in a future version of Python.\n",
      "  data = Data(x=x[i], edge_index=edge_index, edge_attr=edge_attr, y=torch.tensor([data_tuples[i + 1]], dtype=torch.long))\n"
     ]
    }
   ],
   "source": [
    "graph_data_list = []\n",
    "\n",
    "for i in range(len(x) - 1):\n",
    "    data = Data(x=x[i], edge_index=edge_index, edge_attr=edge_attr, y=torch.tensor([data_tuples[i + 1]], dtype=torch.long))\n",
    "    graph_data_list.append(data)\n",
    "train_dataset = graph_data_list[:50]\n",
    "val_dataset = graph_data_list[50:100]\n",
    "test_dataset = graph_data_list[100:150]"
   ]
  },
  {
   "cell_type": "code",
   "execution_count": 11,
   "id": "76809474",
   "metadata": {
    "id": "76809474"
   },
   "outputs": [],
   "source": [
    "batch_size = 32\n",
    "\n",
    "train_loader = DataLoader(train_dataset, batch_size=batch_size, shuffle=True)\n",
    "val_loader = DataLoader(val_dataset, batch_size=batch_size, shuffle=False)\n",
    "test_loader = DataLoader(test_dataset, batch_size=batch_size, shuffle=False)"
   ]
  },
  {
   "cell_type": "markdown",
   "id": "32f8e0b5",
   "metadata": {
    "id": "32f8e0b5"
   },
   "source": [
    "# Coding the model"
   ]
  },
  {
   "cell_type": "code",
   "execution_count": 12,
   "id": "073793e5",
   "metadata": {
    "id": "073793e5"
   },
   "outputs": [],
   "source": [
    "class MPNNLayer(MessagePassing):\n",
    "    def __init__(self, emb_dim=64, edge_dim=1, aggr='add'):\n",
    "        # Set the aggregation function\n",
    "        super().__init__(aggr=aggr)\n",
    "\n",
    "        self.emb_dim = emb_dim\n",
    "        self.edge_dim = edge_dim\n",
    "\n",
    "        # MLP `\\psi` for computing messages `m_ij`\n",
    "        # Implemented as a stack of Linear->BN->ReLU->Linear->BN->ReLU\n",
    "        # dims: (2d + d_e) -> d\n",
    "        self.mlp_msg = Sequential(\n",
    "            Linear(2*emb_dim + edge_dim, emb_dim), BatchNorm1d(emb_dim), ReLU(),\n",
    "            Linear(emb_dim, emb_dim), BatchNorm1d(emb_dim), ReLU()\n",
    "          )\n",
    "        \n",
    "        # MLP `\\phi` for computing updated node features `h_i^{l+1}`\n",
    "        # Implemented as a stack of Linear->BN->ReLU->Linear->BN->ReLU\n",
    "        # dims: 2d -> d\n",
    "        self.mlp_upd = Sequential(\n",
    "            Linear(2*emb_dim, emb_dim), BatchNorm1d(emb_dim), ReLU(), \n",
    "            Linear(emb_dim, emb_dim), BatchNorm1d(emb_dim), ReLU()\n",
    "          )\n",
    "\n",
    "    def forward(self, h, edge_index, edge_attr):\n",
    "        out = self.propagate(edge_index, h=h, edge_attr=edge_attr)\n",
    "        return out\n",
    "\n",
    "    def message(self, h_i, h_j, edge_attr):\n",
    "        msg = torch.cat([h_i, h_j, edge_attr], dim=-1)\n",
    "        return self.mlp_msg(msg)\n",
    "    \n",
    "    def aggregate(self, inputs, index):\n",
    "        return scatter(inputs, index, dim=self.node_dim, reduce=self.aggr)\n",
    "    \n",
    "    def update(self, aggr_out, h):\n",
    "        upd_out = torch.cat([h, aggr_out], dim=-1)\n",
    "        return self.mlp_upd(upd_out)\n",
    "\n",
    "    def __repr__(self) -> str:\n",
    "        return (f'{self.__class__.__name__}(emb_dim={self.emb_dim}, aggr={self.aggr})')"
   ]
  },
  {
   "cell_type": "code",
   "execution_count": 13,
   "id": "33326bb5",
   "metadata": {
    "id": "33326bb5"
   },
   "outputs": [],
   "source": [
    "class MPNNModel(Module):\n",
    "    def __init__(self, num_layers=4, emb_dim=64, in_dim=sequence_length, edge_dim=1, out_dim=3):\n",
    "        super().__init__()\n",
    "        \n",
    "        # Linear projection for initial node features\n",
    "        # dim: d_n -> d\n",
    "        self.lin_in = Linear(in_dim, emb_dim)\n",
    "        \n",
    "        # Stack of MPNN layers\n",
    "        self.convs = torch.nn.ModuleList()\n",
    "        for layer in range(num_layers):\n",
    "            self.convs.append(MPNNLayer(emb_dim, edge_dim, aggr='add'))\n",
    "        \n",
    "        # Global pooling/readout function `R` (mean pooling)\n",
    "        # PyG handles the underlying logic via `global_mean_pool()`\n",
    "        self.pool = global_mean_pool\n",
    "\n",
    "        # Linear prediction head\n",
    "        # dim: d -> out_dim\n",
    "        self.lin_pred_1 = Linear(emb_dim, 88)  # For notes\n",
    "        self.lin_pred_2 = Linear(emb_dim, 1)  # For velocity\n",
    "        self.lin_pred_3 = Linear(emb_dim, 1)  # For time\n",
    "        self.relu = nn.ReLU()\n",
    "        \n",
    "    def forward(self, data):\n",
    "        h = self.lin_in(data.x)  # (n, d_n) -> (n, d)\n",
    "\n",
    "        for conv in self.convs:\n",
    "            h = h + conv(h, data.edge_index, data.edge_attr)  # (n, d) -> (n, d)\n",
    "            # Note that we add a residual connection after each MPNN layer\n",
    "\n",
    "        h_graph = self.pool(h, data.batch)  # (n, d) -> (batch_size, d)\n",
    "\n",
    "        out_1 = self.lin_pred_1(h_graph)  # (batch_size, d) -> (batch_size, 88)\n",
    "        out_2 = self.relu(self.lin_pred_2(h_graph))  # (batch_size, d) -> (batch_size, 128)\n",
    "        out_3 = self.relu(self.lin_pred_3(h_graph))  # (batch_size, d) -> (batch_size, 1)\n",
    "        \n",
    "        return torch.cat((out_1, out_2, out_3), dim=1)"
   ]
  },
  {
   "cell_type": "code",
   "execution_count": 14,
   "id": "789c5536",
   "metadata": {
    "id": "789c5536"
   },
   "outputs": [],
   "source": [
    "#@title [RUN] Helper functions for managing experiments, training, and evaluating models.\n",
    "def train(model, train_loader, optimizer, device):\n",
    "    model.train()\n",
    "    loss_all = 0\n",
    "\n",
    "    for data in train_loader:\n",
    "        data = data.to(device)\n",
    "        optimizer.zero_grad()\n",
    "        y_pred = model(data)\n",
    "        loss_1 = F.cross_entropy(y_pred[:, :88], data.y[:, 0].long())\n",
    "        loss_2 = F.mse_loss(y_pred[:, 88:89].squeeze(), data.y[:, 1].float())\n",
    "        loss_3 = F.mse_loss(y_pred[:, 89:].squeeze(), data.y[:, 2].float())\n",
    "        loss = loss_1 + loss_2 + loss_3\n",
    "        # print(\"NEW--------------\")\n",
    "        # print()\n",
    "        # print(y_pred[:, 88:89].squeeze())\n",
    "        # print(data.y[:, 1].float())\n",
    "        # print()\n",
    "        # print(y_pred[:, 89:].squeeze())\n",
    "        # print(data.y[:, 2].float())\n",
    "        # print()\n",
    "        # print(loss_1, loss_2, loss_3)\n",
    "        # break\n",
    "        loss.backward()\n",
    "        loss_all += loss.item() * data.num_graphs\n",
    "        optimizer.step()\n",
    "    return loss_all / len(train_loader.dataset)\n",
    "\n",
    "def eval(model, loader, device):\n",
    "    model.eval()\n",
    "    error = [0, 0, 0]\n",
    "\n",
    "    for data in loader:\n",
    "        data = data.to(device)\n",
    "        with torch.no_grad():\n",
    "            y_pred = model(data)\n",
    "            error_1 = F.cross_entropy(y_pred[:, :88], data.y[:, 0], reduction='sum').item()\n",
    "            error_2 = (F.mse_loss(y_pred[:, 88:89].squeeze(), data.y[:, 1].float())).abs().sum().item()\n",
    "            print(error)\n",
    "            error_3 = (F.mse_loss(y_pred[:, 89:].squeeze(), data.y[:, 2].float())).abs().sum().item()\n",
    "            error = [x + y for x, y in zip(error, [error_1, error_2, error_3])]\n",
    "    error = [x / len(loader.dataset) for x in error]\n",
    "    return error"
   ]
  },
  {
   "cell_type": "code",
   "execution_count": 15,
   "id": "3541c0b5",
   "metadata": {
    "id": "3541c0b5"
   },
   "outputs": [],
   "source": [
    "def run_experiment(model, model_name, train_loader, val_loader, test_loader, n_epochs=100):\n",
    "    print(f\"Running experiment for {model_name}, training on {len(train_loader.dataset)} samples for {n_epochs} epochs.\")\n",
    "\n",
    "    device = torch.device('cuda' if torch.cuda.is_available() else 'cpu')\n",
    "\n",
    "    print(\"\\nModel architecture:\")\n",
    "    print(model)\n",
    "    total_param = 0\n",
    "    for param in model.parameters():\n",
    "        total_param += np.prod(list(param.data.size()))\n",
    "    print(f'Total parameters: {total_param}')\n",
    "    model = model.to(device)\n",
    "\n",
    "    # Adam optimizer with LR 1e-3\n",
    "    optimizer = torch.optim.Adam(model.parameters(), lr=0.001)\n",
    "\n",
    "    # LR scheduler which decays LR when validation metric doesn't improve\n",
    "    scheduler = torch.optim.lr_scheduler.ReduceLROnPlateau(\n",
    "        optimizer, mode='min', factor=0.9, patience=5, min_lr=0.00001)\n",
    "\n",
    "    print(\"\\nStart training:\")\n",
    "    best_val_error = [None, None, None]\n",
    "    perf_per_epoch = []  # Track Test/Val errors vs. epoch (for plotting)\n",
    "    t = time.time()\n",
    "    for epoch in range(1, n_epochs + 1):\n",
    "        # Call LR scheduler at start of each epoch\n",
    "        lr = scheduler.optimizer.param_groups[0]['lr']\n",
    "\n",
    "        # Train model for one epoch, return avg. training loss\n",
    "        loss = train(model, train_loader, optimizer, device)\n",
    "\n",
    "        # Evaluate model on validation set\n",
    "        val_error = eval(model, val_loader, device)\n",
    "\n",
    "        if any(best is None or err <= best for err, best in zip(val_error, best_val_error)):\n",
    "            # Evaluate model on test set if validation metric improves\n",
    "            test_error = eval(model, test_loader, device)\n",
    "            best_val_error = val_error\n",
    "\n",
    "        if epoch % 10 == 0:\n",
    "            # Print and track stats every 10 epochs\n",
    "            print(f'Epoch: {epoch:03d}, LR: {lr:5f}, Loss: {loss:.7f}, '\n",
    "                  f'Val Errors: {[f\"{x:.7f}\" for x in val_error]}, '\n",
    "                  f'Test Errors: {[f\"{x:.7f}\" for x in test_error]}')\n",
    "\n",
    "        scheduler.step(sum(val_error) / len(val_error))\n",
    "        perf_per_epoch.append((test_error[0],test_error[1], test_error[2], val_error[0], val_error[1], val_error[2], epoch, model_name))\n",
    "\n",
    "    \n",
    "    t = time.time() - t\n",
    "    train_time = t / 60\n",
    "    print(f\"\\nDone! Training took {train_time:.2f} mins. \"\n",
    "          f\"Best validation errors: {[f'{x:.7f}' for x in best_val_error]}, \"\n",
    "          f\"corresponding test errors: {[f'{x:.7f}' for x in test_error]}.\")\n",
    "    \n",
    "    return best_val_error, test_error, train_time, perf_per_epoch"
   ]
  },
  {
   "cell_type": "code",
   "execution_count": 16,
   "id": "81f13a69",
   "metadata": {
    "scrolled": false,
    "colab": {
     "base_uri": "https://localhost:8080/",
     "height": 1000
    },
    "id": "81f13a69",
    "outputId": "f2eb22f2-10fa-4a92-f16e-94ef5cf25be4"
   },
   "outputs": [
    {
     "name": "stdout",
     "output_type": "stream",
     "text": [
      "Running experiment for MPNNModel, training on 50 samples for 10 epochs.\n",
      "\n",
      "Model architecture:\n",
      "MPNNModel(\n",
      "  (lin_in): Linear(in_features=20, out_features=64, bias=True)\n",
      "  (convs): ModuleList(\n",
      "    (0-3): 4 x MPNNLayer(emb_dim=64, aggr=add)\n",
      "  )\n",
      "  (lin_pred_1): Linear(in_features=64, out_features=88, bias=True)\n",
      "  (lin_pred_2): Linear(in_features=64, out_features=1, bias=True)\n",
      "  (lin_pred_3): Linear(in_features=64, out_features=1, bias=True)\n",
      "  (relu): ReLU()\n",
      ")\n",
      "Total parameters: 108826\n",
      "\n",
      "Start training:\n",
      "[0, 0, 0]\n",
      "[307.36981201171875, 0.8066571950912476, 0.7752224802970886]\n",
      "[0, 0, 0]\n",
      "[280.1942138671875, 0.6407591104507446, 1.8866729736328125]\n",
      "[0, 0, 0]\n",
      "[277.45159912109375, 0.5463994741439819, 0.8125]\n",
      "[0, 0, 0]\n",
      "[259.468994140625, 0.2788352370262146, 2.0]\n",
      "[0, 0, 0]\n",
      "[244.1533203125, 0.8437503576278687, 0.8125]\n",
      "[0, 0, 0]\n",
      "[237.96163940429688, 0.5308716893196106, 2.0]\n",
      "[0, 0, 0]\n",
      "[214.33685302734375, 0.84375, 0.8125]\n",
      "[0, 0, 0]\n",
      "[220.87384033203125, 0.53125, 2.0]\n",
      "[0, 0, 0]\n",
      "[192.8194580078125, 0.84375, 0.8125]\n",
      "[0, 0, 0]\n",
      "[211.91648864746094, 0.53125, 2.0]\n",
      "[0, 0, 0]\n",
      "[179.17929077148438, 0.84375, 0.8125]\n",
      "[0, 0, 0]\n",
      "[210.58108520507812, 0.53125, 2.0]\n",
      "[0, 0, 0]\n",
      "[170.75413513183594, 0.84375, 0.8125]\n",
      "[0, 0, 0]\n",
      "[214.57904052734375, 0.53125, 2.0]\n",
      "[0, 0, 0]\n",
      "[165.1764373779297, 0.84375, 0.8125]\n",
      "[0, 0, 0]\n",
      "[221.08241271972656, 0.53125, 2.0]\n",
      "[0, 0, 0]\n",
      "[159.62652587890625, 0.84375, 0.8125]\n",
      "[0, 0, 0]\n",
      "[226.68849182128906, 0.53125, 2.0]\n",
      "[0, 0, 0]\n",
      "[154.20724487304688, 0.84375, 0.8125]\n",
      "[0, 0, 0]\n",
      "[231.11788940429688, 0.53125, 2.0]\n",
      "Epoch: 010, LR: 0.001000, Loss: 4.6583899, Val Errors: ['4.9589824', '0.0268750', '0.0506944'], Test Errors: ['6.2955464', '0.0306250', '0.0655556']\n",
      "\n",
      "Done! Training took 0.04 mins. Best validation errors: ['4.9589824', '0.0268750', '0.0506944'], corresponding test errors: ['6.2955464', '0.0306250', '0.0655556'].\n"
     ]
    }
   ],
   "source": [
    "model = MPNNModel(num_layers=4, emb_dim=64, in_dim=sequence_length, edge_dim=1, out_dim=3)\n",
    "model_name = type(model).__name__\n",
    "best_val_errors, test_errors, train_time, perf_per_epoch = run_experiment(\n",
    "    model, \n",
    "    model_name, \n",
    "    train_loader,\n",
    "    val_loader, \n",
    "    test_loader,\n",
    "    n_epochs=10\n",
    ")"
   ]
  },
  {
   "cell_type": "code",
   "execution_count": null,
   "id": "6f50d6e8",
   "metadata": {
    "colab": {
     "base_uri": "https://localhost:8080/"
    },
    "id": "6f50d6e8",
    "outputId": "4211228b-deb4-43d9-8dcc-16fbe285f03b"
   },
   "outputs": [
    {
     "output_type": "stream",
     "name": "stderr",
     "text": [
      "<ipython-input-18-d98b3f66e689>:7: FutureWarning: The frame.append method is deprecated and will be removed from pandas in a future version. Use pandas.concat instead.\n",
      "  DF_RESULTS = DF_RESULTS.append(df_temp, ignore_index=True)\n"
     ]
    }
   ],
   "source": [
    "RESULTS = {}\n",
    "DF_RESULTS = pd.DataFrame(columns=[\"Test Errors 1\", \"Test Errors 2\", \"Test Errors 3\", \"Val Errors 1\", \"Val Errors 2\", \"Val Errors 3\", \"Epoch\", \"Model\"])\n",
    "\n",
    "RESULTS[model_name] = (best_val_errors, test_errors, train_time)\n",
    "\n",
    "df_temp = pd.DataFrame(perf_per_epoch, columns=[\"Test Errors 1\", \"Test Errors 2\", \"Test Errors 3\", \"Val Errors 1\", \"Val Errors 2\", \"Val Errors 3\", \"Epoch\", \"Model\"])\n",
    "DF_RESULTS = DF_RESULTS.append(df_temp, ignore_index=True)"
   ]
  },
  {
   "cell_type": "code",
   "execution_count": null,
   "id": "3bb7829c",
   "metadata": {
    "colab": {
     "base_uri": "https://localhost:8080/",
     "height": 803
    },
    "id": "3bb7829c",
    "outputId": "a8b28a8d-9708-4294-b0fc-cff6abcb26d9"
   },
   "outputs": [
    {
     "output_type": "display_data",
     "data": {
      "text/plain": [
       "<Figure size 432x288 with 1 Axes>"
      ],
      "image/png": "[encoded data removed]"
     },
     "metadata": {
      "needs_background": "light"
     }
    },
    {
     "output_type": "display_data",
     "data": {
      "text/plain": [
       "<Figure size 432x288 with 1 Axes>"
      ],
      "image/png": "[encoded data removed]"
     },
     "metadata": {
      "needs_background": "light"
     }
    },
    {
     "output_type": "display_data",
     "data": {
      "text/plain": [
       "<Figure size 432x288 with 1 Axes>"
      ],
      "image/png": "[encoded data removed]"
     },
     "metadata": {
      "needs_background": "light"
     }
    }
   ],
   "source": [
    "# Plots for each output\n",
    "for i in range(3):\n",
    "    p = sns.lineplot(x=\"Epoch\", y=f\"Val Errors {i+1}\", hue=\"Model\", data=DF_RESULTS)\n",
    "    plt.show()"
   ]
  },
  {
   "cell_type": "code",
   "source": [
    "for i in range(3):\n",
    "    p = sns.lineplot(x=\"Epoch\", y=f\"Test Errors {i+1}\", hue=\"Model\", data=DF_RESULTS)\n",
    "    plt.show()"
   ],
   "metadata": {
    "colab": {
     "base_uri": "https://localhost:8080/",
     "height": 805
    },
    "id": "FAHnKzVvCnE4",
    "outputId": "03d5e58d-74d5-46ec-f9ec-c2cda7eeabe8"
   },
   "id": "FAHnKzVvCnE4",
   "execution_count": null,
   "outputs": [
    {
     "output_type": "display_data",
     "data": {
      "text/plain": [
       "<Figure size 432x288 with 1 Axes>"
      ],
      "image/png": "[encoded data removed]"
     },
     "metadata": {
      "needs_background": "light"
     }
    },
    {
     "output_type": "display_data",
     "data": {
      "text/plain": [
       "<Figure size 432x288 with 1 Axes>"
      ],
      "image/png": "[encoded data removed]"
     },
     "metadata": {
      "needs_background": "light"
     }
    },
    {
     "output_type": "display_data",
     "data": {
      "text/plain": [
       "<Figure size 432x288 with 1 Axes>"
      ],
      "image/png": "[encoded data removed]"
     },
     "metadata": {
      "needs_background": "light"
     }
    }
   ]
  },
  {
   "cell_type": "code",
   "execution_count": null,
   "id": "d745cf3c",
   "metadata": {
    "colab": {
     "base_uri": "https://localhost:8080/"
    },
    "id": "d745cf3c",
    "outputId": "f406fdb8-acc3-4a62-fd10-7bdd923c7589"
   },
   "outputs": [
    {
     "output_type": "stream",
     "name": "stdout",
     "text": [
      "cuda Device???\n",
      "torch.Size([1, 90])\n",
      "Note predictions: tensor([42], device='cuda:0')\n",
      "Velocity predictions: tensor([54.], device='cuda:0', grad_fn=<RoundBackward0>)\n",
      "Integer predictions: tensor([38.], device='cuda:0', grad_fn=<RoundBackward0>)\n",
      "tensor([[42,  0,  1]])\n"
     ]
    }
   ],
   "source": [
    "test_this = 6\n",
    "example_data = graph_data_list[test_this]\n",
    "\n",
    "# Create a batch object for the single example\n",
    "batch = Batch.from_data_list([example_data])\n",
    "\n",
    "# Ensure the model is in evaluation mode\n",
    "model.eval()\n",
    "\n",
    "# Define the device\n",
    "device = torch.device('cuda' if torch.cuda.is_available() else 'cpu')\n",
    "print(f\"{device} Device???\")\n",
    "# Move the batch to the same device as the model\n",
    "batch = batch.to(device)\n",
    "\n",
    "# Obtain the model predictions\n",
    "predictions = model(batch)\n",
    "print(predictions.shape)\n",
    "\n",
    "note_logits = predictions[:, :88]\n",
    "velocity_logits = predictions[:, 88] * velocity_std + velocity_mean\n",
    "integer_logits = predictions[:, 89] * timestep_std + timestep_mean\n",
    "\n",
    "# Get the predicted classes for note and velocity\n",
    "note_predictions = torch.argmax(note_logits, dim=1)\n",
    "velocity_predictions = torch.round(velocity_logits)\n",
    "\n",
    "# Get the integer value\n",
    "integer_predictions = torch.round(integer_logits)\n",
    "\n",
    "# Print the predictions\n",
    "print(\"Note predictions:\", note_predictions)\n",
    "print(\"Velocity predictions:\", velocity_predictions)\n",
    "print(\"Integer predictions:\", integer_predictions)\n",
    "\n",
    "print(graph_data_list[test_this + 1].y)"
   ]
  },
  {
   "cell_type": "code",
   "source": [
    "def generate_next_tuple(model, data):\n",
    "    # Create a batch object for the single example\n",
    "    batch = Batch.from_data_list([data])\n",
    "\n",
    "    # Ensure the model is in evaluation mode\n",
    "    model.eval()\n",
    "\n",
    "    # Move the batch to the same device as the model\n",
    "    batch = batch.to(device)\n",
    "\n",
    "    # Obtain the model predictions\n",
    "    predictions = model(batch)\n",
    "\n",
    "    note_logits = predictions[:, :88]\n",
    "    velocity_logits = predictions[:, 88] * velocity_std + velocity_mean\n",
    "    integer_logits = predictions[:, 89] * timestep_std + timestep_mean\n",
    "    # print(predictions[:, 89])\n",
    "    # Get the predicted classes for note and velocity\n",
    "    note_predictions = torch.argmax(note_logits, dim=1)\n",
    "    velocity_predictions = torch.round(velocity_logits)\n",
    "\n",
    "    # Get the integer value\n",
    "    integer_predictions = torch.round(integer_logits)\n",
    "    # print(integer_predictions.item())\n",
    "    # Create the new tuple\n",
    "    new_tuple = (note_predictions.item(), velocity_predictions.item(), integer_predictions.item())\n",
    "    return new_tuple\n",
    "\n",
    "\n",
    "# Start with the desired index\n",
    "test_this = 50\n",
    "example_data = graph_data_list[test_this]\n",
    "\n",
    "# Define the device\n",
    "# device = torch.device('cuda' if torch.cuda.is_available() else 'cpu')\n",
    "\n",
    "# Number of iterations for the loop\n",
    "num_iterations = 500\n",
    "\n",
    "# List to store the generated tuples\n",
    "generated_tuples = []\n",
    "\n",
    "# Loop to generate new tuples\n",
    "for _ in range(num_iterations):\n",
    "    next_tuple = generate_next_tuple(model, example_data)\n",
    "    generated_tuples.append(next_tuple)\n",
    "\n",
    "    # Create a new Data object with the next_tuple\n",
    "    new_data_tuples = example_data.x.numpy()\n",
    "    new_data_tuples = np.roll(new_data_tuples, -1, axis=1)\n",
    "    new_data_tuples[:, -1] = new_data_tuples[:, -2]\n",
    "    new_data_tuples[next_tuple[0], -1] = next_tuple[1]\n",
    "    new_data_tuples[0, -1] = next_tuple[2]\n",
    "    example_data = Data(x=torch.tensor(new_data_tuples, dtype=torch.float), edge_index=example_data.edge_index,\n",
    "                        edge_attr=example_data.edge_attr)\n",
    "\n",
    "print(\"Generated tuples:\", generated_tuples)\n",
    "for i in generated_tuples:\n",
    "  print(i)\n"
   ],
   "metadata": {
    "colab": {
     "base_uri": "https://localhost:8080/"
    },
    "id": "VtH6BnT4PaSY",
    "outputId": "751deb2f-6261-41ef-9358-af1c604c12a8"
   },
   "id": "VtH6BnT4PaSY",
   "execution_count": null,
   "outputs": [
    {
     "output_type": "stream",
     "name": "stdout",
     "text": [
      "Generated tuples: [(58, 35.0, 43.0), (51, 35.0, 1134.0), (51, 35.0, 9643.0), (51, 35.0, 98360.0), (51, 35.0, 1071373.0), (51, 35.0, 10980661.0), (51, 35.0, 119485112.0), (51, 35.0, 1224367232.0), (51, 35.0, 13322715136.0), (51, 35.0, 136514035712.0), (51, 35.0, 1485483278336.0), (51, 35.0, 15220983463936.0), (51, 35.0, 165631840223232.0), (51, 35.0, 1697100224004096.0), (51, 35.0, 1.846798141567795e+16), (51, 35.0, 1.8922297902288077e+17), (51, 35.0, 2.0591799450279608e+18), (51, 35.0, 2.1097840331114676e+19), (51, 35.0, 2.295981885248357e+20), (51, 35.0, 2.3523487270782936e+21), (51, 35.0, 2.5600180657031555e+22), (51, 35.0, 2.622799685660581e+23), (51, 35.0, 2.8544255430749716e+24), (51, 35.0, 2.9243445830140043e+25), (51, 35.0, 3.1826997653854406e+26), (51, 35.0, 3.2605552817662e+27), (51, 35.0, 3.5486992681260657e+28), (51, 35.0, 3.635402011198882e+29), (51, 35.0, 3.95680181610903e+30), (51, 35.0, 4.0533720799519574e+31), (51, 35.0, 4.411833769575989e+32), (51, 35.0, 4.519389172410454e+33), (51, 35.0, 4.919190945059954e+34), (51, 35.0, 5.039043446938611e+35), (51, 35.0, 5.484913717187911e+36), (0, nan, nan), (0, nan, nan), (0, nan, nan), (0, nan, nan), (0, nan, nan), (0, nan, nan), (0, nan, nan), (0, nan, nan), (0, nan, nan), (0, nan, nan), (0, nan, nan), (0, nan, nan), (0, nan, nan), (0, nan, nan), (0, nan, nan), (0, nan, nan), (0, nan, nan), (0, nan, nan), (0, nan, nan), (0, nan, nan), (0, nan, nan), (0, nan, nan), (0, nan, nan), (0, nan, nan), (0, nan, nan), (0, nan, nan), (0, nan, nan), (0, nan, nan), (0, nan, nan), (0, nan, nan), (0, nan, nan), (0, nan, nan), (0, nan, nan), (0, nan, nan), (0, nan, nan), (0, nan, nan), (0, nan, nan), (0, nan, nan), (0, nan, nan), (0, nan, nan), (0, nan, nan), (0, nan, nan), (0, nan, nan), (0, nan, nan), (0, nan, nan), (0, nan, nan), (0, nan, nan), (0, nan, nan), (0, nan, nan), (0, nan, nan), (0, nan, nan), (0, nan, nan), (0, nan, nan), (0, nan, nan), (0, nan, nan), (0, nan, nan), (0, nan, nan), (0, nan, nan), (0, nan, nan), (0, nan, nan), (0, nan, nan), (0, nan, nan), (0, nan, nan), (0, nan, nan), (0, nan, nan), (0, nan, nan), (0, nan, nan), (0, nan, nan), (0, nan, nan), (0, nan, nan), (0, nan, nan), (0, nan, nan), (0, nan, nan), (0, nan, nan), (0, nan, nan), (0, nan, nan), (0, nan, nan), (0, nan, nan), (0, nan, nan), (0, nan, nan), (0, nan, nan), (0, nan, nan), (0, nan, nan), (0, nan, nan), (0, nan, nan), (0, nan, nan), (0, nan, nan), (0, nan, nan), (0, nan, nan), (0, nan, nan), (0, nan, nan), (0, nan, nan), (0, nan, nan), (0, nan, nan), (0, nan, nan), (0, nan, nan), (0, nan, nan), (0, nan, nan), (0, nan, nan), (0, nan, nan), (0, nan, nan), (0, nan, nan), (0, nan, nan), (0, nan, nan), (0, nan, nan), (0, nan, nan), (0, nan, nan), (0, nan, nan), (0, nan, nan), (0, nan, nan), (0, nan, nan), (0, nan, nan), (0, nan, nan), (0, nan, nan), (0, nan, nan), (0, nan, nan), (0, nan, nan), (0, nan, nan), (0, nan, nan), (0, nan, nan), (0, nan, nan), (0, nan, nan), (0, nan, nan), (0, nan, nan), (0, nan, nan), (0, nan, nan), (0, nan, nan), (0, nan, nan), (0, nan, nan), (0, nan, nan), (0, nan, nan), (0, nan, nan), (0, nan, nan), (0, nan, nan), (0, nan, nan), (0, nan, nan), (0, nan, nan), (0, nan, nan), (0, nan, nan), (0, nan, nan), (0, nan, nan), (0, nan, nan), (0, nan, nan), (0, nan, nan), (0, nan, nan), (0, nan, nan), (0, nan, nan), (0, nan, nan), (0, nan, nan), (0, nan, nan), (0, nan, nan), (0, nan, nan), (0, nan, nan), (0, nan, nan), (0, nan, nan), (0, nan, nan), (0, nan, nan), (0, nan, nan), (0, nan, nan), (0, nan, nan), (0, nan, nan), (0, nan, nan), (0, nan, nan), (0, nan, nan), (0, nan, nan), (0, nan, nan), (0, nan, nan), (0, nan, nan), (0, nan, nan), (0, nan, nan), (0, nan, nan), (0, nan, nan), (0, nan, nan), (0, nan, nan), (0, nan, nan), (0, nan, nan), (0, nan, nan), (0, nan, nan), (0, nan, nan), (0, nan, nan), (0, nan, nan), (0, nan, nan), (0, nan, nan), (0, nan, nan), (0, nan, nan), (0, nan, nan), (0, nan, nan), (0, nan, nan), (0, nan, nan), (0, nan, nan), (0, nan, nan), (0, nan, nan), (0, nan, nan), (0, nan, nan), (0, nan, nan), (0, nan, nan), (0, nan, nan), (0, nan, nan), (0, nan, nan), (0, nan, nan), (0, nan, nan), (0, nan, nan), (0, nan, nan), (0, nan, nan), (0, nan, nan), (0, nan, nan), (0, nan, nan), (0, nan, nan), (0, nan, nan), (0, nan, nan), (0, nan, nan), (0, nan, nan), (0, nan, nan), (0, nan, nan), (0, nan, nan), (0, nan, nan), (0, nan, nan), (0, nan, nan), (0, nan, nan), (0, nan, nan), (0, nan, nan), (0, nan, nan), (0, nan, nan), (0, nan, nan), (0, nan, nan), (0, nan, nan), (0, nan, nan), (0, nan, nan), (0, nan, nan), (0, nan, nan), (0, nan, nan), (0, nan, nan), (0, nan, nan), (0, nan, nan), (0, nan, nan), (0, nan, nan), (0, nan, nan), (0, nan, nan), (0, nan, nan), (0, nan, nan), (0, nan, nan), (0, nan, nan), (0, nan, nan), (0, nan, nan), (0, nan, nan), (0, nan, nan), (0, nan, nan), (0, nan, nan), (0, nan, nan), (0, nan, nan), (0, nan, nan), (0, nan, nan), (0, nan, nan), (0, nan, nan), (0, nan, nan), (0, nan, nan), (0, nan, nan), (0, nan, nan), (0, nan, nan), (0, nan, nan), (0, nan, nan), (0, nan, nan), (0, nan, nan), (0, nan, nan), (0, nan, nan), (0, nan, nan), (0, nan, nan), (0, nan, nan), (0, nan, nan), (0, nan, nan), (0, nan, nan), (0, nan, nan), (0, nan, nan), (0, nan, nan), (0, nan, nan), (0, nan, nan), (0, nan, nan), (0, nan, nan), (0, nan, nan), (0, nan, nan), (0, nan, nan), (0, nan, nan), (0, nan, nan), (0, nan, nan), (0, nan, nan), (0, nan, nan), (0, nan, nan), (0, nan, nan), (0, nan, nan), (0, nan, nan), (0, nan, nan), (0, nan, nan), (0, nan, nan), (0, nan, nan), (0, nan, nan), (0, nan, nan), (0, nan, nan), (0, nan, nan), (0, nan, nan), (0, nan, nan), (0, nan, nan), (0, nan, nan), (0, nan, nan), (0, nan, nan), (0, nan, nan), (0, nan, nan), (0, nan, nan), (0, nan, nan), (0, nan, nan), (0, nan, nan), (0, nan, nan), (0, nan, nan), (0, nan, nan), (0, nan, nan), (0, nan, nan), (0, nan, nan), (0, nan, nan), (0, nan, nan), (0, nan, nan), (0, nan, nan), (0, nan, nan), (0, nan, nan), (0, nan, nan), (0, nan, nan), (0, nan, nan), (0, nan, nan), (0, nan, nan), (0, nan, nan), (0, nan, nan), (0, nan, nan), (0, nan, nan), (0, nan, nan), (0, nan, nan), (0, nan, nan), (0, nan, nan), (0, nan, nan), (0, nan, nan), (0, nan, nan), (0, nan, nan), (0, nan, nan), (0, nan, nan), (0, nan, nan), (0, nan, nan), (0, nan, nan), (0, nan, nan), (0, nan, nan), (0, nan, nan), (0, nan, nan), (0, nan, nan), (0, nan, nan), (0, nan, nan), (0, nan, nan), (0, nan, nan), (0, nan, nan), (0, nan, nan), (0, nan, nan), (0, nan, nan), (0, nan, nan), (0, nan, nan), (0, nan, nan), (0, nan, nan), (0, nan, nan), (0, nan, nan), (0, nan, nan), (0, nan, nan), (0, nan, nan), (0, nan, nan), (0, nan, nan), (0, nan, nan), (0, nan, nan), (0, nan, nan), (0, nan, nan), (0, nan, nan), (0, nan, nan), (0, nan, nan), (0, nan, nan), (0, nan, nan), (0, nan, nan), (0, nan, nan), (0, nan, nan), (0, nan, nan), (0, nan, nan), (0, nan, nan), (0, nan, nan), (0, nan, nan), (0, nan, nan), (0, nan, nan), (0, nan, nan), (0, nan, nan), (0, nan, nan), (0, nan, nan), (0, nan, nan), (0, nan, nan), (0, nan, nan), (0, nan, nan), (0, nan, nan), (0, nan, nan), (0, nan, nan), (0, nan, nan), (0, nan, nan), (0, nan, nan), (0, nan, nan), (0, nan, nan), (0, nan, nan), (0, nan, nan), (0, nan, nan), (0, nan, nan), (0, nan, nan), (0, nan, nan), (0, nan, nan), (0, nan, nan), (0, nan, nan), (0, nan, nan), (0, nan, nan), (0, nan, nan), (0, nan, nan), (0, nan, nan), (0, nan, nan), (0, nan, nan), (0, nan, nan), (0, nan, nan), (0, nan, nan), (0, nan, nan), (0, nan, nan), (0, nan, nan), (0, nan, nan), (0, nan, nan), (0, nan, nan), (0, nan, nan), (0, nan, nan), (0, nan, nan), (0, nan, nan), (0, nan, nan), (0, nan, nan), (0, nan, nan), (0, nan, nan), (0, nan, nan), (0, nan, nan), (0, nan, nan), (0, nan, nan), (0, nan, nan), (0, nan, nan), (0, nan, nan), (0, nan, nan), (0, nan, nan), (0, nan, nan), (0, nan, nan), (0, nan, nan), (0, nan, nan), (0, nan, nan), (0, nan, nan), (0, nan, nan), (0, nan, nan), (0, nan, nan), (0, nan, nan), (0, nan, nan), (0, nan, nan), (0, nan, nan), (0, nan, nan), (0, nan, nan), (0, nan, nan), (0, nan, nan), (0, nan, nan), (0, nan, nan), (0, nan, nan)]\n",
      "(58, 35.0, 43.0)\n",
      "(51, 35.0, 1134.0)\n",
      "(51, 35.0, 9643.0)\n",
      "(51, 35.0, 98360.0)\n",
      "(51, 35.0, 1071373.0)\n",
      "(51, 35.0, 10980661.0)\n",
      "(51, 35.0, 119485112.0)\n",
      "(51, 35.0, 1224367232.0)\n",
      "(51, 35.0, 13322715136.0)\n",
      "(51, 35.0, 136514035712.0)\n",
      "(51, 35.0, 1485483278336.0)\n",
      "(51, 35.0, 15220983463936.0)\n",
      "(51, 35.0, 165631840223232.0)\n",
      "(51, 35.0, 1697100224004096.0)\n",
      "(51, 35.0, 1.846798141567795e+16)\n",
      "(51, 35.0, 1.8922297902288077e+17)\n",
      "(51, 35.0, 2.0591799450279608e+18)\n",
      "(51, 35.0, 2.1097840331114676e+19)\n",
      "(51, 35.0, 2.295981885248357e+20)\n",
      "(51, 35.0, 2.3523487270782936e+21)\n",
      "(51, 35.0, 2.5600180657031555e+22)\n",
      "(51, 35.0, 2.622799685660581e+23)\n",
      "(51, 35.0, 2.8544255430749716e+24)\n",
      "(51, 35.0, 2.9243445830140043e+25)\n",
      "(51, 35.0, 3.1826997653854406e+26)\n",
      "(51, 35.0, 3.2605552817662e+27)\n",
      "(51, 35.0, 3.5486992681260657e+28)\n",
      "(51, 35.0, 3.635402011198882e+29)\n",
      "(51, 35.0, 3.95680181610903e+30)\n",
      "(51, 35.0, 4.0533720799519574e+31)\n",
      "(51, 35.0, 4.411833769575989e+32)\n",
      "(51, 35.0, 4.519389172410454e+33)\n",
      "(51, 35.0, 4.919190945059954e+34)\n",
      "(51, 35.0, 5.039043446938611e+35)\n",
      "(51, 35.0, 5.484913717187911e+36)\n",
      "(0, nan, nan)\n",
      "(0, nan, nan)\n",
      "(0, nan, nan)\n",
      "(0, nan, nan)\n",
      "(0, nan, nan)\n",
      "(0, nan, nan)\n",
      "(0, nan, nan)\n",
      "(0, nan, nan)\n",
      "(0, nan, nan)\n",
      "(0, nan, nan)\n",
      "(0, nan, nan)\n",
      "(0, nan, nan)\n",
      "(0, nan, nan)\n",
      "(0, nan, nan)\n",
      "(0, nan, nan)\n",
      "(0, nan, nan)\n",
      "(0, nan, nan)\n",
      "(0, nan, nan)\n",
      "(0, nan, nan)\n",
      "(0, nan, nan)\n",
      "(0, nan, nan)\n",
      "(0, nan, nan)\n",
      "(0, nan, nan)\n",
      "(0, nan, nan)\n",
      "(0, nan, nan)\n",
      "(0, nan, nan)\n",
      "(0, nan, nan)\n",
      "(0, nan, nan)\n",
      "(0, nan, nan)\n",
      "(0, nan, nan)\n",
      "(0, nan, nan)\n",
      "(0, nan, nan)\n",
      "(0, nan, nan)\n",
      "(0, nan, nan)\n",
      "(0, nan, nan)\n",
      "(0, nan, nan)\n",
      "(0, nan, nan)\n",
      "(0, nan, nan)\n",
      "(0, nan, nan)\n",
      "(0, nan, nan)\n",
      "(0, nan, nan)\n",
      "(0, nan, nan)\n",
      "(0, nan, nan)\n",
      "(0, nan, nan)\n",
      "(0, nan, nan)\n",
      "(0, nan, nan)\n",
      "(0, nan, nan)\n",
      "(0, nan, nan)\n",
      "(0, nan, nan)\n",
      "(0, nan, nan)\n",
      "(0, nan, nan)\n",
      "(0, nan, nan)\n",
      "(0, nan, nan)\n",
      "(0, nan, nan)\n",
      "(0, nan, nan)\n",
      "(0, nan, nan)\n",
      "(0, nan, nan)\n",
      "(0, nan, nan)\n",
      "(0, nan, nan)\n",
      "(0, nan, nan)\n",
      "(0, nan, nan)\n",
      "(0, nan, nan)\n",
      "(0, nan, nan)\n",
      "(0, nan, nan)\n",
      "(0, nan, nan)\n",
      "(0, nan, nan)\n",
      "(0, nan, nan)\n",
      "(0, nan, nan)\n",
      "(0, nan, nan)\n",
      "(0, nan, nan)\n",
      "(0, nan, nan)\n",
      "(0, nan, nan)\n",
      "(0, nan, nan)\n",
      "(0, nan, nan)\n",
      "(0, nan, nan)\n",
      "(0, nan, nan)\n",
      "(0, nan, nan)\n",
      "(0, nan, nan)\n",
      "(0, nan, nan)\n",
      "(0, nan, nan)\n",
      "(0, nan, nan)\n",
      "(0, nan, nan)\n",
      "(0, nan, nan)\n",
      "(0, nan, nan)\n",
      "(0, nan, nan)\n",
      "(0, nan, nan)\n",
      "(0, nan, nan)\n",
      "(0, nan, nan)\n",
      "(0, nan, nan)\n",
      "(0, nan, nan)\n",
      "(0, nan, nan)\n",
      "(0, nan, nan)\n",
      "(0, nan, nan)\n",
      "(0, nan, nan)\n",
      "(0, nan, nan)\n",
      "(0, nan, nan)\n",
      "(0, nan, nan)\n",
      "(0, nan, nan)\n",
      "(0, nan, nan)\n",
      "(0, nan, nan)\n",
      "(0, nan, nan)\n",
      "(0, nan, nan)\n",
      "(0, nan, nan)\n",
      "(0, nan, nan)\n",
      "(0, nan, nan)\n",
      "(0, nan, nan)\n",
      "(0, nan, nan)\n",
      "(0, nan, nan)\n",
      "(0, nan, nan)\n",
      "(0, nan, nan)\n",
      "(0, nan, nan)\n",
      "(0, nan, nan)\n",
      "(0, nan, nan)\n",
      "(0, nan, nan)\n",
      "(0, nan, nan)\n",
      "(0, nan, nan)\n",
      "(0, nan, nan)\n",
      "(0, nan, nan)\n",
      "(0, nan, nan)\n",
      "(0, nan, nan)\n",
      "(0, nan, nan)\n",
      "(0, nan, nan)\n",
      "(0, nan, nan)\n",
      "(0, nan, nan)\n",
      "(0, nan, nan)\n",
      "(0, nan, nan)\n",
      "(0, nan, nan)\n",
      "(0, nan, nan)\n",
      "(0, nan, nan)\n",
      "(0, nan, nan)\n",
      "(0, nan, nan)\n",
      "(0, nan, nan)\n",
      "(0, nan, nan)\n",
      "(0, nan, nan)\n",
      "(0, nan, nan)\n",
      "(0, nan, nan)\n",
      "(0, nan, nan)\n",
      "(0, nan, nan)\n",
      "(0, nan, nan)\n",
      "(0, nan, nan)\n",
      "(0, nan, nan)\n",
      "(0, nan, nan)\n",
      "(0, nan, nan)\n",
      "(0, nan, nan)\n",
      "(0, nan, nan)\n",
      "(0, nan, nan)\n",
      "(0, nan, nan)\n",
      "(0, nan, nan)\n",
      "(0, nan, nan)\n",
      "(0, nan, nan)\n",
      "(0, nan, nan)\n",
      "(0, nan, nan)\n",
      "(0, nan, nan)\n",
      "(0, nan, nan)\n",
      "(0, nan, nan)\n",
      "(0, nan, nan)\n",
      "(0, nan, nan)\n",
      "(0, nan, nan)\n",
      "(0, nan, nan)\n",
      "(0, nan, nan)\n",
      "(0, nan, nan)\n",
      "(0, nan, nan)\n",
      "(0, nan, nan)\n",
      "(0, nan, nan)\n",
      "(0, nan, nan)\n",
      "(0, nan, nan)\n",
      "(0, nan, nan)\n",
      "(0, nan, nan)\n",
      "(0, nan, nan)\n",
      "(0, nan, nan)\n",
      "(0, nan, nan)\n",
      "(0, nan, nan)\n",
      "(0, nan, nan)\n",
      "(0, nan, nan)\n",
      "(0, nan, nan)\n",
      "(0, nan, nan)\n",
      "(0, nan, nan)\n",
      "(0, nan, nan)\n",
      "(0, nan, nan)\n",
      "(0, nan, nan)\n",
      "(0, nan, nan)\n",
      "(0, nan, nan)\n",
      "(0, nan, nan)\n",
      "(0, nan, nan)\n",
      "(0, nan, nan)\n",
      "(0, nan, nan)\n",
      "(0, nan, nan)\n",
      "(0, nan, nan)\n",
      "(0, nan, nan)\n",
      "(0, nan, nan)\n",
      "(0, nan, nan)\n",
      "(0, nan, nan)\n",
      "(0, nan, nan)\n",
      "(0, nan, nan)\n",
      "(0, nan, nan)\n",
      "(0, nan, nan)\n",
      "(0, nan, nan)\n",
      "(0, nan, nan)\n",
      "(0, nan, nan)\n",
      "(0, nan, nan)\n",
      "(0, nan, nan)\n",
      "(0, nan, nan)\n",
      "(0, nan, nan)\n",
      "(0, nan, nan)\n",
      "(0, nan, nan)\n",
      "(0, nan, nan)\n",
      "(0, nan, nan)\n",
      "(0, nan, nan)\n",
      "(0, nan, nan)\n",
      "(0, nan, nan)\n",
      "(0, nan, nan)\n",
      "(0, nan, nan)\n",
      "(0, nan, nan)\n",
      "(0, nan, nan)\n",
      "(0, nan, nan)\n",
      "(0, nan, nan)\n",
      "(0, nan, nan)\n",
      "(0, nan, nan)\n",
      "(0, nan, nan)\n",
      "(0, nan, nan)\n",
      "(0, nan, nan)\n",
      "(0, nan, nan)\n",
      "(0, nan, nan)\n",
      "(0, nan, nan)\n",
      "(0, nan, nan)\n",
      "(0, nan, nan)\n",
      "(0, nan, nan)\n",
      "(0, nan, nan)\n",
      "(0, nan, nan)\n",
      "(0, nan, nan)\n",
      "(0, nan, nan)\n",
      "(0, nan, nan)\n",
      "(0, nan, nan)\n",
      "(0, nan, nan)\n",
      "(0, nan, nan)\n",
      "(0, nan, nan)\n",
      "(0, nan, nan)\n",
      "(0, nan, nan)\n",
      "(0, nan, nan)\n",
      "(0, nan, nan)\n",
      "(0, nan, nan)\n",
      "(0, nan, nan)\n",
      "(0, nan, nan)\n",
      "(0, nan, nan)\n",
      "(0, nan, nan)\n",
      "(0, nan, nan)\n",
      "(0, nan, nan)\n",
      "(0, nan, nan)\n",
      "(0, nan, nan)\n",
      "(0, nan, nan)\n",
      "(0, nan, nan)\n",
      "(0, nan, nan)\n",
      "(0, nan, nan)\n",
      "(0, nan, nan)\n",
      "(0, nan, nan)\n",
      "(0, nan, nan)\n",
      "(0, nan, nan)\n",
      "(0, nan, nan)\n",
      "(0, nan, nan)\n",
      "(0, nan, nan)\n",
      "(0, nan, nan)\n",
      "(0, nan, nan)\n",
      "(0, nan, nan)\n",
      "(0, nan, nan)\n",
      "(0, nan, nan)\n",
      "(0, nan, nan)\n",
      "(0, nan, nan)\n",
      "(0, nan, nan)\n",
      "(0, nan, nan)\n",
      "(0, nan, nan)\n",
      "(0, nan, nan)\n",
      "(0, nan, nan)\n",
      "(0, nan, nan)\n",
      "(0, nan, nan)\n",
      "(0, nan, nan)\n",
      "(0, nan, nan)\n",
      "(0, nan, nan)\n",
      "(0, nan, nan)\n",
      "(0, nan, nan)\n",
      "(0, nan, nan)\n",
      "(0, nan, nan)\n",
      "(0, nan, nan)\n",
      "(0, nan, nan)\n",
      "(0, nan, nan)\n",
      "(0, nan, nan)\n",
      "(0, nan, nan)\n",
      "(0, nan, nan)\n",
      "(0, nan, nan)\n",
      "(0, nan, nan)\n",
      "(0, nan, nan)\n",
      "(0, nan, nan)\n",
      "(0, nan, nan)\n",
      "(0, nan, nan)\n",
      "(0, nan, nan)\n",
      "(0, nan, nan)\n",
      "(0, nan, nan)\n",
      "(0, nan, nan)\n",
      "(0, nan, nan)\n",
      "(0, nan, nan)\n",
      "(0, nan, nan)\n",
      "(0, nan, nan)\n",
      "(0, nan, nan)\n",
      "(0, nan, nan)\n",
      "(0, nan, nan)\n",
      "(0, nan, nan)\n",
      "(0, nan, nan)\n",
      "(0, nan, nan)\n",
      "(0, nan, nan)\n",
      "(0, nan, nan)\n",
      "(0, nan, nan)\n",
      "(0, nan, nan)\n",
      "(0, nan, nan)\n",
      "(0, nan, nan)\n",
      "(0, nan, nan)\n",
      "(0, nan, nan)\n",
      "(0, nan, nan)\n",
      "(0, nan, nan)\n",
      "(0, nan, nan)\n",
      "(0, nan, nan)\n",
      "(0, nan, nan)\n",
      "(0, nan, nan)\n",
      "(0, nan, nan)\n",
      "(0, nan, nan)\n",
      "(0, nan, nan)\n",
      "(0, nan, nan)\n",
      "(0, nan, nan)\n",
      "(0, nan, nan)\n",
      "(0, nan, nan)\n",
      "(0, nan, nan)\n",
      "(0, nan, nan)\n",
      "(0, nan, nan)\n",
      "(0, nan, nan)\n",
      "(0, nan, nan)\n",
      "(0, nan, nan)\n",
      "(0, nan, nan)\n",
      "(0, nan, nan)\n",
      "(0, nan, nan)\n",
      "(0, nan, nan)\n",
      "(0, nan, nan)\n",
      "(0, nan, nan)\n",
      "(0, nan, nan)\n",
      "(0, nan, nan)\n",
      "(0, nan, nan)\n",
      "(0, nan, nan)\n",
      "(0, nan, nan)\n",
      "(0, nan, nan)\n",
      "(0, nan, nan)\n",
      "(0, nan, nan)\n",
      "(0, nan, nan)\n",
      "(0, nan, nan)\n",
      "(0, nan, nan)\n",
      "(0, nan, nan)\n",
      "(0, nan, nan)\n",
      "(0, nan, nan)\n",
      "(0, nan, nan)\n",
      "(0, nan, nan)\n",
      "(0, nan, nan)\n",
      "(0, nan, nan)\n",
      "(0, nan, nan)\n",
      "(0, nan, nan)\n",
      "(0, nan, nan)\n",
      "(0, nan, nan)\n",
      "(0, nan, nan)\n",
      "(0, nan, nan)\n",
      "(0, nan, nan)\n",
      "(0, nan, nan)\n",
      "(0, nan, nan)\n",
      "(0, nan, nan)\n",
      "(0, nan, nan)\n",
      "(0, nan, nan)\n",
      "(0, nan, nan)\n",
      "(0, nan, nan)\n",
      "(0, nan, nan)\n",
      "(0, nan, nan)\n",
      "(0, nan, nan)\n",
      "(0, nan, nan)\n",
      "(0, nan, nan)\n",
      "(0, nan, nan)\n",
      "(0, nan, nan)\n",
      "(0, nan, nan)\n",
      "(0, nan, nan)\n",
      "(0, nan, nan)\n",
      "(0, nan, nan)\n",
      "(0, nan, nan)\n",
      "(0, nan, nan)\n",
      "(0, nan, nan)\n",
      "(0, nan, nan)\n",
      "(0, nan, nan)\n",
      "(0, nan, nan)\n",
      "(0, nan, nan)\n",
      "(0, nan, nan)\n",
      "(0, nan, nan)\n",
      "(0, nan, nan)\n",
      "(0, nan, nan)\n",
      "(0, nan, nan)\n",
      "(0, nan, nan)\n",
      "(0, nan, nan)\n",
      "(0, nan, nan)\n",
      "(0, nan, nan)\n",
      "(0, nan, nan)\n",
      "(0, nan, nan)\n",
      "(0, nan, nan)\n",
      "(0, nan, nan)\n",
      "(0, nan, nan)\n",
      "(0, nan, nan)\n",
      "(0, nan, nan)\n",
      "(0, nan, nan)\n",
      "(0, nan, nan)\n",
      "(0, nan, nan)\n",
      "(0, nan, nan)\n",
      "(0, nan, nan)\n",
      "(0, nan, nan)\n",
      "(0, nan, nan)\n",
      "(0, nan, nan)\n",
      "(0, nan, nan)\n",
      "(0, nan, nan)\n",
      "(0, nan, nan)\n",
      "(0, nan, nan)\n",
      "(0, nan, nan)\n",
      "(0, nan, nan)\n",
      "(0, nan, nan)\n",
      "(0, nan, nan)\n",
      "(0, nan, nan)\n",
      "(0, nan, nan)\n",
      "(0, nan, nan)\n",
      "(0, nan, nan)\n",
      "(0, nan, nan)\n",
      "(0, nan, nan)\n",
      "(0, nan, nan)\n",
      "(0, nan, nan)\n",
      "(0, nan, nan)\n",
      "(0, nan, nan)\n",
      "(0, nan, nan)\n",
      "(0, nan, nan)\n",
      "(0, nan, nan)\n",
      "(0, nan, nan)\n",
      "(0, nan, nan)\n",
      "(0, nan, nan)\n",
      "(0, nan, nan)\n",
      "(0, nan, nan)\n",
      "(0, nan, nan)\n",
      "(0, nan, nan)\n",
      "(0, nan, nan)\n",
      "(0, nan, nan)\n",
      "(0, nan, nan)\n",
      "(0, nan, nan)\n",
      "(0, nan, nan)\n",
      "(0, nan, nan)\n",
      "(0, nan, nan)\n",
      "(0, nan, nan)\n",
      "(0, nan, nan)\n",
      "(0, nan, nan)\n",
      "(0, nan, nan)\n",
      "(0, nan, nan)\n",
      "(0, nan, nan)\n",
      "(0, nan, nan)\n",
      "(0, nan, nan)\n",
      "(0, nan, nan)\n",
      "(0, nan, nan)\n",
      "(0, nan, nan)\n",
      "(0, nan, nan)\n",
      "(0, nan, nan)\n",
      "(0, nan, nan)\n",
      "(0, nan, nan)\n",
      "(0, nan, nan)\n"
     ]
    }
   ]
  },
  {
   "cell_type": "code",
   "source": [
    "# Create a new MIDI file\n",
    "new_midi_file = mido.MidiFile()\n",
    "\n",
    "# Create a new track for the MIDI file\n",
    "new_track = mido.MidiTrack()\n",
    "new_midi_file.tracks.append(new_track)\n",
    "\n",
    "# Iterate over the generated tuples and add note_on messages to the track\n",
    "for note, velocity, time in generated_tuples:\n",
    "    new_track.append(mido.Message('note_on', note=note + 20, velocity=int(velocity), time=int(time)))\n",
    "\n",
    "# Save the new MIDI file\n",
    "new_midi_file.save('generated_midi.mid')"
   ],
   "metadata": {
    "id": "CMcsFyecX6Uj",
    "colab": {
     "base_uri": "https://localhost:8080/",
     "height": 232
    },
    "outputId": "620e7862-73dc-47f6-e65c-b7b322a810fb"
   },
   "id": "CMcsFyecX6Uj",
   "execution_count": null,
   "outputs": [
    {
     "output_type": "error",
     "ename": "ValueError",
     "evalue": "ignored",
     "traceback": [
      "\u001B[0;31m---------------------------------------------------------------------------\u001B[0m",
      "\u001B[0;31mValueError\u001B[0m                                Traceback (most recent call last)",
      "\u001B[0;32m<ipython-input-23-34d72f292e26>\u001B[0m in \u001B[0;36m<module>\u001B[0;34m\u001B[0m\n\u001B[1;32m      8\u001B[0m \u001B[0;31m# Iterate over the generated tuples and add note_on messages to the track\u001B[0m\u001B[0;34m\u001B[0m\u001B[0;34m\u001B[0m\u001B[0m\n\u001B[1;32m      9\u001B[0m \u001B[0;32mfor\u001B[0m \u001B[0mnote\u001B[0m\u001B[0;34m,\u001B[0m \u001B[0mvelocity\u001B[0m\u001B[0;34m,\u001B[0m \u001B[0mtime\u001B[0m \u001B[0;32min\u001B[0m \u001B[0mgenerated_tuples\u001B[0m\u001B[0;34m:\u001B[0m\u001B[0;34m\u001B[0m\u001B[0;34m\u001B[0m\u001B[0m\n\u001B[0;32m---> 10\u001B[0;31m     \u001B[0mnew_track\u001B[0m\u001B[0;34m.\u001B[0m\u001B[0mappend\u001B[0m\u001B[0;34m(\u001B[0m\u001B[0mmido\u001B[0m\u001B[0;34m.\u001B[0m\u001B[0mMessage\u001B[0m\u001B[0;34m(\u001B[0m\u001B[0;34m'note_on'\u001B[0m\u001B[0;34m,\u001B[0m \u001B[0mnote\u001B[0m\u001B[0;34m=\u001B[0m\u001B[0mnote\u001B[0m \u001B[0;34m+\u001B[0m \u001B[0;36m20\u001B[0m\u001B[0;34m,\u001B[0m \u001B[0mvelocity\u001B[0m\u001B[0;34m=\u001B[0m\u001B[0mint\u001B[0m\u001B[0;34m(\u001B[0m\u001B[0mvelocity\u001B[0m\u001B[0;34m)\u001B[0m\u001B[0;34m,\u001B[0m \u001B[0mtime\u001B[0m\u001B[0;34m=\u001B[0m\u001B[0mint\u001B[0m\u001B[0;34m(\u001B[0m\u001B[0mtime\u001B[0m\u001B[0;34m)\u001B[0m\u001B[0;34m)\u001B[0m\u001B[0;34m)\u001B[0m\u001B[0;34m\u001B[0m\u001B[0;34m\u001B[0m\u001B[0m\n\u001B[0m\u001B[1;32m     11\u001B[0m \u001B[0;34m\u001B[0m\u001B[0m\n\u001B[1;32m     12\u001B[0m \u001B[0;31m# Save the new MIDI file\u001B[0m\u001B[0;34m\u001B[0m\u001B[0;34m\u001B[0m\u001B[0m\n",
      "\u001B[0;31mValueError\u001B[0m: cannot convert float NaN to integer"
     ]
    }
   ]
  }
 ],
 "metadata": {
  "kernelspec": {
   "display_name": "Python 3 (ipykernel)",
   "language": "python",
   "name": "python3"
  },
  "language_info": {
   "codemirror_mode": {
    "name": "ipython",
    "version": 3
   },
   "file_extension": ".py",
   "mimetype": "text/x-python",
   "name": "python",
   "nbconvert_exporter": "python",
   "pygments_lexer": "ipython3",
   "version": "3.10.8"
  },
  "colab": {
   "provenance": []
  },
  "accelerator": "GPU",
  "gpuClass": "standard"
 },
 "nbformat": 4,
 "nbformat_minor": 5
}
