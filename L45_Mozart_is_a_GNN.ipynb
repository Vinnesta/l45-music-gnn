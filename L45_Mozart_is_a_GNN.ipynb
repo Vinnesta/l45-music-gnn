{
  "cells": [
    {
      "cell_type": "markdown",
      "metadata": {
        "id": "view-in-github",
        "colab_type": "text"
      },
      "source": [
        "<a href=\"https://colab.research.google.com/github/Vinnesta/l45-music-gnn/blob/main/L45_Mozart_is_a_GNN.ipynb\" target=\"_parent\"><img src=\"https://colab.research.google.com/assets/colab-badge.svg\" alt=\"Open In Colab\"/></a>"
      ]
    },
    {
      "cell_type": "markdown",
      "metadata": {
        "id": "jYu1MG9R3AVO"
      },
      "source": [
        "# <font color=green> Mozart is a GNN"
      ]
    },
    {
      "cell_type": "markdown",
      "metadata": {
        "id": "b-J-4R8dG1xP"
      },
      "source": [
        "Code Note:  \n",
        "https://hackmd.io/@0Y_ZosHzSjKcz7sGAMMIXA/SyGTs-e6o/edit"
      ]
    },
    {
      "cell_type": "markdown",
      "metadata": {
        "id": "c-QFPZe63SBr"
      },
      "source": [
        "## Environment set up"
      ]
    },
    {
      "cell_type": "code",
      "execution_count": 1,
      "metadata": {
        "colab": {
          "base_uri": "https://localhost:8080/"
        },
        "id": "IxluA7j93EEJ",
        "outputId": "a25e2174-0879-4fcf-fbd5-5518abdfd54c"
      },
      "outputs": [
        {
          "output_type": "stream",
          "name": "stdout",
          "text": [
            "Reading package lists... Done\n",
            "Building dependency tree       \n",
            "Reading state information... Done\n",
            "fluidsynth is already the newest version (2.1.1-2).\n",
            "0 upgraded, 0 newly installed, 0 to remove and 22 not upgraded.\n",
            "Looking in indexes: https://pypi.org/simple, https://us-python.pkg.dev/colab-wheels/public/simple/\n",
            "Requirement already satisfied: pyfluidsynth in /usr/local/lib/python3.9/dist-packages (1.3.2)\n",
            "Requirement already satisfied: numpy in /usr/local/lib/python3.9/dist-packages (from pyfluidsynth) (1.22.4)\n",
            "Looking in indexes: https://pypi.org/simple, https://us-python.pkg.dev/colab-wheels/public/simple/\n",
            "Requirement already satisfied: networkx in /usr/local/lib/python3.9/dist-packages (3.0)\n",
            "Requirement already satisfied: mido in /usr/local/lib/python3.9/dist-packages (1.2.10)\n",
            "Requirement already satisfied: pretty_midi in /usr/local/lib/python3.9/dist-packages (0.2.10)\n",
            "Requirement already satisfied: numpy>=1.7.0 in /usr/local/lib/python3.9/dist-packages (from pretty_midi) (1.22.4)\n",
            "Requirement already satisfied: six in /usr/local/lib/python3.9/dist-packages (from pretty_midi) (1.15.0)\n",
            "Looking in indexes: https://pypi.org/simple, https://us-python.pkg.dev/colab-wheels/public/simple/\n",
            "Looking in links: https://data.pyg.org/whl/torch-1.13.1+cu116.html\n",
            "Requirement already satisfied: torch-geometric in /usr/local/lib/python3.9/dist-packages (2.2.0)\n",
            "Requirement already satisfied: torch-scatter in /usr/local/lib/python3.9/dist-packages (2.1.0+pt113cu116)\n",
            "Requirement already satisfied: torch-sparse in /usr/local/lib/python3.9/dist-packages (0.6.16+pt113cu116)\n",
            "Requirement already satisfied: scikit-learn in /usr/local/lib/python3.9/dist-packages (from torch-geometric) (1.2.2)\n",
            "Requirement already satisfied: scipy in /usr/local/lib/python3.9/dist-packages (from torch-geometric) (1.10.1)\n",
            "Requirement already satisfied: psutil>=5.8.0 in /usr/local/lib/python3.9/dist-packages (from torch-geometric) (5.9.4)\n",
            "Requirement already satisfied: numpy in /usr/local/lib/python3.9/dist-packages (from torch-geometric) (1.22.4)\n",
            "Requirement already satisfied: jinja2 in /usr/local/lib/python3.9/dist-packages (from torch-geometric) (3.1.2)\n",
            "Requirement already satisfied: pyparsing in /usr/local/lib/python3.9/dist-packages (from torch-geometric) (3.0.9)\n",
            "Requirement already satisfied: tqdm in /usr/local/lib/python3.9/dist-packages (from torch-geometric) (4.65.0)\n",
            "Requirement already satisfied: requests in /usr/local/lib/python3.9/dist-packages (from torch-geometric) (2.25.1)\n",
            "Requirement already satisfied: MarkupSafe>=2.0 in /usr/local/lib/python3.9/dist-packages (from jinja2->torch-geometric) (2.1.2)\n",
            "Requirement already satisfied: urllib3<1.27,>=1.21.1 in /usr/local/lib/python3.9/dist-packages (from requests->torch-geometric) (1.26.14)\n",
            "Requirement already satisfied: idna<3,>=2.5 in /usr/local/lib/python3.9/dist-packages (from requests->torch-geometric) (2.10)\n",
            "Requirement already satisfied: certifi>=2017.4.17 in /usr/local/lib/python3.9/dist-packages (from requests->torch-geometric) (2022.12.7)\n",
            "Requirement already satisfied: chardet<5,>=3.0.2 in /usr/local/lib/python3.9/dist-packages (from requests->torch-geometric) (4.0.0)\n",
            "Requirement already satisfied: joblib>=1.1.1 in /usr/local/lib/python3.9/dist-packages (from scikit-learn->torch-geometric) (1.1.1)\n",
            "Requirement already satisfied: threadpoolctl>=2.0.0 in /usr/local/lib/python3.9/dist-packages (from scikit-learn->torch-geometric) (3.1.0)\n"
          ]
        }
      ],
      "source": [
        "# For converting midi into wav files\n",
        "# Make sure to install and import fluidsynth before everything else or it will error\n",
        "!apt-get install fluidsynth\n",
        "!pip install pyfluidsynth\n",
        "import fluidsynth\n",
        "\n",
        "# install packages\n",
        "!pip install networkx mido pretty_midi\n",
        "\n",
        "import torch\n",
        "!pip install torch-geometric torch-scatter torch-sparse -f https://data.pyg.org/whl/torch-{torch.__version__}.html\n",
        "\n",
        "import torch.nn as nn\n",
        "import torch.nn.functional as F\n",
        "import torch.optim as optim\n",
        "import torch_geometric\n",
        "from torch_scatter import scatter_mean, scatter_max, scatter_sum\n",
        "from torch_geometric.utils.convert import from_scipy_sparse_matrix\n",
        "\n",
        "import mido\n",
        "import pretty_midi\n",
        "from scipy.io.wavfile import write\n",
        "\n",
        "import numpy as np\n",
        "import random\n",
        "\n",
        "#for nice visualisations\n",
        "import networkx as nx\n",
        "import matplotlib.pyplot as plt"
      ]
    },
    {
      "cell_type": "markdown",
      "metadata": {
        "id": "2X3sFxBE34OM"
      },
      "source": [
        "## Define Constants"
      ]
    },
    {
      "cell_type": "code",
      "execution_count": 2,
      "metadata": {
        "id": "eckblXVrJUFA"
      },
      "outputs": [],
      "source": [
        "NUM_NOTES = 128 # Number of notes specified by MIDI format\n",
        "\n",
        "# Set the desired ticks per beat (tpb), where each beat is a quarter note\n",
        "# `desired_tpb` determines the shortest note that will be captured (e.g. demisemiquavers/32nd-notes == 8 notes per beat)\n",
        "# Need to double the desired \"notes per beat\" to account for the on/off of each note\n",
        "desired_tpb = 8"
      ]
    },
    {
      "cell_type": "markdown",
      "metadata": {
        "id": "vsjLPcYWyWWx"
      },
      "source": [
        "## Functions for Processing MIDI"
      ]
    },
    {
      "cell_type": "code",
      "execution_count": 3,
      "metadata": {
        "colab": {
          "base_uri": "https://localhost:8080/"
        },
        "id": "p1LiwJpUUscm",
        "outputId": "6f344afd-779c-4d81-8ba4-cc04dc661c4c"
      },
      "outputs": [
        {
          "output_type": "stream",
          "name": "stdout",
          "text": [
            "930262 969.0208333333334 960\n"
          ]
        }
      ],
      "source": [
        "def read_midi(filename):\n",
        "    file = mido.MidiFile(filename)\n",
        "    msg_cnt = 0\n",
        "    for i, track in enumerate(file.tracks):\n",
        "        print('Track {}: {}'.format(i, track.name))\n",
        "        for msg in track:\n",
        "            print(msg)\n",
        "# read_midi('example.midi')\n",
        "\n",
        "def get_midi_length_in_seconds(filename):\n",
        "    file = pretty_midi.PrettyMIDI(filename)\n",
        "    length_in_seconds = file.get_end_time()\n",
        "    return length_in_seconds\n",
        "\n",
        "def get_midi_sample_rate(filename):\n",
        "    s = get_midi_length_in_seconds(filename)\n",
        "    t = get_midi_timesteps(filename)\n",
        "    return int(t/s)\n",
        "\n",
        "def get_midi_timesteps(filename):\n",
        "    midi = mido.MidiFile(filename)\n",
        "    timesteps = 0\n",
        "    for track in midi.tracks:\n",
        "        for msg in track:\n",
        "            timesteps += msg.time\n",
        "    return timesteps\n",
        "\n",
        "TIMESTEPS = get_midi_timesteps(\"example.midi\")\n",
        "SECS = get_midi_length_in_seconds(\"example.midi\")\n",
        "SAMPLE_RATE = get_midi_sample_rate(\"example.midi\")\n",
        "print(TIMESTEPS, SECS, SAMPLE_RATE)"
      ]
    },
    {
      "cell_type": "code",
      "execution_count": 4,
      "metadata": {
        "colab": {
          "base_uri": "https://localhost:8080/"
        },
        "id": "xnagJ8kCUtr3",
        "outputId": "12a67fc9-f575-40f3-bc62-6183294fc7c1"
      },
      "outputs": [
        {
          "output_type": "stream",
          "name": "stdout",
          "text": [
            "['Acoustic Grand Piano']\n"
          ]
        }
      ],
      "source": [
        "# print the name of the instruments being played\n",
        "def get_midi_instrument_types(filename):\n",
        "    midi = pretty_midi.PrettyMIDI(filename)\n",
        "    instrument_types = []\n",
        "    for instrument in midi.instruments:\n",
        "        # name of the instrument\n",
        "        instrument_types.append(pretty_midi.program_to_instrument_name(instrument.program))\n",
        "    return instrument_types\n",
        "\n",
        "instrument_types = get_midi_instrument_types(\"example.midi\")\n",
        "print(instrument_types)"
      ]
    },
    {
      "cell_type": "code",
      "execution_count": 5,
      "metadata": {
        "colab": {
          "base_uri": "https://localhost:8080/"
        },
        "id": "j_KXDSKQUxgV",
        "outputId": "f671c10a-2bb3-4786-fd43-c4935f78cb31"
      },
      "outputs": [
        {
          "output_type": "execute_result",
          "data": {
            "text/plain": [
              "['set_tempo',\n",
              " 'time_signature',\n",
              " 'end_of_track',\n",
              " 'program_change',\n",
              " 'control_change',\n",
              " 'note_on']"
            ]
          },
          "metadata": {},
          "execution_count": 5
        }
      ],
      "source": [
        "# what types of messages we get?\n",
        "def print_midi_message_types(filename):\n",
        "    midi = mido.MidiFile(filename)\n",
        "    types = []\n",
        "    for track in midi.tracks:\n",
        "        for msg in track:\n",
        "            if msg.type not in types:\n",
        "                types.append(msg.type)\n",
        "    return types\n",
        "\n",
        "print_midi_message_types(\"example.midi\")"
      ]
    },
    {
      "cell_type": "code",
      "execution_count": 6,
      "metadata": {
        "colab": {
          "base_uri": "https://localhost:8080/"
        },
        "id": "l2UNTiwcUzMg",
        "outputId": "259f0fdb-362e-4bd6-eca3-554fcda5d975"
      },
      "outputs": [
        {
          "output_type": "stream",
          "name": "stdout",
          "text": [
            "torch.Size([930262, 128])\n"
          ]
        }
      ],
      "source": [
        "def midi_to_tensor(filename, binary_velocity=False):\n",
        "    mid = mido.MidiFile(filename)\n",
        "    # Extract information about the notes being played\n",
        "    max_timesteps = get_midi_timesteps(filename)\n",
        "    tensor = np.zeros((max_timesteps, 128))\n",
        "    previous_note = [0] * 128\n",
        "    timesteps = 0\n",
        "    for track in mid.tracks:\n",
        "        for msg in track:\n",
        "            timesteps += msg.time\n",
        "            if msg.type == 'note_on':\n",
        "                tmp = previous_note[msg.note]\n",
        "                tensor[tmp:timesteps, msg.note] = tensor[tmp, msg.note]\n",
        "                if binary_velocity:\n",
        "                  tensor[timesteps, msg.note] = 1 if msg.velocity > 0 else 0\n",
        "                else:\n",
        "                  tensor[timesteps, msg.note] = msg.velocity\n",
        "                previous_note[msg.note] = timesteps\n",
        "            if msg.type == 'note_off':\n",
        "                tmp = previous_note[msg.note]\n",
        "                tensor[tmp:timesteps, msg.note] = tensor[tmp, msg.note]\n",
        "                tensor[timesteps, msg.note] = 0\n",
        "                previous_note[msg.note] = timesteps\n",
        "    return torch.from_numpy(tensor)\n",
        "midi_tensor = midi_to_tensor(\"example.midi\")\n",
        "print(midi_tensor.shape)"
      ]
    },
    {
      "cell_type": "code",
      "execution_count": 7,
      "metadata": {
        "id": "bJlbI_W4UzwJ"
      },
      "outputs": [],
      "source": [
        "def tensor_to_midi(tensor, filename, orig_tpb=384, binary_velocity=False):\n",
        "    # Create a MIDI file\n",
        "    mid = mido.MidiFile()\n",
        "    mid.ticks_per_beat = orig_tpb\n",
        "    track = mido.MidiTrack()\n",
        "    mid.tracks.append(track)\n",
        "\n",
        "    # Convert the tensor into messages\n",
        "    current_timestep = 0\n",
        "    for timestep in range(1,tensor.shape[0]):\n",
        "        for note in range(0,128):\n",
        "            if tensor[timestep, note] - tensor[timestep - 1, note] != 0:\n",
        "                velocity = int(tensor[timestep, note])\n",
        "                if binary_velocity:\n",
        "                  velocity = velocity * 100\n",
        "                msg = mido.Message('note_on', note=note, velocity=velocity, time=timestep-current_timestep)\n",
        "                track.append(msg)\n",
        "                current_timestep = timestep\n",
        "\n",
        "    # Save the MIDI file\n",
        "    mid.save(filename)\n",
        "    return mid\n",
        "\n",
        "#tensor_to_midi(midi_tensor[:93026],'test.midi')"
      ]
    },
    {
      "cell_type": "code",
      "execution_count": 8,
      "metadata": {
        "id": "XXG9cTw5pEns"
      },
      "outputs": [],
      "source": [
        "def midi_to_wav(midi_filename, sf2_dir, wav_filename, sample_rate=44100):\n",
        "    midi_data = pretty_midi.PrettyMIDI(midi_filename)\n",
        "    audio_data = midi_data.fluidsynth(fs=44100, sf2_path = sf2_dir)\n",
        "    #soundFontPickedFrom Fluid Release 3\n",
        "    with open(wav_filename, 'wb') as f:\n",
        "        write(f, sample_rate, audio_data)\n",
        "\n",
        "midi_filename = \"test.midi\"\n",
        "sf2_path = 'FluidR3_GM.sf2'\n",
        "wav_filename = \"test.wav\"\n",
        "#midi_to_wav(midi_filename, sf2_path, wav_filename)"
      ]
    },
    {
      "cell_type": "code",
      "execution_count": 9,
      "metadata": {
        "colab": {
          "base_uri": "https://localhost:8080/",
          "height": 265
        },
        "id": "HA_ydDe2JgPa",
        "outputId": "edd7ab91-01d7-4fc6-b7bd-d9a2f6bdd6c9"
      },
      "outputs": [
        {
          "output_type": "display_data",
          "data": {
            "text/plain": [
              "<Figure size 432x288 with 1 Axes>"
            ],
            "image/png": "[encoded data removed]"
          },
          "metadata": {
            "needs_background": "light"
          }
        }
      ],
      "source": [
        "# Plot midi_tensor for notes in the central octave (C4 to B4) over time\n",
        "plt.plot(midi_tensor.cpu().detach().numpy()[:10000, 60:72])\n",
        "plt.show()"
      ]
    },
    {
      "cell_type": "markdown",
      "metadata": {
        "id": "HMl2Kivz9t9p"
      },
      "source": [
        "## Data Processing"
      ]
    },
    {
      "cell_type": "code",
      "execution_count": 10,
      "metadata": {
        "id": "VPyTlDSp9tKa",
        "cellView": "form"
      },
      "outputs": [],
      "source": [
        "#@title Functions to create Tonnetz adjacency matrix and edge attributes\n",
        "\n",
        "# In Tonnetz, each node has six neighbours which have pitches of the following distances (in semi-tones)\n",
        "# E.g. C4 has neighbours F3, G#3, A3, D#4, E4, G4\n",
        "NEIGHBOUR_DISTANCES = [-7, -4, -3, 3, 4, 7]\n",
        "\n",
        "def create_tonnetz_adjacency_matrix(num_notes):\n",
        "  A = []\n",
        "\n",
        "  for i in range(num_notes):\n",
        "    row = torch.zeros(num_notes, dtype=torch.int)\n",
        "    for d in NEIGHBOUR_DISTANCES:\n",
        "      j = i+d\n",
        "      if j >= 0 and j < num_notes:\n",
        "        row[j] = 1\n",
        "    A.append(row)\n",
        "  return torch.stack(A)\n",
        "\n",
        "def get_edge_attributes(A):\n",
        "  # Returns edge attributes for the adjacency matrix `A`, \n",
        "  # where the edge attributes are a one-hot encoding for each type of edge\n",
        "  edge_index = A.to_sparse().indices()\n",
        "  edge_attr_raw = []\n",
        "  for i in range(edge_index.shape[1]):\n",
        "    distance = (edge_index[1][i] - edge_index[0][i]).item()\n",
        "    edge_attr_raw.append(NEIGHBOUR_DISTANCES.index(distance))\n",
        "  return F.one_hot(torch.tensor(edge_attr_raw))\n",
        "\n",
        "A = create_tonnetz_adjacency_matrix(NUM_NOTES)\n",
        "\n",
        "# Check that A is symmetric since the Tonnetz graph is undirected\n",
        "assert(torch.equal(A, A.transpose(0, 1)))"
      ]
    },
    {
      "cell_type": "code",
      "execution_count": 19,
      "metadata": {
        "id": "4prgWJaKycHx"
      },
      "outputs": [],
      "source": [
        "#@title Functions to (un)compress and (un)reduce tensors\n",
        "\n",
        "import math, logging\n",
        "\n",
        "def calculate_compress_factor(file_name, desired_tpb):\n",
        "  mid = mido.MidiFile(file_name)\n",
        "  compress_factor = mid.ticks_per_beat / desired_tpb\n",
        "  if compress_factor % 1.0 != 0.0:\n",
        "    logging.warning(f\"compress_factor of {compress_factor} is not an integer, rounding up...\")\n",
        "  compress_factor = math.ceil(compress_factor)\n",
        "  return compress_factor\n",
        "\n",
        "def compress_tensor(tensor, file_name, method, desired_tpb=16):\n",
        "  '''\n",
        "  Reduces the fidelity of the musical tensor, i.e. merge multiple timesteps into one step\n",
        "\n",
        "  Args:\n",
        "    `tensor`: PyTorch tensor of shape (timesteps, num_notes)\n",
        "    `file_name`: path to the MIDI file\n",
        "    `method`: str in [\"max\", \"avg\", \"majority\"]\n",
        "    `desired_tpb`: desired ticks per beat for the tensor to be compressed to\n",
        "  '''\n",
        "  tensor_np = tensor.cpu().detach().cpu()\n",
        "  assert(len(tensor_np.shape) == 2)\n",
        "\n",
        "  compress_factor = calculate_compress_factor(file_name, desired_tpb)\n",
        "  compressed_vectors = []\n",
        "  length = tensor_np.shape[0]\n",
        "  for start in range(0, length, compress_factor):\n",
        "    end = min(start + compress_factor, length)\n",
        "    tensor_slice = tensor_np[start:end, :]\n",
        "    if (method == \"max\"):\n",
        "      raise NotImplementedError()\n",
        "    elif (method == \"avg\"):\n",
        "      raise NotImplementedError()\n",
        "    elif (method == \"majority\"):\n",
        "      majority = (end-start) / 2\n",
        "      majority_nonzeroes = np.count_nonzero(tensor_slice, axis=0) >= majority\n",
        "      compressed_vectors.append((majority_nonzeroes).astype(int))\n",
        "    else:\n",
        "      raise KeyError(f\"Unknown method {method}\")\n",
        "  return torch.tensor(np.array(compressed_vectors))\n",
        "\n",
        "def reduce_tensor(tensor, start_note, end_note):\n",
        "  '''\n",
        "  Args:\n",
        "    `tensor`: PyTorch tensor of shape (timesteps, num_notes)\n",
        "    `start_note`: note to start the tensor from (integer in 0-127)\n",
        "    `end_note`: note to end the tensor at (integer in 0-127)\n",
        "  '''\n",
        "  assert(end_note >= start_note)\n",
        "  return tensor[:, start_note:end_note+1]\n",
        "\n",
        "def uncompress_tensor(tensor, orig_tpb, compressed_tpb):\n",
        "  '''\n",
        "  Args:\n",
        "    `tensor`: PyTorch tensor of shape (timesteps, num_notes)\n",
        "    `orig_tpb`: ticks per beat of the original/generated MIDI file\n",
        "    `compressed_tpb`: ticks per beat used by the compressed `tensor`\n",
        "  '''\n",
        "  compress_factor = orig_tpb / compressed_tpb\n",
        "  if compress_factor % 1.0 != 0.0:\n",
        "    logging.warning(f\"compress_factor of {compress_factor} is not an integer, rounding up...\")\n",
        "  compress_factor = math.ceil(compress_factor)\n",
        "  # \"Stretch\" out the tensor using Kronecker product\n",
        "  return torch.kron(tensor, torch.ones((compress_factor, 1)))\n",
        "\n",
        "def unreduce_tensor(tensor, start_note, end_note):\n",
        "  '''\n",
        "  Expands out a reduced tensor to include all 128 notes in the MIDI range\n",
        "\n",
        "  Args:\n",
        "    `tensor`: PyTorch tensor of shape (timesteps, num_notes)\n",
        "    `start_note`: MIDI note that `tensor` starts from (integer in 0-127)\n",
        "    `end_note`: MIDI note that `tensor` ends at (integer in 0-127)\n",
        "  '''\n",
        "  assert(end_note >= start_note)\n",
        "  timesteps = tensor.shape[0]\n",
        "  low_notes = torch.zeros((timesteps, start_note))\n",
        "  high_notes = torch.zeros((timesteps, 127-end_note))\n",
        "  return torch.cat((low_notes, tensor, high_notes), dim=1)"
      ]
    },
    {
      "cell_type": "code",
      "execution_count": 12,
      "metadata": {
        "id": "D9yicK67C3_U"
      },
      "outputs": [],
      "source": [
        "# function which takes music sequence and window size(history length) and return training data.\n",
        "# music = Time_step x Num_nodes\n",
        "def slice_temporal_data(music_seq,window_size=5):\n",
        "  return [[torch.transpose(music_seq[i:i+window_size],0,1),music_seq[i+window_size].reshape(-1,1)] for i in range(len(music_seq)-window_size)]"
      ]
    },
    {
      "cell_type": "markdown",
      "metadata": {
        "id": "4PJZ9LrC2li1"
      },
      "source": [
        "### Generate test data"
      ]
    },
    {
      "cell_type": "code",
      "execution_count": 13,
      "metadata": {
        "colab": {
          "base_uri": "https://localhost:8080/"
        },
        "id": "vjCUqqEWEXfm",
        "outputId": "c6438469-171b-4b89-b8d7-9cf627e86afc"
      },
      "outputs": [
        {
          "output_type": "stream",
          "name": "stdout",
          "text": [
            "Input:  tensor([[0., 0., 1., 1., 0.],\n",
            "        [1., 0., 0., 0., 0.],\n",
            "        [0., 1., 1., 1., 0.],\n",
            "        [0., 1., 1., 0., 1.],\n",
            "        [1., 1., 1., 0., 1.],\n",
            "        [0., 0., 1., 0., 1.],\n",
            "        [1., 1., 0., 1., 1.],\n",
            "        [1., 1., 0., 1., 0.],\n",
            "        [1., 0., 1., 0., 0.],\n",
            "        [1., 0., 1., 1., 1.],\n",
            "        [1., 0., 0., 0., 1.],\n",
            "        [1., 0., 0., 0., 0.]])\n",
            "Output:  tensor([[0.],\n",
            "        [1.],\n",
            "        [0.],\n",
            "        [1.],\n",
            "        [1.],\n",
            "        [1.],\n",
            "        [1.],\n",
            "        [0.],\n",
            "        [1.],\n",
            "        [0.],\n",
            "        [1.],\n",
            "        [0.]])\n"
          ]
        }
      ],
      "source": [
        "music_len = 100\n",
        "time_steps = 5\n",
        "number_nodes = 12\n",
        "\n",
        "# generate toy music sequence and process it as traning data\n",
        "toy_music = (torch.rand(music_len,number_nodes)<0.5).to(torch.float)\n",
        "data = slice_temporal_data(toy_music,window_size=time_steps)\n",
        "print(\"Input: \",data[0][0])\n",
        "print(\"Output: \",data[0][1])"
      ]
    },
    {
      "cell_type": "code",
      "execution_count": 14,
      "metadata": {
        "id": "yMpDeq1G19lh",
        "colab": {
          "base_uri": "https://localhost:8080/"
        },
        "outputId": "1d945c86-0e98-476c-b799-b27b183e664a"
      },
      "outputs": [
        {
          "output_type": "stream",
          "name": "stdout",
          "text": [
            "Adjancy Matrix:  tensor([[0., 0., 1., 1., 0., 1., 1., 0., 0., 0., 0., 1.],\n",
            "        [1., 1., 0., 0., 1., 1., 1., 0., 0., 1., 1., 0.],\n",
            "        [1., 1., 1., 1., 1., 0., 1., 1., 0., 0., 1., 0.],\n",
            "        [0., 0., 0., 0., 0., 0., 0., 0., 1., 1., 0., 1.],\n",
            "        [1., 0., 0., 0., 0., 0., 0., 0., 1., 1., 1., 0.],\n",
            "        [1., 1., 0., 1., 0., 1., 1., 0., 0., 1., 1., 1.],\n",
            "        [1., 0., 1., 1., 0., 1., 1., 0., 1., 1., 1., 0.],\n",
            "        [0., 0., 0., 1., 1., 1., 1., 1., 1., 0., 0., 1.],\n",
            "        [0., 0., 0., 1., 0., 0., 0., 1., 0., 0., 1., 1.],\n",
            "        [1., 0., 0., 0., 1., 1., 0., 0., 0., 1., 1., 1.],\n",
            "        [0., 1., 0., 0., 1., 1., 0., 0., 1., 0., 1., 0.],\n",
            "        [1., 0., 1., 1., 0., 1., 1., 0., 0., 1., 0., 1.]])\n",
            "Edge_index:  tensor(indices=tensor([[ 0,  0,  0,  0,  0,  1,  1,  1,  1,  1,  1,  1,  2,  2,\n",
            "                         2,  2,  2,  2,  2,  2,  3,  3,  3,  4,  4,  4,  4,  5,\n",
            "                         5,  5,  5,  5,  5,  5,  5,  6,  6,  6,  6,  6,  6,  6,\n",
            "                         6,  7,  7,  7,  7,  7,  7,  7,  8,  8,  8,  8,  9,  9,\n",
            "                         9,  9,  9,  9, 10, 10, 10, 10, 10, 11, 11, 11, 11, 11,\n",
            "                        11, 11],\n",
            "                       [ 2,  3,  5,  6, 11,  0,  1,  4,  5,  6,  9, 10,  0,  1,\n",
            "                         2,  3,  4,  6,  7, 10,  8,  9, 11,  0,  8,  9, 10,  0,\n",
            "                         1,  3,  5,  6,  9, 10, 11,  0,  2,  3,  5,  6,  8,  9,\n",
            "                        10,  3,  4,  5,  6,  7,  8, 11,  3,  7, 10, 11,  0,  4,\n",
            "                         5,  9, 10, 11,  1,  4,  5,  8, 10,  0,  2,  3,  5,  6,\n",
            "                         9, 11]]),\n",
            "       values=tensor([1., 1., 1., 1., 1., 1., 1., 1., 1., 1., 1., 1., 1., 1.,\n",
            "                      1., 1., 1., 1., 1., 1., 1., 1., 1., 1., 1., 1., 1., 1.,\n",
            "                      1., 1., 1., 1., 1., 1., 1., 1., 1., 1., 1., 1., 1., 1.,\n",
            "                      1., 1., 1., 1., 1., 1., 1., 1., 1., 1., 1., 1., 1., 1.,\n",
            "                      1., 1., 1., 1., 1., 1., 1., 1., 1., 1., 1., 1., 1., 1.,\n",
            "                      1., 1.]),\n",
            "       size=(12, 12), nnz=72, layout=torch.sparse_coo)\n",
            "Degree Matrix:  tensor([[5., 0., 0., 0., 0., 0., 0., 0., 0., 0., 0., 0.],\n",
            "        [0., 7., 0., 0., 0., 0., 0., 0., 0., 0., 0., 0.],\n",
            "        [0., 0., 8., 0., 0., 0., 0., 0., 0., 0., 0., 0.],\n",
            "        [0., 0., 0., 3., 0., 0., 0., 0., 0., 0., 0., 0.],\n",
            "        [0., 0., 0., 0., 4., 0., 0., 0., 0., 0., 0., 0.],\n",
            "        [0., 0., 0., 0., 0., 8., 0., 0., 0., 0., 0., 0.],\n",
            "        [0., 0., 0., 0., 0., 0., 8., 0., 0., 0., 0., 0.],\n",
            "        [0., 0., 0., 0., 0., 0., 0., 7., 0., 0., 0., 0.],\n",
            "        [0., 0., 0., 0., 0., 0., 0., 0., 4., 0., 0., 0.],\n",
            "        [0., 0., 0., 0., 0., 0., 0., 0., 0., 6., 0., 0.],\n",
            "        [0., 0., 0., 0., 0., 0., 0., 0., 0., 0., 5., 0.],\n",
            "        [0., 0., 0., 0., 0., 0., 0., 0., 0., 0., 0., 7.]])\n"
          ]
        }
      ],
      "source": [
        "# Toy adjacency matrix for testing\n",
        "toy_adj_mat = (torch.rand(number_nodes,number_nodes)<0.5).to(torch.float)\n",
        "print(\"Adjancy Matrix: \",toy_adj_mat)\n",
        "print(\"Edge_index: \",toy_adj_mat.to_sparse())\n",
        "\n",
        "toy_deg = torch.diag(torch.sum(toy_adj_mat, 1))\n",
        "print(\"Degree Matrix: \",toy_deg)"
      ]
    },
    {
      "cell_type": "markdown",
      "metadata": {
        "id": "kVM3Qm9LK7FC"
      },
      "source": [
        "### Prepare dataset\n",
        "May be need to do another batching methods. In current way, the node infmormation is separated, so that structural information is not well captured.\n",
        "\n",
        "It should be;\n",
        "- train_pred = model(X)[train_mask]\n",
        "- train_label = label[train_mask]\n",
        "- test_pred = model(X)[test_mask]\n",
        "- test_label = label[test_mask]"
      ]
    },
    {
      "cell_type": "code",
      "execution_count": 15,
      "metadata": {
        "colab": {
          "base_uri": "https://localhost:8080/"
        },
        "id": "3dQUQlnwY0VJ",
        "outputId": "15eb3841-d1bb-42ee-b6d0-3375b5dbcb02"
      },
      "outputs": [
        {
          "output_type": "stream",
          "name": "stdout",
          "text": [
            "--2023-03-14 16:04:40--  https://storage.googleapis.com/magentadata/datasets/maestro/v3.0.0/maestro-v3.0.0-midi.zip\n",
            "Resolving storage.googleapis.com (storage.googleapis.com)... 172.253.63.128, 142.251.111.128, 142.251.16.128, ...\n",
            "Connecting to storage.googleapis.com (storage.googleapis.com)|172.253.63.128|:443... connected.\n",
            "HTTP request sent, awaiting response... 200 OK\n",
            "Length: 58416533 (56M) [application/octet-stream]\n",
            "Saving to: ‘maestro-v3.0.0-midi.zip.1’\n",
            "\n",
            "maestro-v3.0.0-midi 100%[===================>]  55.71M  48.8MB/s    in 1.1s    \n",
            "\n",
            "2023-03-14 16:04:41 (48.8 MB/s) - ‘maestro-v3.0.0-midi.zip.1’ saved [58416533/58416533]\n",
            "\n"
          ]
        }
      ],
      "source": [
        "# Download and extract piano MIDI files from Maestro\n",
        "!wget https://storage.googleapis.com/magentadata/datasets/maestro/v3.0.0/maestro-v3.0.0-midi.zip\n",
        "\n",
        "import os\n",
        "import zipfile\n",
        "directory_to_extract_to = \"maestro\"\n",
        "with zipfile.ZipFile(\"maestro-v3.0.0-midi.zip\", 'r') as zip_ref:\n",
        "    zip_ref.extractall(directory_to_extract_to)\n",
        "\n",
        "dir_to_scan = directory_to_extract_to + \"/maestro-v3.0.0/2013\"\n",
        "directory_files = os.listdir(dir_to_scan)\n",
        "data_files = []\n",
        "for file in directory_files:\n",
        "  data_files.append(os.path.join(dir_to_scan, file))"
      ]
    },
    {
      "cell_type": "code",
      "execution_count": 20,
      "metadata": {
        "colab": {
          "base_uri": "https://localhost:8080/"
        },
        "id": "uvrbeMScZHCY",
        "outputId": "a899a0b0-c8e8-4285-9d28-bcdbe49633df"
      },
      "outputs": [
        {
          "output_type": "stream",
          "name": "stdout",
          "text": [
            "64930 torch.Size([64, 32]) torch.Size([64, 1])\n"
          ]
        }
      ],
      "source": [
        "num_files = 10\n",
        "window_size = desired_tpb * 4\n",
        "start_note = 33\n",
        "end_note = 96\n",
        "\n",
        "train_data = []\n",
        "for i, data_file in enumerate(data_files):\n",
        "  midi_tensor = midi_to_tensor(data_file, binary_velocity=True)\n",
        "  compressed_tensor = compress_tensor(midi_tensor, data_file, \"majority\", desired_tpb)\n",
        "  reduced_tensor = reduce_tensor(compressed_tensor, start_note, end_note)\n",
        "  train_data += slice_temporal_data(reduced_tensor.to(torch.float), window_size)\n",
        "  if i == num_files:\n",
        "    break\n",
        "print(len(train_data), train_data[0][0].shape, train_data[0][1].shape)"
      ]
    },
    {
      "cell_type": "code",
      "execution_count": 21,
      "metadata": {
        "id": "4xwlarNbfis4"
      },
      "outputs": [],
      "source": [
        "new_num_notes = train_data[0][0].shape[0]\n",
        "A = create_tonnetz_adjacency_matrix(new_num_notes)\n",
        "edge_attr = get_edge_attributes(A)"
      ]
    },
    {
      "cell_type": "code",
      "execution_count": 22,
      "metadata": {
        "colab": {
          "base_uri": "https://localhost:8080/"
        },
        "id": "MgNs8-pNZWGP",
        "outputId": "153c264c-9f79-413e-c61b-c72c89766d98"
      },
      "outputs": [
        {
          "output_type": "stream",
          "name": "stdout",
          "text": [
            "torch.Size([64930, 64, 32])\n",
            "torch.Size([51944, 64, 32])\n",
            "torch.Size([51944, 64])\n"
          ]
        }
      ],
      "source": [
        "from sklearn.model_selection import train_test_split\n",
        "from torch.utils.data import TensorDataset\n",
        "from torch.utils.data import DataLoader\n",
        "\n",
        "data_X = torch.stack([d[0] for d in train_data])\n",
        "print(data_X.shape)\n",
        "y = torch.stack([d[1] for d in train_data])\n",
        "data_Y = y.squeeze(-1)\n",
        "'''\n",
        "To create a multi-class label:\n",
        "\n",
        "data_Y = np.zeros((y.shape[0],y.shape[1],2))\n",
        "for i,nodes in enumerate(y):\n",
        "  for j,node in enumerate(nodes):\n",
        "    data_Y[i][j][int(node)] = 1.0\n",
        "data_Y = torch.tensor(data_Y)\n",
        "'''\n",
        "X_train, X_test, y_train, y_test = train_test_split(data_X, data_Y, test_size=0.2, random_state=42)\n",
        "print(X_train.shape)\n",
        "print(y_train.shape)\n",
        "\n",
        "train_dataset = TensorDataset(X_train, y_train)\n",
        "valid_dataset = TensorDataset(X_test, y_test)\n",
        "\n",
        "batch_size = 32\n",
        "train_dataloader = DataLoader(train_dataset, batch_size=batch_size, shuffle=True)\n",
        "valid_dataloader = DataLoader(valid_dataset, batch_size=batch_size, shuffle=False)"
      ]
    },
    {
      "cell_type": "code",
      "source": [
        "def train_eval(net, criterion, optimizer, epoch, train_dataloader, valid_dataloader=None, epochs_to_report=10):\n",
        "  '''\n",
        "  `epochs_to_report`: the number of epochs before reporting progress\n",
        "  '''\n",
        "\n",
        "  train_loss_list = []\n",
        "  train_acc_list = []\n",
        "  test_loss_list = []\n",
        "  test_acc_list = []\n",
        "\n",
        "  for i in range(epoch):\n",
        "      report_progress = (i+1) % epochs_to_report == 0\n",
        "      if report_progress:\n",
        "        print(\"\\n------------------------------------------------------\")\n",
        "        print(\"Epoch {}/{}\".format(i+1,epoch))\n",
        "      \n",
        "      train_loss = 0\n",
        "      train_acc = 0\n",
        "      test_loss = 0\n",
        "      test_acc = 0\n",
        "      \n",
        "      net.train()\n",
        "      for data,label in train_dataloader:\n",
        "          data = data.to(device)\n",
        "          label = label.to(device)\n",
        "          optimizer.zero_grad()\n",
        "          y_pred_prob = net(data)\n",
        "          loss = criterion(y_pred_prob,label)\n",
        "          loss.backward()\n",
        "          optimizer.step()\n",
        "          train_loss += loss.item()\n",
        "          y_pred = torch.round(torch.sigmoid(y_pred_prob))\n",
        "          train_acc += torch.count_nonzero(torch.all(torch.eq(label, y_pred), dim=1)).item() / len(label)\n",
        "      batch_train_loss = train_loss/len(train_dataloader)\n",
        "      batch_train_acc = train_acc/len(train_dataloader)\n",
        "      train_loss_list.append(batch_train_loss)\n",
        "      train_acc_list.append(batch_train_acc)\n",
        "      if report_progress:\n",
        "        print(\"Train_Loss: {:.4f} Train_Acc: {:.4f}\".format(batch_train_loss, batch_train_acc))\n",
        "      \n",
        "      if valid_dataloader is not None:\n",
        "        net.eval()\n",
        "        with torch.no_grad():\n",
        "            for data,label in valid_dataloader:\n",
        "                data = data.to(device)\n",
        "                label = label.to(device)\n",
        "                y_pred_prob = net(data)\n",
        "                loss = criterion(y_pred_prob,label)\n",
        "                test_loss += loss.item()\n",
        "                y_pred = torch.round(torch.sigmoid(y_pred_prob))\n",
        "                test_acc += torch.count_nonzero(torch.all(torch.eq(label, y_pred), dim=1)).item() / len(label)\n",
        "        batch_test_loss = test_loss/len(valid_dataloader)\n",
        "        batch_test_acc = test_acc/len(valid_dataloader)\n",
        "        test_loss_list.append(batch_test_loss)\n",
        "        test_acc_list.append(batch_test_acc)\n",
        "        if report_progress:\n",
        "          print(\"Test_Loss: {:.4f} Test_Acc: {:.4f}\".format(batch_test_loss,batch_test_acc))\n",
        "\n",
        "  # visualizing training process\n",
        "  plt.figure()\n",
        "  plt.title(\"Train and Test Loss\")\n",
        "  plt.xlabel(\"epoch\")\n",
        "  plt.ylabel(\"loss\")\n",
        "  plt.plot(range(1,epoch+1),train_loss_list,color=\"b\",linestyle=\"-\",label=\"train_loss\")\n",
        "  if valid_dataloader is not None:\n",
        "    plt.plot(range(1,epoch+1),test_loss_list,color=\"r\",linestyle=\"--\",label=\"test_loss\")\n",
        "  plt.legend()\n",
        "  plt.figure()\n",
        "  plt.title(\"Train and Test Accuracy\")\n",
        "  plt.xlabel(\"epoch\")\n",
        "  plt.ylabel(\"accuracy\")\n",
        "  plt.plot(range(1,epoch+1),train_acc_list,color=\"b\",linestyle=\"-\",label=\"train_accuracy\")\n",
        "  if valid_dataloader is not None:\n",
        "    plt.plot(range(1,epoch+1),test_acc_list,color=\"r\",linestyle=\"--\",label=\"test_accuracy\")\n",
        "  plt.legend()\n",
        "  plt.show()"
      ],
      "metadata": {
        "id": "A3BrQRHY0vxr"
      },
      "execution_count": 23,
      "outputs": []
    },
    {
      "cell_type": "markdown",
      "metadata": {
        "id": "PFBKyoSc4KGO"
      },
      "source": [
        "## Model architecture examples"
      ]
    },
    {
      "cell_type": "code",
      "execution_count": 24,
      "metadata": {
        "colab": {
          "base_uri": "https://localhost:8080/"
        },
        "id": "I6hNWrU8HH_q",
        "outputId": "c82316b1-aa6d-4b5c-9a92-340b299f37e8"
      },
      "outputs": [
        {
          "output_type": "stream",
          "name": "stdout",
          "text": [
            "cpu\n"
          ]
        }
      ],
      "source": [
        "from torch.nn import Linear, ReLU, BatchNorm1d, Module, Sequential\n",
        "from torch_geometric.nn import GCNConv, MessagePassing\n",
        "from torch_scatter import scatter\n",
        "\n",
        "device = torch.device('cuda' if torch.cuda.is_available() else 'cpu')\n",
        "print(device)"
      ]
    },
    {
      "cell_type": "markdown",
      "metadata": {
        "id": "5jc_7ugma0Rp"
      },
      "source": [
        "### Simple MLP Model"
      ]
    },
    {
      "cell_type": "code",
      "execution_count": null,
      "metadata": {
        "id": "dVTCyxcLX-2N"
      },
      "outputs": [],
      "source": [
        "class SimpleMLP(nn.Module):\n",
        "    # input_dim = dim of node features\n",
        "    def __init__(self, input_dim, hidden_dim=16):\n",
        "      super(SimpleMLP, self).__init__()\n",
        "      self.linear1 = nn.Linear(input_dim, hidden_dim)\n",
        "      self.linear2 = nn.Linear(hidden_dim, hidden_dim)\n",
        "      self.linear3 = nn.Linear(hidden_dim, 1)\n",
        "\n",
        "    def forward(self, x):\n",
        "      x = self.linear1(x)\n",
        "      x = self.linear2(x)\n",
        "      y_hat = self.linear3(x)\n",
        "      y_hat = y_hat.squeeze(-1)\n",
        "      return y_hat"
      ]
    },
    {
      "cell_type": "code",
      "source": [
        "net = SimpleMLP(window_size).to(device)\n",
        "pos_weight = torch.ones([new_num_notes]) * 5\n",
        "criterion = nn.BCEWithLogitsLoss(pos_weight=pos_weight)\n",
        "optimizer = torch.optim.Adam(net.parameters(), lr=0.005)\n",
        "epoch = 10\n",
        "train_eval(net, criterion, optimizer, epoch, train_dataloader, valid_dataloader, epochs_to_report=5)"
      ],
      "metadata": {
        "colab": {
          "base_uri": "https://localhost:8080/",
          "height": 747
        },
        "id": "NZITcnqJ1-h5",
        "outputId": "07ab9d87-3a9a-40f8-80dd-bfdad6c158a6"
      },
      "execution_count": 27,
      "outputs": [
        {
          "output_type": "stream",
          "name": "stdout",
          "text": [
            "\n",
            "------------------------------------------------------\n",
            "Epoch 5/10\n",
            "Train_Loss: 0.1963 Train_Acc: 0.3864\n",
            "Test_Loss: 0.1967 Test_Acc: 0.3702\n",
            "\n",
            "------------------------------------------------------\n",
            "Epoch 10/10\n",
            "Train_Loss: 0.1960 Train_Acc: 0.3871\n",
            "Test_Loss: 0.1967 Test_Acc: 0.4062\n"
          ]
        },
        {
          "output_type": "display_data",
          "data": {
            "text/plain": [
              "<Figure size 432x288 with 1 Axes>"
            ],
            "image/png": "[encoded data removed]"
          },
          "metadata": {
            "needs_background": "light"
          }
        },
        {
          "output_type": "display_data",
          "data": {
            "text/plain": [
              "<Figure size 432x288 with 1 Axes>"
            ],
            "image/png": "[encoded data removed]"
          },
          "metadata": {
            "needs_background": "light"
          }
        }
      ]
    },
    {
      "cell_type": "markdown",
      "metadata": {
        "id": "ick45Vc_a3se"
      },
      "source": [
        "### Multilayer GCN"
      ]
    },
    {
      "cell_type": "code",
      "execution_count": 28,
      "metadata": {
        "id": "f-qX5nB4YJ-F"
      },
      "outputs": [],
      "source": [
        "class MultiGCN(nn.Module):\n",
        "    # input_dim = dim of node features\n",
        "    # output_dim = number of class which is ON/OFF\n",
        "    def __init__(self, adj_mat, input_dim, hidden_dim=8, output_dim=2):\n",
        "        super(MultiGCN, self).__init__()\n",
        "        self.adj_mat = adj_mat\n",
        "        self.edge_index = self.adj_mat.to_sparse().indices().to(device)\n",
        "        \n",
        "        # GCN layers\n",
        "        self.linear1 = nn.Linear(input_dim, hidden_dim)\n",
        "        self.linear2 = nn.Linear(hidden_dim, hidden_dim)\n",
        "        self.gcn_conv1 = GCNConv(hidden_dim,hidden_dim, improved=True)\n",
        "        self.gcn_conv2 = GCNConv(hidden_dim,hidden_dim, improved=False)\n",
        "        self.linear3 = nn.Linear(hidden_dim, hidden_dim)\n",
        "        self.linear4 = nn.Linear(hidden_dim, output_dim)\n",
        "\n",
        "    def forward(self, x):\n",
        "        x = F.relu(self.linear1(x))\n",
        "        x = F.relu(self.linear2(x))\n",
        "        x = F.relu(self.gcn_conv1(x,self.edge_index))\n",
        "        x = F.relu(self.gcn_conv2(x,self.edge_index))\n",
        "        x = F.relu(self.linear3(x))\n",
        "        x = self.linear4(x)\n",
        "        y_hat = x.squeeze(-1)\n",
        "        return y_hat"
      ]
    },
    {
      "cell_type": "code",
      "execution_count": 29,
      "metadata": {
        "colab": {
          "base_uri": "https://localhost:8080/",
          "height": 712
        },
        "id": "y06Go4KDYY8B",
        "outputId": "43ae1872-9cc5-4291-e779-ad04dd19c170"
      },
      "outputs": [
        {
          "output_type": "stream",
          "name": "stdout",
          "text": [
            "\n",
            "------------------------------------------------------\n",
            "Epoch 5/10\n",
            "Train_Loss: 0.1864 Train_Acc: 0.3492\n",
            "\n",
            "------------------------------------------------------\n",
            "Epoch 10/10\n",
            "Train_Loss: 0.1846 Train_Acc: 0.3530\n"
          ]
        },
        {
          "output_type": "display_data",
          "data": {
            "text/plain": [
              "<Figure size 432x288 with 1 Axes>"
            ],
            "image/png": "[encoded data removed]"
          },
          "metadata": {
            "needs_background": "light"
          }
        },
        {
          "output_type": "display_data",
          "data": {
            "text/plain": [
              "<Figure size 432x288 with 1 Axes>"
            ],
            "image/png": "[encoded data removed]"
          },
          "metadata": {
            "needs_background": "light"
          }
        }
      ],
      "source": [
        "net = MultiGCN(A, window_size, output_dim=1).to(device)\n",
        "pos_weight = torch.ones([new_num_notes]) * 5\n",
        "criterion = nn.BCEWithLogitsLoss(pos_weight=pos_weight)\n",
        "optimizer = torch.optim.Adam(net.parameters(), lr=0.005)\n",
        "epoch = 10\n",
        "\n",
        "train_eval(net, criterion, optimizer, epoch, train_dataloader, valid_dataloader=None, epochs_to_report=5)"
      ]
    },
    {
      "cell_type": "markdown",
      "source": [
        "### Message Passing Neural Network (MPNN)"
      ],
      "metadata": {
        "id": "7GWJgIWAuGj0"
      }
    },
    {
      "cell_type": "code",
      "execution_count": 30,
      "metadata": {
        "id": "cSPI5YBha7fc"
      },
      "outputs": [],
      "source": [
        "class MPNNLayer(MessagePassing):\n",
        "    def __init__(self, emb_dim=64, edge_dim=6, aggr='add'):\n",
        "        \"\"\"Message Passing Neural Network Layer\n",
        "\n",
        "        Args:\n",
        "            emb_dim: (int) - hidden dimension `d`\n",
        "            aggr: (str) - aggregation function `\\oplus` (sum/mean/max)\n",
        "        \"\"\"\n",
        "        # Set the aggregation function\n",
        "        super().__init__(aggr=aggr)\n",
        "\n",
        "        self.emb_dim = emb_dim\n",
        "\n",
        "        # MLP `\\psi` for computing messages `m_ij`\n",
        "        # dims: (2d + d_e) -> d\n",
        "        #self.mlp_msg = Sequential(\n",
        "        #    Linear(2*emb_dim, emb_dim), BatchNorm1d(emb_dim), ReLU(),\n",
        "        #    Linear(emb_dim, emb_dim), BatchNorm1d(emb_dim), ReLU()\n",
        "        #  )\n",
        "        self.mlp_msg = Sequential(Linear(2*emb_dim + edge_dim, emb_dim), ReLU(), Linear(emb_dim, emb_dim), ReLU())\n",
        "        \n",
        "        # MLP `\\phi` for computing updated node features `h_i^{l+1}`\n",
        "        # dims: 2d -> d\n",
        "        #self.mlp_upd = Sequential(\n",
        "        #    Linear(2*emb_dim, emb_dim), BatchNorm1d(emb_dim), ReLU(), \n",
        "        #    Linear(emb_dim, emb_dim), BatchNorm1d(emb_dim), ReLU()\n",
        "        #  )\n",
        "        self.mlp_upd = Sequential(Linear(2*emb_dim, emb_dim), ReLU(), Linear(emb_dim, emb_dim), ReLU())\n",
        "\n",
        "    def forward(self, h, edge_index, edge_attr):\n",
        "        \"\"\"\n",
        "        Args:\n",
        "            h: (n, d) - initial node features\n",
        "            edge_index: (e, 2) - pairs of edges (i, j)\n",
        "            edge_attr: (e, d_e) - edge features\n",
        "\n",
        "        Returns:\n",
        "            out: (n, d) - updated node features\n",
        "        \"\"\"\n",
        "        out = self.propagate(edge_index, h=h, edge_attr=edge_attr)\n",
        "        return out\n",
        "\n",
        "    def message(self, h_i, h_j, edge_attr):\n",
        "        \"\"\"\n",
        "        Args:\n",
        "            h_i: (e, d) - destination node features, essentially h[edge_index[0]]\n",
        "            h_j: (e, d) - source node features, essentially h[edge_index[1]]\n",
        "        \n",
        "        Returns:\n",
        "            msg: (e, d) - messages `m_ij` passed through MLP `\\psi`\n",
        "        \"\"\"\n",
        "        if len(h_i.shape) == 3:\n",
        "          # First dimension is batch size, repeat (i.e. tile) edge_attr\n",
        "          edge_attr = edge_attr.repeat(h_i.shape[0], 1, 1)\n",
        "        msg = torch.cat([h_i, h_j, edge_attr], dim=-1)\n",
        "        return self.mlp_msg(msg)\n",
        "    \n",
        "    def aggregate(self, inputs, index):\n",
        "        \"\"\"\n",
        "        Args:\n",
        "            inputs: (e, d) - messages `m_ij` from destination to source nodes\n",
        "            index: (e, 1) - list of source nodes for each edge/message in `input`\n",
        "\n",
        "        Returns:\n",
        "            aggr_out: (n, d) - aggregated messages `m_i`\n",
        "        \"\"\"\n",
        "        return scatter(inputs, index, dim=self.node_dim, reduce=self.aggr)\n",
        "    \n",
        "    def update(self, aggr_out, h):\n",
        "        \"\"\"\n",
        "        Args:\n",
        "            aggr_out: (n, d) - aggregated messages `m_i`\n",
        "            h: (n, d) - initial node features\n",
        "\n",
        "        Returns:\n",
        "            upd_out: (n, d) - updated node features passed through MLP `\\phi`\n",
        "        \"\"\"\n",
        "        upd_out = torch.cat([h, aggr_out], dim=-1)\n",
        "        return self.mlp_upd(upd_out)\n",
        "\n",
        "    def __repr__(self) -> str:\n",
        "        return (f'{self.__class__.__name__}(emb_dim={self.emb_dim}, aggr={self.aggr})')\n",
        "\n",
        "class MPNNModel(nn.Module):\n",
        "  def __init__(self, A, edge_attr, in_dim, num_layers=4, emb_dim=64, out_dim=1):\n",
        "        \"\"\"Message Passing Neural Network model for graph property prediction\n",
        "\n",
        "        Args:\n",
        "            in_dim: (int) - initial node feature dimension `d_n`\n",
        "            num_layers: (int) - number of message passing layers `L`\n",
        "            emb_dim: (int) - hidden dimension `d`\n",
        "            out_dim: (int) - output dimension (fixed to 1)\n",
        "        \"\"\"\n",
        "        super().__init__()\n",
        "        \n",
        "        self.edge_index = A.to_sparse().indices().to(device)\n",
        "        self.edge_attr = edge_attr\n",
        "        self.edge_dim = self.edge_attr.shape[1]\n",
        "\n",
        "        # Linear projection for initial node features\n",
        "        # dim: d_n -> d\n",
        "        self.lin_in1 = Linear(in_dim, emb_dim)\n",
        "        self.lin_in2 = Linear(emb_dim, emb_dim)\n",
        "        \n",
        "        # Stack of MPNN layers\n",
        "        self.convs = torch.nn.ModuleList()\n",
        "        for layer in range(num_layers):\n",
        "            self.convs.append(MPNNLayer(emb_dim, self.edge_dim, aggr='add'))\n",
        "\n",
        "        # Linear prediction head\n",
        "        # dim: d -> out_dim\n",
        "        self.lin_pred1 = Linear(emb_dim, emb_dim)\n",
        "        self.lin_pred2 = Linear(emb_dim, out_dim)\n",
        "        \n",
        "  def forward(self, x):\n",
        "      \"\"\"\n",
        "      Args:\n",
        "          data: (PyG.Data) - batch of PyG graphs\n",
        "\n",
        "      Returns: \n",
        "          out: (batch_size, out_dim) - prediction for each graph\n",
        "      \"\"\"\n",
        "      h = F.relu(self.lin_in1(x))\n",
        "      h = F.relu(self.lin_in2(h))\n",
        "      \n",
        "      for conv in self.convs:\n",
        "          #h = h + conv(h, self.edge_index)\n",
        "          h = conv(h, self.edge_index, self.edge_attr)\n",
        "\n",
        "      h = F.relu(self.lin_pred1(h))\n",
        "      out = self.lin_pred2(h)\n",
        "      return out.squeeze(-1)"
      ]
    },
    {
      "cell_type": "code",
      "source": [
        "mpnn_net = MPNNModel(A, edge_attr, in_dim=window_size, num_layers=4, emb_dim=32, out_dim=1).to(device)\n",
        "pos_weight = torch.ones([new_num_notes]) * 3\n",
        "criterion = nn.BCEWithLogitsLoss(pos_weight=pos_weight)\n",
        "optimizer = torch.optim.Adam(mpnn_net.parameters(), lr=0.005)\n",
        "epoch = 10\n",
        "\n",
        "train_eval(mpnn_net, criterion, optimizer, epoch, train_dataloader, valid_dataloader, epochs_to_report=2)"
      ],
      "metadata": {
        "colab": {
          "base_uri": "https://localhost:8080/",
          "height": 1000
        },
        "id": "4LIikosg4-7w",
        "outputId": "6eea41b1-e4df-4200-859d-0255c58b4b8d"
      },
      "execution_count": 31,
      "outputs": [
        {
          "output_type": "stream",
          "name": "stdout",
          "text": [
            "\n",
            "------------------------------------------------------\n",
            "Epoch 2/10\n",
            "Train_Loss: 0.1223 Train_Acc: 0.4200\n",
            "Test_Loss: 0.1217 Test_Acc: 0.4188\n",
            "\n",
            "------------------------------------------------------\n",
            "Epoch 4/10\n",
            "Train_Loss: 0.1198 Train_Acc: 0.4222\n",
            "Test_Loss: 0.1199 Test_Acc: 0.4306\n",
            "\n",
            "------------------------------------------------------\n",
            "Epoch 6/10\n",
            "Train_Loss: 0.1190 Train_Acc: 0.4237\n",
            "Test_Loss: 0.1193 Test_Acc: 0.4315\n",
            "\n",
            "------------------------------------------------------\n",
            "Epoch 8/10\n",
            "Train_Loss: 0.1184 Train_Acc: 0.4245\n",
            "Test_Loss: 0.1189 Test_Acc: 0.4245\n",
            "\n",
            "------------------------------------------------------\n",
            "Epoch 10/10\n",
            "Train_Loss: 0.1176 Train_Acc: 0.4255\n",
            "Test_Loss: 0.1222 Test_Acc: 0.4308\n"
          ]
        },
        {
          "output_type": "display_data",
          "data": {
            "text/plain": [
              "<Figure size 432x288 with 1 Axes>"
            ],
            "image/png": "[encoded data removed]"
          },
          "metadata": {
            "needs_background": "light"
          }
        },
        {
          "output_type": "display_data",
          "data": {
            "text/plain": [
              "<Figure size 432x288 with 1 Axes>"
            ],
            "image/png": "[encoded data removed]"
          },
          "metadata": {
            "needs_background": "light"
          }
        }
      ]
    },
    {
      "cell_type": "markdown",
      "source": [
        "## Music Generation"
      ],
      "metadata": {
        "id": "N3gU7GovuUQD"
      }
    },
    {
      "cell_type": "code",
      "source": [
        "#@title Functions to generate music tensors from a model and save as a Wav file\n",
        "\n",
        "def generate_music_tensor(net, seed, timesteps):\n",
        "  generated = seed\n",
        "  window_size = seed.shape[1]\n",
        "  for i in range(timesteps):\n",
        "    if i == 0:\n",
        "      pred = net(seed)\n",
        "    else:\n",
        "      pred = net(generated[:, -window_size:])\n",
        "    curr = (torch.sigmoid(pred) > 0.5).float()\n",
        "    generated = torch.cat((generated, curr.unsqueeze(1)), dim=1)\n",
        "  return generated\n",
        "\n",
        "def create_music(model, seed, new_timesteps, start_note, end_note, orig_tpb, compressed_tpb, sf2_path):\n",
        "  generated_tensor = generate_music_tensor(model, seed, new_timesteps)\n",
        "  generated_tensor_mod = unreduce_tensor(torch.transpose(generated_tensor, 0, 1), start_note, end_note)\n",
        "  generated_tensor_mod = uncompress_tensor(generated_tensor_mod, orig_tpb, compressed_tpb)\n",
        "\n",
        "  time_now = datetime.now().strftime(\"%Y%m%dT%H%M%S\")\n",
        "  generated_file_name = f\"GNN_Generated_Song_{time_now}\"\n",
        "  midi_filename = f'{generated_file_name}.midi'\n",
        "  wav_filename = f'{generated_file_name}.wav'\n",
        "\n",
        "  mid = tensor_to_midi(generated_tensor_mod, midi_filename, orig_tpb, binary_velocity=True)\n",
        "  midi_to_wav(midi_filename, sf2_path, wav_filename)\n",
        "  return generated_tensor"
      ],
      "metadata": {
        "cellView": "form",
        "id": "RgY8_4SyuVyk"
      },
      "execution_count": null,
      "outputs": []
    },
    {
      "cell_type": "code",
      "source": [
        "new_timesteps = 256\n",
        "orig_tpb = 384\n",
        "compressed_tpb = desired_tpb\n",
        "sf2_path = '/content/drive/MyDrive/L45/FluidR3_GM.sf2'\n",
        "\n",
        "data, _ = next(iter(valid_dataloader))\n",
        "seed = data[0]\n",
        "generated = create_music(mpnn_net, seed, new_timesteps, start_note, end_note, orig_tpb, compressed_tpb, sf2_path)\n",
        "print(generated.shape)\n",
        "plt.plot(torch.transpose(generated, 0, 1).cpu().detach().numpy())\n",
        "plt.show()"
      ],
      "metadata": {
        "id": "sEnKWVefvcCq"
      },
      "execution_count": null,
      "outputs": []
    }
  ],
  "metadata": {
    "colab": {
      "provenance": [],
      "include_colab_link": true
    },
    "gpuClass": "standard",
    "kernelspec": {
      "display_name": "Python 3",
      "name": "python3"
    },
    "language_info": {
      "name": "python"
    }
  },
  "nbformat": 4,
  "nbformat_minor": 0
}