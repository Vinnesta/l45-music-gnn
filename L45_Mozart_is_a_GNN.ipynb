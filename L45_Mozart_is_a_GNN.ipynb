{
  "nbformat": 4,
  "nbformat_minor": 0,
  "metadata": {
    "colab": {
      "provenance": []
    },
    "kernelspec": {
      "name": "python3",
      "display_name": "Python 3"
    },
    "language_info": {
      "name": "python"
    }
  },
  "cells": [
    {
      "cell_type": "code",
      "execution_count": null,
      "metadata": {
        "id": "QnjLXHGwIcKx"
      },
      "outputs": [],
      "source": [
        "# install packages\n",
        "!pip"
      ]
    },
    {
      "cell_type": "code",
      "source": [
        "print(\"A\")"
      ],
      "metadata": {
        "id": "vCHY6opiI_wG",
        "outputId": "b76aab2c-dd23-4f8e-960f-8f7e8ed40964",
        "colab": {
          "base_uri": "https://localhost:8080/"
        }
      },
      "execution_count": null,
      "outputs": [
        {
          "output_type": "stream",
          "name": "stdout",
          "text": [
            "A\n"
          ]
        }
      ]
    },
    {
      "cell_type": "code",
      "source": [
        "print('B')"
      ],
      "metadata": {
        "id": "eckblXVrJUFA",
        "outputId": "a49c17f1-1a3d-4f84-e23d-5c530ed6b0be",
        "colab": {
          "base_uri": "https://localhost:8080/"
        }
      },
      "execution_count": null,
      "outputs": [
        {
          "output_type": "stream",
          "name": "stdout",
          "text": [
            "B\n"
          ]
        }
      ]
    },
    {
      "cell_type": "code",
      "source": [
        "print(1)"
      ],
      "metadata": {
        "id": "0V3TqelFJU8_",
        "colab": {
          "base_uri": "https://localhost:8080/"
        },
        "outputId": "40d1459b-7921-4548-a540-abad0309fb75"
      },
      "execution_count": null,
      "outputs": [
        {
          "output_type": "stream",
          "name": "stdout",
          "text": [
            "1\n"
          ]
        }
      ]
    }
  ]
}